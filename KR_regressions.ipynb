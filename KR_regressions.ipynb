{
 "cells": [
  {
   "cell_type": "code",
   "execution_count": 1,
   "id": "6a598cf8",
   "metadata": {
    "ExecuteTime": {
     "end_time": "2022-06-18T06:49:48.219846Z",
     "start_time": "2022-06-18T06:49:37.525792Z"
    }
   },
   "outputs": [],
   "source": [
    "import pandas as pd\n",
    "import numpy as np\n",
    "import matplotlib.pyplot as plt\n",
    "import seaborn as sns\n",
    "%matplotlib inline\n",
    "sns.set(style=\"darkgrid\")\n",
    "\n",
    "import statsmodels.api as sm"
   ]
  },
  {
   "cell_type": "markdown",
   "id": "22a81826",
   "metadata": {},
   "source": [
    "https://www.statbureau.org/ru/russia/cpi"
   ]
  },
  {
   "cell_type": "code",
   "execution_count": 2,
   "id": "e71863f5",
   "metadata": {
    "ExecuteTime": {
     "end_time": "2022-06-18T06:49:48.266404Z",
     "start_time": "2022-06-18T06:49:48.226864Z"
    }
   },
   "outputs": [],
   "source": [
    "ipc = pd.read_csv('cpi.csv', index_col=0,encoding='utf-8')"
   ]
  },
  {
   "cell_type": "code",
   "execution_count": 3,
   "id": "ef828fb3",
   "metadata": {
    "ExecuteTime": {
     "end_time": "2022-06-18T06:49:48.391568Z",
     "start_time": "2022-06-18T06:49:48.277058Z"
    }
   },
   "outputs": [
    {
     "data": {
      "text/html": [
       "<div>\n",
       "<style scoped>\n",
       "    .dataframe tbody tr th:only-of-type {\n",
       "        vertical-align: middle;\n",
       "    }\n",
       "\n",
       "    .dataframe tbody tr th {\n",
       "        vertical-align: top;\n",
       "    }\n",
       "\n",
       "    .dataframe thead th {\n",
       "        text-align: right;\n",
       "    }\n",
       "</style>\n",
       "<table border=\"1\" class=\"dataframe\">\n",
       "  <thead>\n",
       "    <tr style=\"text-align: right;\">\n",
       "      <th></th>\n",
       "      <th>Январь</th>\n",
       "      <th>Февраль</th>\n",
       "      <th>Март</th>\n",
       "      <th>Апрель</th>\n",
       "      <th>Май</th>\n",
       "      <th>Июнь</th>\n",
       "      <th>Июль</th>\n",
       "      <th>Август</th>\n",
       "      <th>Сентябрь</th>\n",
       "      <th>Октябрь</th>\n",
       "      <th>Ноябрь</th>\n",
       "      <th>Декабрь</th>\n",
       "    </tr>\n",
       "    <tr>\n",
       "      <th>Год</th>\n",
       "      <th></th>\n",
       "      <th></th>\n",
       "      <th></th>\n",
       "      <th></th>\n",
       "      <th></th>\n",
       "      <th></th>\n",
       "      <th></th>\n",
       "      <th></th>\n",
       "      <th></th>\n",
       "      <th></th>\n",
       "      <th></th>\n",
       "      <th></th>\n",
       "    </tr>\n",
       "  </thead>\n",
       "  <tbody>\n",
       "    <tr>\n",
       "      <th>2013</th>\n",
       "      <td>NaN</td>\n",
       "      <td>NaN</td>\n",
       "      <td>NaN</td>\n",
       "      <td>NaN</td>\n",
       "      <td>NaN</td>\n",
       "      <td>NaN</td>\n",
       "      <td>NaN</td>\n",
       "      <td>NaN</td>\n",
       "      <td>100.21</td>\n",
       "      <td>100.57</td>\n",
       "      <td>100.56</td>\n",
       "      <td>100.51</td>\n",
       "    </tr>\n",
       "    <tr>\n",
       "      <th>2014</th>\n",
       "      <td>100.59</td>\n",
       "      <td>100.70</td>\n",
       "      <td>101.02</td>\n",
       "      <td>100.90</td>\n",
       "      <td>100.90</td>\n",
       "      <td>100.62</td>\n",
       "      <td>100.49</td>\n",
       "      <td>100.24</td>\n",
       "      <td>100.65</td>\n",
       "      <td>100.82</td>\n",
       "      <td>101.28</td>\n",
       "      <td>102.62</td>\n",
       "    </tr>\n",
       "    <tr>\n",
       "      <th>2015</th>\n",
       "      <td>103.85</td>\n",
       "      <td>102.22</td>\n",
       "      <td>101.21</td>\n",
       "      <td>100.46</td>\n",
       "      <td>100.35</td>\n",
       "      <td>100.19</td>\n",
       "      <td>100.80</td>\n",
       "      <td>100.35</td>\n",
       "      <td>100.57</td>\n",
       "      <td>100.74</td>\n",
       "      <td>100.75</td>\n",
       "      <td>100.77</td>\n",
       "    </tr>\n",
       "    <tr>\n",
       "      <th>2016</th>\n",
       "      <td>100.96</td>\n",
       "      <td>100.63</td>\n",
       "      <td>100.46</td>\n",
       "      <td>100.44</td>\n",
       "      <td>100.41</td>\n",
       "      <td>100.36</td>\n",
       "      <td>100.54</td>\n",
       "      <td>100.01</td>\n",
       "      <td>100.17</td>\n",
       "      <td>100.43</td>\n",
       "      <td>100.44</td>\n",
       "      <td>100.40</td>\n",
       "    </tr>\n",
       "    <tr>\n",
       "      <th>2017</th>\n",
       "      <td>100.62</td>\n",
       "      <td>100.22</td>\n",
       "      <td>100.13</td>\n",
       "      <td>100.33</td>\n",
       "      <td>100.37</td>\n",
       "      <td>100.61</td>\n",
       "      <td>100.07</td>\n",
       "      <td>99.46</td>\n",
       "      <td>99.85</td>\n",
       "      <td>100.20</td>\n",
       "      <td>100.22</td>\n",
       "      <td>100.42</td>\n",
       "    </tr>\n",
       "    <tr>\n",
       "      <th>2018</th>\n",
       "      <td>100.31</td>\n",
       "      <td>100.21</td>\n",
       "      <td>100.29</td>\n",
       "      <td>100.38</td>\n",
       "      <td>100.38</td>\n",
       "      <td>100.49</td>\n",
       "      <td>100.27</td>\n",
       "      <td>100.01</td>\n",
       "      <td>100.16</td>\n",
       "      <td>100.35</td>\n",
       "      <td>100.50</td>\n",
       "      <td>100.84</td>\n",
       "    </tr>\n",
       "    <tr>\n",
       "      <th>2019</th>\n",
       "      <td>101.01</td>\n",
       "      <td>100.44</td>\n",
       "      <td>100.32</td>\n",
       "      <td>100.29</td>\n",
       "      <td>100.34</td>\n",
       "      <td>100.04</td>\n",
       "      <td>100.20</td>\n",
       "      <td>99.76</td>\n",
       "      <td>99.84</td>\n",
       "      <td>100.13</td>\n",
       "      <td>100.28</td>\n",
       "      <td>100.36</td>\n",
       "    </tr>\n",
       "    <tr>\n",
       "      <th>2020</th>\n",
       "      <td>100.40</td>\n",
       "      <td>100.33</td>\n",
       "      <td>100.55</td>\n",
       "      <td>100.83</td>\n",
       "      <td>100.27</td>\n",
       "      <td>100.22</td>\n",
       "      <td>100.35</td>\n",
       "      <td>99.96</td>\n",
       "      <td>99.93</td>\n",
       "      <td>100.43</td>\n",
       "      <td>100.71</td>\n",
       "      <td>100.83</td>\n",
       "    </tr>\n",
       "    <tr>\n",
       "      <th>2021</th>\n",
       "      <td>100.67</td>\n",
       "      <td>100.78</td>\n",
       "      <td>100.66</td>\n",
       "      <td>100.58</td>\n",
       "      <td>100.74</td>\n",
       "      <td>100.69</td>\n",
       "      <td>100.31</td>\n",
       "      <td>100.17</td>\n",
       "      <td>100.60</td>\n",
       "      <td>101.11</td>\n",
       "      <td>100.96</td>\n",
       "      <td>100.82</td>\n",
       "    </tr>\n",
       "    <tr>\n",
       "      <th>2022</th>\n",
       "      <td>100.99</td>\n",
       "      <td>101.17</td>\n",
       "      <td>107.61</td>\n",
       "      <td>101.56</td>\n",
       "      <td>100.12</td>\n",
       "      <td>NaN</td>\n",
       "      <td>NaN</td>\n",
       "      <td>NaN</td>\n",
       "      <td>NaN</td>\n",
       "      <td>NaN</td>\n",
       "      <td>NaN</td>\n",
       "      <td>NaN</td>\n",
       "    </tr>\n",
       "  </tbody>\n",
       "</table>\n",
       "</div>"
      ],
      "text/plain": [
       "       Январь   Февраль    Март   Апрель     Май    Июнь    Июль   Август  \\\n",
       "Год                                                                         \n",
       "2013      NaN       NaN     NaN      NaN     NaN     NaN     NaN      NaN   \n",
       "2014   100.59    100.70  101.02   100.90  100.90  100.62  100.49   100.24   \n",
       "2015   103.85    102.22  101.21   100.46  100.35  100.19  100.80   100.35   \n",
       "2016   100.96    100.63  100.46   100.44  100.41  100.36  100.54   100.01   \n",
       "2017   100.62    100.22  100.13   100.33  100.37  100.61  100.07    99.46   \n",
       "2018   100.31    100.21  100.29   100.38  100.38  100.49  100.27   100.01   \n",
       "2019   101.01    100.44  100.32   100.29  100.34  100.04  100.20    99.76   \n",
       "2020   100.40    100.33  100.55   100.83  100.27  100.22  100.35    99.96   \n",
       "2021   100.67    100.78  100.66   100.58  100.74  100.69  100.31   100.17   \n",
       "2022   100.99    101.17  107.61   101.56  100.12     NaN     NaN      NaN   \n",
       "\n",
       "       Сентябрь   Октябрь   Ноябрь   Декабрь  \n",
       "Год                                           \n",
       "2013     100.21    100.57   100.56    100.51  \n",
       "2014     100.65    100.82   101.28    102.62  \n",
       "2015     100.57    100.74   100.75    100.77  \n",
       "2016     100.17    100.43   100.44    100.40  \n",
       "2017      99.85    100.20   100.22    100.42  \n",
       "2018     100.16    100.35   100.50    100.84  \n",
       "2019      99.84    100.13   100.28    100.36  \n",
       "2020      99.93    100.43   100.71    100.83  \n",
       "2021     100.60    101.11   100.96    100.82  \n",
       "2022        NaN       NaN      NaN       NaN  "
      ]
     },
     "execution_count": 3,
     "metadata": {},
     "output_type": "execute_result"
    }
   ],
   "source": [
    "ipc.iloc[0, :8] = np.nan\n",
    "ipc"
   ]
  },
  {
   "cell_type": "code",
   "execution_count": 4,
   "id": "9a5a2bd9",
   "metadata": {
    "ExecuteTime": {
     "end_time": "2022-06-18T06:49:48.439192Z",
     "start_time": "2022-06-18T06:49:48.400564Z"
    }
   },
   "outputs": [
    {
     "data": {
      "text/plain": [
       "Год            \n",
       "2013   Сентябрь    100.21\n",
       "       Октябрь     100.57\n",
       "       Ноябрь      100.56\n",
       "       Декабрь     100.51\n",
       "2014   Январь      100.59\n",
       "                    ...  \n",
       "2022   Январь      100.99\n",
       "       Февраль     101.17\n",
       "       Март        107.61\n",
       "       Апрель      101.56\n",
       "       Май         100.12\n",
       "Length: 105, dtype: float64"
      ]
     },
     "execution_count": 4,
     "metadata": {},
     "output_type": "execute_result"
    }
   ],
   "source": [
    "ipc_stacked = ipc.stack()\n",
    "ipc_stacked"
   ]
  },
  {
   "cell_type": "markdown",
   "id": "b3b47915",
   "metadata": {},
   "source": [
    "https://cbr.ru/hd_base/infl/?UniDbQuery.Posted=True&UniDbQuery.From=17.09.2013&UniDbQuery.To=15.06.2022"
   ]
  },
  {
   "cell_type": "code",
   "execution_count": 5,
   "id": "f8f7b215",
   "metadata": {
    "ExecuteTime": {
     "end_time": "2022-06-18T06:49:48.485325Z",
     "start_time": "2022-06-18T06:49:48.446138Z"
    }
   },
   "outputs": [],
   "source": [
    "key_and_inflat = pd.read_csv('inflat_and_keyrate.csv', sep=';',\n",
    "            usecols=[0, 1, 2], dtype={'Дата': np.object_}, decimal=',').set_index('Дата')\n",
    "key_and_inflat['ИПЦ, % к предыд. мес.'] = ipc_stacked.values[::-1]"
   ]
  },
  {
   "cell_type": "code",
   "execution_count": 6,
   "id": "a4e732bf",
   "metadata": {
    "ExecuteTime": {
     "end_time": "2022-06-18T06:49:48.517537Z",
     "start_time": "2022-06-18T06:49:48.493304Z"
    }
   },
   "outputs": [],
   "source": [
    "key_and_inflat = key_and_inflat[::-1]"
   ]
  },
  {
   "cell_type": "code",
   "execution_count": 7,
   "id": "51d69399",
   "metadata": {
    "ExecuteTime": {
     "end_time": "2022-06-18T06:49:48.594644Z",
     "start_time": "2022-06-18T06:49:48.526997Z"
    }
   },
   "outputs": [
    {
     "data": {
      "text/html": [
       "<div>\n",
       "<style scoped>\n",
       "    .dataframe tbody tr th:only-of-type {\n",
       "        vertical-align: middle;\n",
       "    }\n",
       "\n",
       "    .dataframe tbody tr th {\n",
       "        vertical-align: top;\n",
       "    }\n",
       "\n",
       "    .dataframe thead th {\n",
       "        text-align: right;\n",
       "    }\n",
       "</style>\n",
       "<table border=\"1\" class=\"dataframe\">\n",
       "  <thead>\n",
       "    <tr style=\"text-align: right;\">\n",
       "      <th></th>\n",
       "      <th>Ключевая ставка, % годовых</th>\n",
       "      <th>Инфляция, % г/г</th>\n",
       "      <th>ИПЦ, % к предыд. мес.</th>\n",
       "    </tr>\n",
       "    <tr>\n",
       "      <th>Дата</th>\n",
       "      <th></th>\n",
       "      <th></th>\n",
       "      <th></th>\n",
       "    </tr>\n",
       "  </thead>\n",
       "  <tbody>\n",
       "    <tr>\n",
       "      <th>09.2013</th>\n",
       "      <td>5.5</td>\n",
       "      <td>6.14</td>\n",
       "      <td>100.21</td>\n",
       "    </tr>\n",
       "    <tr>\n",
       "      <th>10.2013</th>\n",
       "      <td>5.5</td>\n",
       "      <td>6.27</td>\n",
       "      <td>100.57</td>\n",
       "    </tr>\n",
       "    <tr>\n",
       "      <th>11.2013</th>\n",
       "      <td>5.5</td>\n",
       "      <td>6.50</td>\n",
       "      <td>100.56</td>\n",
       "    </tr>\n",
       "    <tr>\n",
       "      <th>12.2013</th>\n",
       "      <td>5.5</td>\n",
       "      <td>6.47</td>\n",
       "      <td>100.51</td>\n",
       "    </tr>\n",
       "    <tr>\n",
       "      <th>01.2014</th>\n",
       "      <td>5.5</td>\n",
       "      <td>6.07</td>\n",
       "      <td>100.59</td>\n",
       "    </tr>\n",
       "    <tr>\n",
       "      <th>...</th>\n",
       "      <td>...</td>\n",
       "      <td>...</td>\n",
       "      <td>...</td>\n",
       "    </tr>\n",
       "    <tr>\n",
       "      <th>01.2022</th>\n",
       "      <td>8.5</td>\n",
       "      <td>8.73</td>\n",
       "      <td>100.99</td>\n",
       "    </tr>\n",
       "    <tr>\n",
       "      <th>02.2022</th>\n",
       "      <td>20.0</td>\n",
       "      <td>9.15</td>\n",
       "      <td>101.17</td>\n",
       "    </tr>\n",
       "    <tr>\n",
       "      <th>03.2022</th>\n",
       "      <td>20.0</td>\n",
       "      <td>16.69</td>\n",
       "      <td>107.61</td>\n",
       "    </tr>\n",
       "    <tr>\n",
       "      <th>04.2022</th>\n",
       "      <td>17.0</td>\n",
       "      <td>17.83</td>\n",
       "      <td>101.56</td>\n",
       "    </tr>\n",
       "    <tr>\n",
       "      <th>05.2022</th>\n",
       "      <td>11.0</td>\n",
       "      <td>17.10</td>\n",
       "      <td>100.12</td>\n",
       "    </tr>\n",
       "  </tbody>\n",
       "</table>\n",
       "<p>105 rows × 3 columns</p>\n",
       "</div>"
      ],
      "text/plain": [
       "         Ключевая ставка, % годовых  Инфляция, % г/г  ИПЦ, % к предыд. мес.\n",
       "Дата                                                                       \n",
       "09.2013                         5.5             6.14                 100.21\n",
       "10.2013                         5.5             6.27                 100.57\n",
       "11.2013                         5.5             6.50                 100.56\n",
       "12.2013                         5.5             6.47                 100.51\n",
       "01.2014                         5.5             6.07                 100.59\n",
       "...                             ...              ...                    ...\n",
       "01.2022                         8.5             8.73                 100.99\n",
       "02.2022                        20.0             9.15                 101.17\n",
       "03.2022                        20.0            16.69                 107.61\n",
       "04.2022                        17.0            17.83                 101.56\n",
       "05.2022                        11.0            17.10                 100.12\n",
       "\n",
       "[105 rows x 3 columns]"
      ]
     },
     "execution_count": 7,
     "metadata": {},
     "output_type": "execute_result"
    }
   ],
   "source": [
    "key_and_inflat"
   ]
  },
  {
   "cell_type": "code",
   "execution_count": 9,
   "id": "2bbcf734",
   "metadata": {
    "ExecuteTime": {
     "end_time": "2022-06-18T06:50:08.664202Z",
     "start_time": "2022-06-18T06:50:08.628678Z"
    }
   },
   "outputs": [
    {
     "data": {
      "text/plain": [
       "[1,\n",
       " 1.0021,\n",
       " 1.0078,\n",
       " 1.0134,\n",
       " 1.0186,\n",
       " 1.0246,\n",
       " 1.0318,\n",
       " 1.0423,\n",
       " 1.0517,\n",
       " 1.0612,\n",
       " 1.0678,\n",
       " 1.073,\n",
       " 1.0756,\n",
       " 1.0826,\n",
       " 1.0915,\n",
       " 1.1055,\n",
       " 1.1345,\n",
       " 1.1782,\n",
       " 1.2044,\n",
       " 1.219,\n",
       " 1.2246,\n",
       " 1.2289,\n",
       " 1.2312,\n",
       " 1.241,\n",
       " 1.2453,\n",
       " 1.2524,\n",
       " 1.2617,\n",
       " 1.2712,\n",
       " 1.281,\n",
       " 1.2933,\n",
       " 1.3014,\n",
       " 1.3074,\n",
       " 1.3132,\n",
       " 1.3186,\n",
       " 1.3233,\n",
       " 1.3304,\n",
       " 1.3305,\n",
       " 1.3328,\n",
       " 1.3385,\n",
       " 1.3444,\n",
       " 1.3498,\n",
       " 1.3582,\n",
       " 1.3612,\n",
       " 1.363,\n",
       " 1.3675,\n",
       " 1.3726,\n",
       " 1.381,\n",
       " 1.382,\n",
       " 1.3745,\n",
       " 1.3724,\n",
       " 1.3751,\n",
       " 1.3781,\n",
       " 1.3839,\n",
       " 1.3882,\n",
       " 1.3911,\n",
       " 1.3951,\n",
       " 1.4004,\n",
       " 1.4057,\n",
       " 1.4126,\n",
       " 1.4164,\n",
       " 1.4165,\n",
       " 1.4188,\n",
       " 1.4238,\n",
       " 1.4309,\n",
       " 1.4429,\n",
       " 1.4575,\n",
       " 1.4639,\n",
       " 1.4686,\n",
       " 1.4729,\n",
       " 1.4779,\n",
       " 1.4785,\n",
       " 1.4815,\n",
       " 1.4779,\n",
       " 1.4755,\n",
       " 1.4774,\n",
       " 1.4815,\n",
       " 1.4868,\n",
       " 1.4927,\n",
       " 1.4976,\n",
       " 1.5058,\n",
       " 1.5183,\n",
       " 1.5224,\n",
       " 1.5257,\n",
       " 1.531,\n",
       " 1.5304,\n",
       " 1.5293,\n",
       " 1.5359,\n",
       " 1.5468,\n",
       " 1.5596,\n",
       " 1.57,\n",
       " 1.5822,\n",
       " 1.5926,\n",
       " 1.6018,\n",
       " 1.6137,\n",
       " 1.6248,\n",
       " 1.6298,\n",
       " 1.6326,\n",
       " 1.6424,\n",
       " 1.6606,\n",
       " 1.6765,\n",
       " 1.6902,\n",
       " 1.7069,\n",
       " 1.7269,\n",
       " 1.8583,\n",
       " 1.8873,\n",
       " 1.8896]"
      ]
     },
     "execution_count": 9,
     "metadata": {},
     "output_type": "execute_result"
    }
   ],
   "source": [
    "lst = list(key_and_inflat['ИПЦ, % к предыд. мес.'].values)\n",
    "lst.insert(0, 1)\n",
    "for i in range(1, len(lst)):\n",
    "    lst[i] = round(lst[i] * lst[i-1] / 100, 4)\n",
    "lst"
   ]
  },
  {
   "cell_type": "code",
   "execution_count": 10,
   "id": "8e779192",
   "metadata": {
    "ExecuteTime": {
     "end_time": "2022-06-18T06:50:10.125148Z",
     "start_time": "2022-06-18T06:50:10.095879Z"
    }
   },
   "outputs": [
    {
     "data": {
      "text/html": [
       "<div>\n",
       "<style scoped>\n",
       "    .dataframe tbody tr th:only-of-type {\n",
       "        vertical-align: middle;\n",
       "    }\n",
       "\n",
       "    .dataframe tbody tr th {\n",
       "        vertical-align: top;\n",
       "    }\n",
       "\n",
       "    .dataframe thead th {\n",
       "        text-align: right;\n",
       "    }\n",
       "</style>\n",
       "<table border=\"1\" class=\"dataframe\">\n",
       "  <thead>\n",
       "    <tr style=\"text-align: right;\">\n",
       "      <th></th>\n",
       "      <th>Ключевая ставка, % годовых</th>\n",
       "      <th>Инфляция, % г/г</th>\n",
       "      <th>ИПЦ, % к предыд. мес.</th>\n",
       "      <th>ИПЦ_real</th>\n",
       "    </tr>\n",
       "    <tr>\n",
       "      <th>Дата</th>\n",
       "      <th></th>\n",
       "      <th></th>\n",
       "      <th></th>\n",
       "      <th></th>\n",
       "    </tr>\n",
       "  </thead>\n",
       "  <tbody>\n",
       "    <tr>\n",
       "      <th>09.2013</th>\n",
       "      <td>5.5</td>\n",
       "      <td>6.14</td>\n",
       "      <td>100.21</td>\n",
       "      <td>1.0021</td>\n",
       "    </tr>\n",
       "    <tr>\n",
       "      <th>10.2013</th>\n",
       "      <td>5.5</td>\n",
       "      <td>6.27</td>\n",
       "      <td>100.57</td>\n",
       "      <td>1.0078</td>\n",
       "    </tr>\n",
       "    <tr>\n",
       "      <th>11.2013</th>\n",
       "      <td>5.5</td>\n",
       "      <td>6.50</td>\n",
       "      <td>100.56</td>\n",
       "      <td>1.0134</td>\n",
       "    </tr>\n",
       "    <tr>\n",
       "      <th>12.2013</th>\n",
       "      <td>5.5</td>\n",
       "      <td>6.47</td>\n",
       "      <td>100.51</td>\n",
       "      <td>1.0186</td>\n",
       "    </tr>\n",
       "    <tr>\n",
       "      <th>01.2014</th>\n",
       "      <td>5.5</td>\n",
       "      <td>6.07</td>\n",
       "      <td>100.59</td>\n",
       "      <td>1.0246</td>\n",
       "    </tr>\n",
       "    <tr>\n",
       "      <th>...</th>\n",
       "      <td>...</td>\n",
       "      <td>...</td>\n",
       "      <td>...</td>\n",
       "      <td>...</td>\n",
       "    </tr>\n",
       "    <tr>\n",
       "      <th>01.2022</th>\n",
       "      <td>8.5</td>\n",
       "      <td>8.73</td>\n",
       "      <td>100.99</td>\n",
       "      <td>1.7069</td>\n",
       "    </tr>\n",
       "    <tr>\n",
       "      <th>02.2022</th>\n",
       "      <td>20.0</td>\n",
       "      <td>9.15</td>\n",
       "      <td>101.17</td>\n",
       "      <td>1.7269</td>\n",
       "    </tr>\n",
       "    <tr>\n",
       "      <th>03.2022</th>\n",
       "      <td>20.0</td>\n",
       "      <td>16.69</td>\n",
       "      <td>107.61</td>\n",
       "      <td>1.8583</td>\n",
       "    </tr>\n",
       "    <tr>\n",
       "      <th>04.2022</th>\n",
       "      <td>17.0</td>\n",
       "      <td>17.83</td>\n",
       "      <td>101.56</td>\n",
       "      <td>1.8873</td>\n",
       "    </tr>\n",
       "    <tr>\n",
       "      <th>05.2022</th>\n",
       "      <td>11.0</td>\n",
       "      <td>17.10</td>\n",
       "      <td>100.12</td>\n",
       "      <td>1.8896</td>\n",
       "    </tr>\n",
       "  </tbody>\n",
       "</table>\n",
       "<p>105 rows × 4 columns</p>\n",
       "</div>"
      ],
      "text/plain": [
       "         Ключевая ставка, % годовых  Инфляция, % г/г  ИПЦ, % к предыд. мес.  \\\n",
       "Дата                                                                          \n",
       "09.2013                         5.5             6.14                 100.21   \n",
       "10.2013                         5.5             6.27                 100.57   \n",
       "11.2013                         5.5             6.50                 100.56   \n",
       "12.2013                         5.5             6.47                 100.51   \n",
       "01.2014                         5.5             6.07                 100.59   \n",
       "...                             ...              ...                    ...   \n",
       "01.2022                         8.5             8.73                 100.99   \n",
       "02.2022                        20.0             9.15                 101.17   \n",
       "03.2022                        20.0            16.69                 107.61   \n",
       "04.2022                        17.0            17.83                 101.56   \n",
       "05.2022                        11.0            17.10                 100.12   \n",
       "\n",
       "         ИПЦ_real  \n",
       "Дата               \n",
       "09.2013    1.0021  \n",
       "10.2013    1.0078  \n",
       "11.2013    1.0134  \n",
       "12.2013    1.0186  \n",
       "01.2014    1.0246  \n",
       "...           ...  \n",
       "01.2022    1.7069  \n",
       "02.2022    1.7269  \n",
       "03.2022    1.8583  \n",
       "04.2022    1.8873  \n",
       "05.2022    1.8896  \n",
       "\n",
       "[105 rows x 4 columns]"
      ]
     },
     "execution_count": 10,
     "metadata": {},
     "output_type": "execute_result"
    }
   ],
   "source": [
    "key_and_inflat['ИПЦ_real'] = lst[1:]\n",
    "key_and_inflat"
   ]
  },
  {
   "cell_type": "code",
   "execution_count": 31,
   "id": "5f0fb02f",
   "metadata": {
    "ExecuteTime": {
     "end_time": "2022-06-17T18:43:58.211896Z",
     "start_time": "2022-06-17T18:43:58.184859Z"
    }
   },
   "outputs": [
    {
     "data": {
      "text/html": [
       "<div>\n",
       "<style scoped>\n",
       "    .dataframe tbody tr th:only-of-type {\n",
       "        vertical-align: middle;\n",
       "    }\n",
       "\n",
       "    .dataframe tbody tr th {\n",
       "        vertical-align: top;\n",
       "    }\n",
       "\n",
       "    .dataframe thead th {\n",
       "        text-align: right;\n",
       "    }\n",
       "</style>\n",
       "<table border=\"1\" class=\"dataframe\">\n",
       "  <thead>\n",
       "    <tr style=\"text-align: right;\">\n",
       "      <th></th>\n",
       "      <th>Ключевая ставка, % годовых</th>\n",
       "      <th>Инфляция, % г/г</th>\n",
       "      <th>ИПЦ, % к предыд. мес.</th>\n",
       "      <th>ИПЦ_normed</th>\n",
       "      <th>ИПЦ_shifted</th>\n",
       "      <th>ИПЦ_real</th>\n",
       "    </tr>\n",
       "    <tr>\n",
       "      <th>Дата</th>\n",
       "      <th></th>\n",
       "      <th></th>\n",
       "      <th></th>\n",
       "      <th></th>\n",
       "      <th></th>\n",
       "      <th></th>\n",
       "    </tr>\n",
       "  </thead>\n",
       "  <tbody>\n",
       "    <tr>\n",
       "      <th>09.2013</th>\n",
       "      <td>5.5</td>\n",
       "      <td>6.14</td>\n",
       "      <td>100.21</td>\n",
       "      <td>1.00</td>\n",
       "      <td>1.00</td>\n",
       "      <td>0.010000</td>\n",
       "    </tr>\n",
       "    <tr>\n",
       "      <th>10.2013</th>\n",
       "      <td>5.5</td>\n",
       "      <td>6.27</td>\n",
       "      <td>100.57</td>\n",
       "      <td>100.57</td>\n",
       "      <td>1.00</td>\n",
       "      <td>1.005700</td>\n",
       "    </tr>\n",
       "    <tr>\n",
       "      <th>11.2013</th>\n",
       "      <td>5.5</td>\n",
       "      <td>6.50</td>\n",
       "      <td>100.56</td>\n",
       "      <td>100.56</td>\n",
       "      <td>100.57</td>\n",
       "      <td>101.133192</td>\n",
       "    </tr>\n",
       "    <tr>\n",
       "      <th>12.2013</th>\n",
       "      <td>5.5</td>\n",
       "      <td>6.47</td>\n",
       "      <td>100.51</td>\n",
       "      <td>100.51</td>\n",
       "      <td>100.56</td>\n",
       "      <td>101.072856</td>\n",
       "    </tr>\n",
       "    <tr>\n",
       "      <th>01.2014</th>\n",
       "      <td>5.5</td>\n",
       "      <td>6.07</td>\n",
       "      <td>100.59</td>\n",
       "      <td>100.59</td>\n",
       "      <td>100.51</td>\n",
       "      <td>101.103009</td>\n",
       "    </tr>\n",
       "    <tr>\n",
       "      <th>...</th>\n",
       "      <td>...</td>\n",
       "      <td>...</td>\n",
       "      <td>...</td>\n",
       "      <td>...</td>\n",
       "      <td>...</td>\n",
       "      <td>...</td>\n",
       "    </tr>\n",
       "    <tr>\n",
       "      <th>01.2022</th>\n",
       "      <td>8.5</td>\n",
       "      <td>8.73</td>\n",
       "      <td>100.99</td>\n",
       "      <td>100.99</td>\n",
       "      <td>100.82</td>\n",
       "      <td>101.818118</td>\n",
       "    </tr>\n",
       "    <tr>\n",
       "      <th>02.2022</th>\n",
       "      <td>20.0</td>\n",
       "      <td>9.15</td>\n",
       "      <td>101.17</td>\n",
       "      <td>101.17</td>\n",
       "      <td>100.99</td>\n",
       "      <td>102.171583</td>\n",
       "    </tr>\n",
       "    <tr>\n",
       "      <th>03.2022</th>\n",
       "      <td>20.0</td>\n",
       "      <td>16.69</td>\n",
       "      <td>107.61</td>\n",
       "      <td>107.61</td>\n",
       "      <td>101.17</td>\n",
       "      <td>108.869037</td>\n",
       "    </tr>\n",
       "    <tr>\n",
       "      <th>04.2022</th>\n",
       "      <td>17.0</td>\n",
       "      <td>17.83</td>\n",
       "      <td>101.56</td>\n",
       "      <td>101.56</td>\n",
       "      <td>107.61</td>\n",
       "      <td>109.288716</td>\n",
       "    </tr>\n",
       "    <tr>\n",
       "      <th>05.2022</th>\n",
       "      <td>11.0</td>\n",
       "      <td>17.10</td>\n",
       "      <td>100.12</td>\n",
       "      <td>100.12</td>\n",
       "      <td>101.56</td>\n",
       "      <td>101.681872</td>\n",
       "    </tr>\n",
       "  </tbody>\n",
       "</table>\n",
       "<p>105 rows × 6 columns</p>\n",
       "</div>"
      ],
      "text/plain": [
       "         Ключевая ставка, % годовых  Инфляция, % г/г  ИПЦ, % к предыд. мес.  \\\n",
       "Дата                                                                          \n",
       "09.2013                         5.5             6.14                 100.21   \n",
       "10.2013                         5.5             6.27                 100.57   \n",
       "11.2013                         5.5             6.50                 100.56   \n",
       "12.2013                         5.5             6.47                 100.51   \n",
       "01.2014                         5.5             6.07                 100.59   \n",
       "...                             ...              ...                    ...   \n",
       "01.2022                         8.5             8.73                 100.99   \n",
       "02.2022                        20.0             9.15                 101.17   \n",
       "03.2022                        20.0            16.69                 107.61   \n",
       "04.2022                        17.0            17.83                 101.56   \n",
       "05.2022                        11.0            17.10                 100.12   \n",
       "\n",
       "         ИПЦ_normed  ИПЦ_shifted    ИПЦ_real  \n",
       "Дата                                          \n",
       "09.2013        1.00         1.00    0.010000  \n",
       "10.2013      100.57         1.00    1.005700  \n",
       "11.2013      100.56       100.57  101.133192  \n",
       "12.2013      100.51       100.56  101.072856  \n",
       "01.2014      100.59       100.51  101.103009  \n",
       "...             ...          ...         ...  \n",
       "01.2022      100.99       100.82  101.818118  \n",
       "02.2022      101.17       100.99  102.171583  \n",
       "03.2022      107.61       101.17  108.869037  \n",
       "04.2022      101.56       107.61  109.288716  \n",
       "05.2022      100.12       101.56  101.681872  \n",
       "\n",
       "[105 rows x 6 columns]"
      ]
     },
     "execution_count": 31,
     "metadata": {},
     "output_type": "execute_result"
    }
   ],
   "source": [
    "# key_and_inflat['ИПЦ_normed'] = key_and_inflat['ИПЦ, % к предыд. мес.'] / key_and_inflat['ИПЦ, % к предыд. мес.'].iloc[0] #* 100\n",
    "# key_and_inflat['ИПЦ, % к предыд. мес.'].shift(1, fill_value=100)\n",
    "# key_and_inflat['ИПЦ_normed'] = key_and_inflat['ИПЦ, % к предыд. мес.'].copy()\n",
    "# key_and_inflat['ИПЦ_normed'].iloc[0] = 1\n",
    "# key_and_inflat['ИПЦ_shifted'] = key_and_inflat['ИПЦ_normed'].shift(1, fill_value=1)\n",
    "# key_and_inflat['ИПЦ_real'] = key_and_inflat['ИПЦ_normed'] * key_and_inflat['ИПЦ_shifted'] / 100\n",
    "# key_and_inflat"
   ]
  },
  {
   "cell_type": "code",
   "execution_count": 11,
   "id": "d09971ca",
   "metadata": {
    "ExecuteTime": {
     "end_time": "2022-06-18T06:50:16.331957Z",
     "start_time": "2022-06-18T06:50:13.943587Z"
    }
   },
   "outputs": [
    {
     "data": {
      "image/png": "[encoded data removed]",
      "text/plain": [
       "<Figure size 1152x360 with 1 Axes>"
      ]
     },
     "metadata": {},
     "output_type": "display_data"
    }
   ],
   "source": [
    "key_and_inflat[['Ключевая ставка, % годовых']].plot(figsize=(16, 5))\n",
    "plt.show()"
   ]
  },
  {
   "cell_type": "code",
   "execution_count": 12,
   "id": "046af505",
   "metadata": {
    "ExecuteTime": {
     "end_time": "2022-06-18T06:50:16.819783Z",
     "start_time": "2022-06-18T06:50:16.337917Z"
    }
   },
   "outputs": [
    {
     "data": {
      "image/png": "[encoded data removed]",
      "text/plain": [
       "<Figure size 1152x360 with 1 Axes>"
      ]
     },
     "metadata": {},
     "output_type": "display_data"
    }
   ],
   "source": [
    "key_and_inflat[['ИПЦ, % к предыд. мес.']].plot(figsize=(16, 5), color='orange')\n",
    "plt.show() "
   ]
  },
  {
   "cell_type": "code",
   "execution_count": 13,
   "id": "578fa535",
   "metadata": {
    "ExecuteTime": {
     "end_time": "2022-06-18T06:50:17.218049Z",
     "start_time": "2022-06-18T06:50:16.825740Z"
    }
   },
   "outputs": [
    {
     "data": {
      "image/png": "[encoded data removed]",
      "text/plain": [
       "<Figure size 1152x360 with 1 Axes>"
      ]
     },
     "metadata": {},
     "output_type": "display_data"
    }
   ],
   "source": [
    "key_and_inflat[['ИПЦ_real']].plot(figsize=(16, 5), color='orange')\n",
    "plt.show() "
   ]
  },
  {
   "cell_type": "code",
   "execution_count": 14,
   "id": "d03b0d88",
   "metadata": {
    "ExecuteTime": {
     "end_time": "2022-06-18T06:50:17.282200Z",
     "start_time": "2022-06-18T06:50:17.223047Z"
    }
   },
   "outputs": [
    {
     "data": {
      "text/html": [
       "<div>\n",
       "<style scoped>\n",
       "    .dataframe tbody tr th:only-of-type {\n",
       "        vertical-align: middle;\n",
       "    }\n",
       "\n",
       "    .dataframe tbody tr th {\n",
       "        vertical-align: top;\n",
       "    }\n",
       "\n",
       "    .dataframe thead th {\n",
       "        text-align: right;\n",
       "    }\n",
       "</style>\n",
       "<table border=\"1\" class=\"dataframe\">\n",
       "  <thead>\n",
       "    <tr style=\"text-align: right;\">\n",
       "      <th></th>\n",
       "      <th>Объемы кредитов, млрд. руб.</th>\n",
       "    </tr>\n",
       "  </thead>\n",
       "  <tbody>\n",
       "    <tr>\n",
       "      <th>09.2013</th>\n",
       "      <td>26743.91363</td>\n",
       "    </tr>\n",
       "    <tr>\n",
       "      <th>10.2013</th>\n",
       "      <td>27255.63844</td>\n",
       "    </tr>\n",
       "    <tr>\n",
       "      <th>11.2013</th>\n",
       "      <td>27699.14981</td>\n",
       "    </tr>\n",
       "    <tr>\n",
       "      <th>12.2013</th>\n",
       "      <td>28111.67479</td>\n",
       "    </tr>\n",
       "    <tr>\n",
       "      <th>01.2014</th>\n",
       "      <td>28307.11766</td>\n",
       "    </tr>\n",
       "    <tr>\n",
       "      <th>...</th>\n",
       "      <td>...</td>\n",
       "    </tr>\n",
       "    <tr>\n",
       "      <th>06.2020</th>\n",
       "      <td>46427.31322</td>\n",
       "    </tr>\n",
       "    <tr>\n",
       "      <th>07.2020</th>\n",
       "      <td>46694.33714</td>\n",
       "    </tr>\n",
       "    <tr>\n",
       "      <th>08.2020</th>\n",
       "      <td>47202.61174</td>\n",
       "    </tr>\n",
       "    <tr>\n",
       "      <th>09.2020</th>\n",
       "      <td>47790.49573</td>\n",
       "    </tr>\n",
       "    <tr>\n",
       "      <th>10.2020</th>\n",
       "      <td>48142.26040</td>\n",
       "    </tr>\n",
       "  </tbody>\n",
       "</table>\n",
       "<p>86 rows × 1 columns</p>\n",
       "</div>"
      ],
      "text/plain": [
       "         Объемы кредитов, млрд. руб.\n",
       "09.2013                  26743.91363\n",
       "10.2013                  27255.63844\n",
       "11.2013                  27699.14981\n",
       "12.2013                  28111.67479\n",
       "01.2014                  28307.11766\n",
       "...                              ...\n",
       "06.2020                  46427.31322\n",
       "07.2020                  46694.33714\n",
       "08.2020                  47202.61174\n",
       "09.2020                  47790.49573\n",
       "10.2020                  48142.26040\n",
       "\n",
       "[86 rows x 1 columns]"
      ]
     },
     "execution_count": 14,
     "metadata": {},
     "output_type": "execute_result"
    }
   ],
   "source": [
    "credit_vols = pd.read_csv('credit_vol_10_2020.csv', sep=';', decimal=',').T\n",
    "credit_vols.rename(columns={0: 'Объемы кредитов, млрд. руб.'}, inplace=True)\n",
    "credit_vols.dropna(inplace=True)\n",
    "credit_vols.index = list(map(lambda x: x.split('.')[1] + '.20' + x.split('.')[-1], credit_vols.index))\n",
    "credit_vols"
   ]
  },
  {
   "cell_type": "code",
   "execution_count": 15,
   "id": "ba8224a3",
   "metadata": {
    "ExecuteTime": {
     "end_time": "2022-06-18T06:50:17.765855Z",
     "start_time": "2022-06-18T06:50:17.287605Z"
    }
   },
   "outputs": [
    {
     "data": {
      "image/png": "[encoded data removed]",
      "text/plain": [
       "<Figure size 1152x360 with 1 Axes>"
      ]
     },
     "metadata": {},
     "output_type": "display_data"
    }
   ],
   "source": [
    "credit_vols.plot(figsize=(16, 5), color='purple')\n",
    "plt.show() "
   ]
  },
  {
   "cell_type": "code",
   "execution_count": 16,
   "id": "fb64a1de",
   "metadata": {
    "ExecuteTime": {
     "end_time": "2022-06-18T06:50:33.625075Z",
     "start_time": "2022-06-18T06:50:33.578890Z"
    }
   },
   "outputs": [
    {
     "data": {
      "text/html": [
       "<div>\n",
       "<style scoped>\n",
       "    .dataframe tbody tr th:only-of-type {\n",
       "        vertical-align: middle;\n",
       "    }\n",
       "\n",
       "    .dataframe tbody tr th {\n",
       "        vertical-align: top;\n",
       "    }\n",
       "\n",
       "    .dataframe thead th {\n",
       "        text-align: right;\n",
       "    }\n",
       "</style>\n",
       "<table border=\"1\" class=\"dataframe\">\n",
       "  <thead>\n",
       "    <tr style=\"text-align: right;\">\n",
       "      <th></th>\n",
       "      <th>Ключевая ставка, % годовых</th>\n",
       "      <th>ИПЦ_real</th>\n",
       "      <th>Объемы кредитов, трлн. руб.</th>\n",
       "    </tr>\n",
       "  </thead>\n",
       "  <tbody>\n",
       "    <tr>\n",
       "      <th>09.2013</th>\n",
       "      <td>5.50</td>\n",
       "      <td>1.0021</td>\n",
       "      <td>26.743914</td>\n",
       "    </tr>\n",
       "    <tr>\n",
       "      <th>10.2013</th>\n",
       "      <td>5.50</td>\n",
       "      <td>1.0078</td>\n",
       "      <td>27.255638</td>\n",
       "    </tr>\n",
       "    <tr>\n",
       "      <th>11.2013</th>\n",
       "      <td>5.50</td>\n",
       "      <td>1.0134</td>\n",
       "      <td>27.699150</td>\n",
       "    </tr>\n",
       "    <tr>\n",
       "      <th>12.2013</th>\n",
       "      <td>5.50</td>\n",
       "      <td>1.0186</td>\n",
       "      <td>28.111675</td>\n",
       "    </tr>\n",
       "    <tr>\n",
       "      <th>01.2014</th>\n",
       "      <td>5.50</td>\n",
       "      <td>1.0246</td>\n",
       "      <td>28.307118</td>\n",
       "    </tr>\n",
       "    <tr>\n",
       "      <th>...</th>\n",
       "      <td>...</td>\n",
       "      <td>...</td>\n",
       "      <td>...</td>\n",
       "    </tr>\n",
       "    <tr>\n",
       "      <th>06.2020</th>\n",
       "      <td>4.50</td>\n",
       "      <td>1.5257</td>\n",
       "      <td>46.427313</td>\n",
       "    </tr>\n",
       "    <tr>\n",
       "      <th>07.2020</th>\n",
       "      <td>4.25</td>\n",
       "      <td>1.5310</td>\n",
       "      <td>46.694337</td>\n",
       "    </tr>\n",
       "    <tr>\n",
       "      <th>08.2020</th>\n",
       "      <td>4.25</td>\n",
       "      <td>1.5304</td>\n",
       "      <td>47.202612</td>\n",
       "    </tr>\n",
       "    <tr>\n",
       "      <th>09.2020</th>\n",
       "      <td>4.25</td>\n",
       "      <td>1.5293</td>\n",
       "      <td>47.790496</td>\n",
       "    </tr>\n",
       "    <tr>\n",
       "      <th>10.2020</th>\n",
       "      <td>4.25</td>\n",
       "      <td>1.5359</td>\n",
       "      <td>48.142260</td>\n",
       "    </tr>\n",
       "  </tbody>\n",
       "</table>\n",
       "<p>86 rows × 3 columns</p>\n",
       "</div>"
      ],
      "text/plain": [
       "         Ключевая ставка, % годовых  ИПЦ_real  Объемы кредитов, трлн. руб.\n",
       "09.2013                        5.50    1.0021                    26.743914\n",
       "10.2013                        5.50    1.0078                    27.255638\n",
       "11.2013                        5.50    1.0134                    27.699150\n",
       "12.2013                        5.50    1.0186                    28.111675\n",
       "01.2014                        5.50    1.0246                    28.307118\n",
       "...                             ...       ...                          ...\n",
       "06.2020                        4.50    1.5257                    46.427313\n",
       "07.2020                        4.25    1.5310                    46.694337\n",
       "08.2020                        4.25    1.5304                    47.202612\n",
       "09.2020                        4.25    1.5293                    47.790496\n",
       "10.2020                        4.25    1.5359                    48.142260\n",
       "\n",
       "[86 rows x 3 columns]"
      ]
     },
     "execution_count": 16,
     "metadata": {},
     "output_type": "execute_result"
    }
   ],
   "source": [
    "key_inflat_volumes = key_and_inflat.join(credit_vols, how='inner')\n",
    "key_inflat_volumes['Объемы кредитов, трлн. руб.'] = key_inflat_volumes['Объемы кредитов, млрд. руб.'] / 1e3\n",
    "key_inflat_volumes = key_inflat_volumes[['Ключевая ставка, % годовых', 'ИПЦ_real', 'Объемы кредитов, трлн. руб.']]\n",
    "key_inflat_volumes"
   ]
  },
  {
   "cell_type": "code",
   "execution_count": 17,
   "id": "580de142",
   "metadata": {
    "ExecuteTime": {
     "end_time": "2022-06-18T06:50:37.641593Z",
     "start_time": "2022-06-18T06:50:36.961637Z"
    }
   },
   "outputs": [
    {
     "data": {
      "image/png": "[encoded data removed]",
      "text/plain": [
       "<Figure size 432x288 with 1 Axes>"
      ]
     },
     "metadata": {},
     "output_type": "display_data"
    }
   ],
   "source": [
    "key_inflat_volumes['Объемы кредитов, трлн. руб.'].plot(kind='hist')\n",
    "plt.show()"
   ]
  },
  {
   "cell_type": "code",
   "execution_count": 47,
   "id": "0537a0e7",
   "metadata": {
    "ExecuteTime": {
     "end_time": "2022-06-16T09:29:53.391231Z",
     "start_time": "2022-06-16T09:29:53.382215Z"
    }
   },
   "outputs": [],
   "source": [
    "# key_inflat_volumes = key_inflat_volumes[key_inflat_volumes['ИПЦ, % к предыд. мес.'] < 102]\n",
    "# key_inflat_volumes = key_inflat_volumes[(key_inflat_volumes['Объемы кредитов, трлн. руб.'] <= 45) & \n",
    "#                                         (key_inflat_volumes['ИПЦ, % к предыд. мес.'] < 102)]"
   ]
  },
  {
   "cell_type": "code",
   "execution_count": 142,
   "id": "5646949e",
   "metadata": {
    "ExecuteTime": {
     "end_time": "2022-06-17T19:34:27.308972Z",
     "start_time": "2022-06-17T19:34:27.302971Z"
    },
    "scrolled": true
   },
   "outputs": [],
   "source": [
    "# np.vstack(((key_inflat_volumes['ИПЦ_real']).values, (key_inflat_volumes['ИПЦ_real'] ** 2).values)).reshape((86, 2))"
   ]
  },
  {
   "cell_type": "code",
   "execution_count": 24,
   "id": "41b7d6aa",
   "metadata": {
    "ExecuteTime": {
     "end_time": "2022-06-18T07:35:30.945470Z",
     "start_time": "2022-06-18T07:35:30.934506Z"
    }
   },
   "outputs": [],
   "source": [
    "X1 = key_inflat_volumes['ИПЦ_real'].values\n",
    "# X1 = np.vstack(((key_inflat_volumes['ИПЦ_real']).values, \n",
    "#                 (key_inflat_volumes['ИПЦ_real'] ** 2).values)).reshape((86, 2)) #(key_inflat_volumes['ИПЦ_real'] ** 2).values \n",
    "Y1 = key_inflat_volumes['Объемы кредитов, трлн. руб.'].values\n",
    "X2 = key_inflat_volumes['Ключевая ставка, % годовых'].values"
   ]
  },
  {
   "cell_type": "code",
   "execution_count": 126,
   "id": "3705ed1f",
   "metadata": {
    "ExecuteTime": {
     "end_time": "2022-06-17T19:31:24.418463Z",
     "start_time": "2022-06-17T19:31:24.409463Z"
    }
   },
   "outputs": [],
   "source": [
    "# model = np.poly1d(np.polyfit(X1, Y1, 2))\n",
    "\n",
    "# polyline = np.linspace(0.98, 1.6, 50)\n",
    "# plt.scatter(X1, Y1)\n",
    "# plt.plot(polyline, model(polyline), c='r')\n",
    "# plt.show()"
   ]
  },
  {
   "cell_type": "code",
   "execution_count": 25,
   "id": "62bd7d91",
   "metadata": {
    "ExecuteTime": {
     "end_time": "2022-06-18T07:35:36.499298Z",
     "start_time": "2022-06-18T07:35:36.488305Z"
    }
   },
   "outputs": [],
   "source": [
    "def fit_OLS(X, Y, factor, target, return_resid=True):\n",
    "    X = sm.add_constant(X)\n",
    "    model = sm.OLS(Y, X)\n",
    "    results = model.fit()\n",
    "    print('Параметры регресии:', results.params)\n",
    "    \n",
    "    plt.figure(figsize=(10, 6))\n",
    "    plt.scatter(X[:, 1], Y, label='True')\n",
    "    max_x = X[:, 1].max()\n",
    "    min_x = X[:, 1].min()\n",
    "    x = np.linspace(min_x, max_x, 40)\n",
    "    y = results.params[0] + results.params[1] * x\n",
    "    plt.plot(x, y, 'r', label='OLS model')\n",
    "    plt.title(f'Результаты регрессии {target} на {factor}', fontsize=14)\n",
    "    plt.xlabel(f'{factor}.', fontsize=11)\n",
    "    plt.ylabel(f'{target}', fontsize=11)\n",
    "    plt.legend()\n",
    "    plt.show()\n",
    "    \n",
    "    if return_resid:\n",
    "        Y_res = results.resid # + results.params[0]\n",
    "        return Y_res"
   ]
  },
  {
   "cell_type": "code",
   "execution_count": 26,
   "id": "892a5613",
   "metadata": {
    "ExecuteTime": {
     "end_time": "2022-06-18T07:35:37.643720Z",
     "start_time": "2022-06-18T07:35:37.384717Z"
    }
   },
   "outputs": [
    {
     "name": "stdout",
     "output_type": "stream",
     "text": [
      "Параметры регресии: [-6.62601021 32.00871702]\n"
     ]
    },
    {
     "data": {
      "image/png": "[encoded data removed]",
      "text/plain": [
       "<Figure size 720x432 with 1 Axes>"
      ]
     },
     "metadata": {},
     "output_type": "display_data"
    }
   ],
   "source": [
    "Y2 = fit_OLS(X1, Y1, 'ИПЦ', 'объемы кредитов, трлн. руб.')"
   ]
  },
  {
   "cell_type": "code",
   "execution_count": 27,
   "id": "6afc451c",
   "metadata": {
    "ExecuteTime": {
     "end_time": "2022-06-18T07:35:39.156978Z",
     "start_time": "2022-06-18T07:35:39.141973Z"
    },
    "scrolled": true
   },
   "outputs": [
    {
     "data": {
      "text/plain": [
       "array([ 1.29398852,  1.62326364,  1.88752619,  2.13360585,  2.13699641,\n",
       "        2.16970622,  2.04497677,  2.24749899,  2.41471812,  2.55421805,\n",
       "        2.70578829,  2.98477451,  2.97583967,  3.05701432,  3.02093182,\n",
       "        2.50399936,  1.47237442,  0.34042064, -0.46301361, -0.82983047,\n",
       "       -1.00432536, -1.16455982, -1.47510226, -1.40037341, -1.48701079,\n",
       "       -1.59855631, -1.71601704, -1.94914705, -2.33573395, -2.58608197,\n",
       "       -2.80468713, -2.98604055, -3.03773065, -3.28241413, -3.28762972,\n",
       "       -3.10973222, -3.26163656, -3.40497943, -3.47123154, -3.24054032,\n",
       "       -3.84129185, -4.05399655, -4.04575266, -4.04386662, -4.07409362,\n",
       "       -4.22033697, -4.00208233, -3.53854947, -3.26272119, -2.91761894,\n",
       "       -2.7979963 , -2.66923759, -2.72358623, -2.58091116, -2.4298994 ,\n",
       "       -2.1676917 , -1.72926737, -1.64153581, -1.29901859, -0.80533192,\n",
       "       -0.28006786, -0.03838378,  0.30751269,  0.60720907,  0.64301544,\n",
       "        0.61330523,  0.7687318 ,  1.19138104,  1.5603504 ,  1.80395382,\n",
       "        2.10475495,  2.47897405,  3.07421042,  3.45117789,  3.62185332,\n",
       "        3.74053494,  3.75846122,  3.58214594,  3.30400474,  4.11620675,\n",
       "        4.31742271,  4.21762388,  4.31500159,  4.84248143,  5.465575  ,\n",
       "        5.60608214])"
      ]
     },
     "execution_count": 27,
     "metadata": {},
     "output_type": "execute_result"
    }
   ],
   "source": [
    "Y2"
   ]
  },
  {
   "cell_type": "code",
   "execution_count": 37,
   "id": "4826e1fa",
   "metadata": {
    "ExecuteTime": {
     "end_time": "2022-06-18T07:38:40.620585Z",
     "start_time": "2022-06-18T07:38:40.609546Z"
    }
   },
   "outputs": [
    {
     "name": "stdout",
     "output_type": "stream",
     "text": [
      "[(-3.2627211857519924, 8.5)]\n"
     ]
    }
   ],
   "source": [
    "print(list(filter(lambda x: x[1] == 8.5, zip(Y2, X2))))\n",
    "cur_level = list(filter(lambda x: x[1] == 8.5, zip(Y2, X2)))[0][0]"
   ]
  },
  {
   "cell_type": "code",
   "execution_count": 38,
   "id": "8d6a065d",
   "metadata": {
    "ExecuteTime": {
     "end_time": "2022-06-18T07:38:42.319335Z",
     "start_time": "2022-06-18T07:38:42.301332Z"
    }
   },
   "outputs": [
    {
     "data": {
      "text/plain": [
       "array([62.57456477, 62.90383989, 63.16810245, 63.4141821 , 63.41757266,\n",
       "       63.45028247, 63.32555302, 63.52807524, 63.69529437, 63.8347943 ,\n",
       "       63.98636454, 64.26535076, 64.25641592, 64.33759057, 64.30150807,\n",
       "       63.78457561, 62.75295067, 61.62099689, 60.81756264, 60.45074578,\n",
       "       60.27625089, 60.11601643, 59.80547399, 59.88020284, 59.79356546,\n",
       "       59.68201994, 59.56455921, 59.3314292 , 58.9448423 , 58.69449428,\n",
       "       58.47588912, 58.2945357 , 58.2428456 , 57.99816212, 57.99294653,\n",
       "       58.17084403, 58.01893969, 57.87559682, 57.80934471, 58.04003593,\n",
       "       57.4392844 , 57.22657971, 57.23482359, 57.23670963, 57.20648263,\n",
       "       57.06023928, 57.27849392, 57.74202678, 58.01785506, 58.36295731,\n",
       "       58.48257995, 58.61133866, 58.55699002, 58.69966509, 58.85067685,\n",
       "       59.11288455, 59.55130888, 59.63904044, 59.98155766, 60.47524433,\n",
       "       61.0005084 , 61.24219247, 61.58808894, 61.88778533, 61.92359169,\n",
       "       61.89388148, 62.04930805, 62.47195729, 62.84092665, 63.08453007,\n",
       "       63.3853312 , 63.7595503 , 64.35478667, 64.73175414, 64.90242957,\n",
       "       65.02111119, 65.03903747, 64.86272219, 64.58458099, 65.396783  ,\n",
       "       65.59799896, 65.49820013, 65.59557785, 66.12305768, 66.74615125,\n",
       "       66.88665839])"
      ]
     },
     "execution_count": 38,
     "metadata": {},
     "output_type": "execute_result"
    }
   ],
   "source": [
    "Y2 = Y2 + 58.01785506499999 - cur_level"
   ]
  },
  {
   "cell_type": "code",
   "execution_count": 39,
   "id": "c3de9775",
   "metadata": {
    "ExecuteTime": {
     "end_time": "2022-06-18T07:40:37.392724Z",
     "start_time": "2022-06-18T07:40:37.382737Z"
    }
   },
   "outputs": [
    {
     "data": {
      "text/plain": [
       "array([ 2,  3,  4,  5,  6,  7,  8,  9, 10, 11, 12])"
      ]
     },
     "execution_count": 39,
     "metadata": {},
     "output_type": "execute_result"
    }
   ],
   "source": []
  },
  {
   "cell_type": "code",
   "execution_count": 22,
   "id": "4d8597ce",
   "metadata": {
    "ExecuteTime": {
     "end_time": "2022-06-18T06:51:41.046687Z",
     "start_time": "2022-06-18T06:51:41.037617Z"
    }
   },
   "outputs": [],
   "source": [
    "Y2, X2 = zip(*list(filter(lambda x: x[0] > -3 and x[0] < 4, list(zip(Y2, X2)))))"
   ]
  },
  {
   "cell_type": "code",
   "execution_count": 23,
   "id": "1cadf7ef",
   "metadata": {
    "ExecuteTime": {
     "end_time": "2022-06-18T06:51:43.263582Z",
     "start_time": "2022-06-18T06:51:42.613945Z"
    }
   },
   "outputs": [
    {
     "name": "stdout",
     "output_type": "stream",
     "text": [
      "Параметры регресии: [ 2.81443528 -0.27377677]\n"
     ]
    },
    {
     "data": {
      "image/png": "[encoded data removed]",
      "text/plain": [
       "<Figure size 720x432 with 1 Axes>"
      ]
     },
     "metadata": {},
     "output_type": "display_data"
    }
   ],
   "source": [
    "fit_OLS(X2, Y2, 'ключевую ставку', 'остатков регрессии 1', False)"
   ]
  },
  {
   "cell_type": "code",
   "execution_count": 122,
   "id": "09eaab4a",
   "metadata": {
    "ExecuteTime": {
     "end_time": "2022-06-17T19:30:03.954516Z",
     "start_time": "2022-06-17T19:30:03.693527Z"
    }
   },
   "outputs": [
    {
     "name": "stdout",
     "output_type": "stream",
     "text": [
      "Параметры регресии: [ 4.67511319 -0.54832558]\n"
     ]
    },
    {
     "data": {
      "image/png": "[encoded data removed]",
      "text/plain": [
       "<Figure size 720x432 with 1 Axes>"
      ]
     },
     "metadata": {},
     "output_type": "display_data"
    }
   ],
   "source": [
    "fit_OLS(X2, Y2, 'ключевую ставку', 'остатков регрессии 1', False)"
   ]
  },
  {
   "cell_type": "code",
   "execution_count": 269,
   "id": "a147483b",
   "metadata": {
    "ExecuteTime": {
     "end_time": "2022-06-15T18:14:55.503447Z",
     "start_time": "2022-06-15T18:14:55.486447Z"
    }
   },
   "outputs": [],
   "source": [
    "X2 = sm.add_constant(X2)\n",
    "model = sm.OLS(Y2, X2)\n",
    "results = model.fit()"
   ]
  },
  {
   "cell_type": "code",
   "execution_count": 208,
   "id": "42f2821d",
   "metadata": {
    "ExecuteTime": {
     "end_time": "2022-06-15T15:27:32.058579Z",
     "start_time": "2022-06-15T15:27:32.048632Z"
    }
   },
   "outputs": [
    {
     "data": {
      "text/plain": [
       "array([42.43641696, -0.26528495])"
      ]
     },
     "execution_count": 208,
     "metadata": {},
     "output_type": "execute_result"
    }
   ],
   "source": [
    "results.params"
   ]
  },
  {
   "cell_type": "code",
   "execution_count": 209,
   "id": "afaa85f6",
   "metadata": {
    "ExecuteTime": {
     "end_time": "2022-06-15T15:27:32.817896Z",
     "start_time": "2022-06-15T15:27:32.789906Z"
    }
   },
   "outputs": [
    {
     "data": {
      "text/html": [
       "<table class=\"simpletable\">\n",
       "<caption>OLS Regression Results</caption>\n",
       "<tr>\n",
       "  <th>Dep. Variable:</th>            <td>y</td>        <th>  R-squared:         </th> <td>   0.020</td>\n",
       "</tr>\n",
       "<tr>\n",
       "  <th>Model:</th>                   <td>OLS</td>       <th>  Adj. R-squared:    </th> <td>   0.008</td>\n",
       "</tr>\n",
       "<tr>\n",
       "  <th>Method:</th>             <td>Least Squares</td>  <th>  F-statistic:       </th> <td>   1.712</td>\n",
       "</tr>\n",
       "<tr>\n",
       "  <th>Date:</th>             <td>Wed, 15 Jun 2022</td> <th>  Prob (F-statistic):</th>  <td> 0.194</td> \n",
       "</tr>\n",
       "<tr>\n",
       "  <th>Time:</th>                 <td>18:27:32</td>     <th>  Log-Likelihood:    </th> <td> -258.57</td>\n",
       "</tr>\n",
       "<tr>\n",
       "  <th>No. Observations:</th>      <td>    86</td>      <th>  AIC:               </th> <td>   521.1</td>\n",
       "</tr>\n",
       "<tr>\n",
       "  <th>Df Residuals:</th>          <td>    84</td>      <th>  BIC:               </th> <td>   526.1</td>\n",
       "</tr>\n",
       "<tr>\n",
       "  <th>Df Model:</th>              <td>     1</td>      <th>                     </th>     <td> </td>   \n",
       "</tr>\n",
       "<tr>\n",
       "  <th>Covariance Type:</th>      <td>nonrobust</td>    <th>                     </th>     <td> </td>   \n",
       "</tr>\n",
       "</table>\n",
       "<table class=\"simpletable\">\n",
       "<tr>\n",
       "    <td></td>       <th>coef</th>     <th>std err</th>      <th>t</th>      <th>P>|t|</th>  <th>[0.025</th>    <th>0.975]</th>  \n",
       "</tr>\n",
       "<tr>\n",
       "  <th>const</th> <td>   42.4364</td> <td>    1.809</td> <td>   23.455</td> <td> 0.000</td> <td>   38.839</td> <td>   46.034</td>\n",
       "</tr>\n",
       "<tr>\n",
       "  <th>x1</th>    <td>   -0.2653</td> <td>    0.203</td> <td>   -1.308</td> <td> 0.194</td> <td>   -0.668</td> <td>    0.138</td>\n",
       "</tr>\n",
       "</table>\n",
       "<table class=\"simpletable\">\n",
       "<tr>\n",
       "  <th>Omnibus:</th>       <td>12.432</td> <th>  Durbin-Watson:     </th> <td>   0.025</td>\n",
       "</tr>\n",
       "<tr>\n",
       "  <th>Prob(Omnibus):</th> <td> 0.002</td> <th>  Jarque-Bera (JB):  </th> <td>   3.756</td>\n",
       "</tr>\n",
       "<tr>\n",
       "  <th>Skew:</th>          <td> 0.042</td> <th>  Prob(JB):          </th> <td>   0.153</td>\n",
       "</tr>\n",
       "<tr>\n",
       "  <th>Kurtosis:</th>      <td> 1.980</td> <th>  Cond. No.          </th> <td>    30.6</td>\n",
       "</tr>\n",
       "</table><br/><br/>Notes:<br/>[1] Standard Errors assume that the covariance matrix of the errors is correctly specified."
      ],
      "text/plain": [
       "<class 'statsmodels.iolib.summary.Summary'>\n",
       "\"\"\"\n",
       "                            OLS Regression Results                            \n",
       "==============================================================================\n",
       "Dep. Variable:                      y   R-squared:                       0.020\n",
       "Model:                            OLS   Adj. R-squared:                  0.008\n",
       "Method:                 Least Squares   F-statistic:                     1.712\n",
       "Date:                Wed, 15 Jun 2022   Prob (F-statistic):              0.194\n",
       "Time:                        18:27:32   Log-Likelihood:                -258.57\n",
       "No. Observations:                  86   AIC:                             521.1\n",
       "Df Residuals:                      84   BIC:                             526.1\n",
       "Df Model:                           1                                         \n",
       "Covariance Type:            nonrobust                                         \n",
       "==============================================================================\n",
       "                 coef    std err          t      P>|t|      [0.025      0.975]\n",
       "------------------------------------------------------------------------------\n",
       "const         42.4364      1.809     23.455      0.000      38.839      46.034\n",
       "x1            -0.2653      0.203     -1.308      0.194      -0.668       0.138\n",
       "==============================================================================\n",
       "Omnibus:                       12.432   Durbin-Watson:                   0.025\n",
       "Prob(Omnibus):                  0.002   Jarque-Bera (JB):                3.756\n",
       "Skew:                           0.042   Prob(JB):                        0.153\n",
       "Kurtosis:                       1.980   Cond. No.                         30.6\n",
       "==============================================================================\n",
       "\n",
       "Notes:\n",
       "[1] Standard Errors assume that the covariance matrix of the errors is correctly specified.\n",
       "\"\"\""
      ]
     },
     "execution_count": 209,
     "metadata": {},
     "output_type": "execute_result"
    }
   ],
   "source": [
    "results.summary()"
   ]
  },
  {
   "cell_type": "code",
   "execution_count": 210,
   "id": "d5a9c1f4",
   "metadata": {
    "ExecuteTime": {
     "end_time": "2022-06-15T15:27:46.212956Z",
     "start_time": "2022-06-15T15:27:45.978920Z"
    }
   },
   "outputs": [
    {
     "data": {
      "image/png": "[encoded data removed]",
      "text/plain": [
       "<Figure size 720x432 with 1 Axes>"
      ]
     },
     "metadata": {},
     "output_type": "display_data"
    }
   ],
   "source": [
    "plt.figure(figsize=(10, 6))\n",
    "plt.scatter(X2[:, 1], Y2, label='True')\n",
    "max_x = X2[:, 1].max()\n",
    "min_x = X2[:, 1].min()\n",
    "x = np.linspace(min_x, max_x, 40)\n",
    "y = results.params[0] + results.params[1] * x\n",
    "plt.plot(x, y, 'r', label='OLS model')\n",
    "plt.title('Результаты регрессии остатков на ключевую ставку', fontsize=14)\n",
    "plt.xlabel('Ключевая ставка, % годовых', fontsize=11)\n",
    "plt.ylabel('Остатки предыд. регрессии (очищенный от ИПЦ объем кредитов в системе)', fontsize=11)\n",
    "plt.legend()\n",
    "plt.show()"
   ]
  },
  {
   "cell_type": "code",
   "execution_count": 43,
   "id": "0f69f3c4",
   "metadata": {
    "ExecuteTime": {
     "end_time": "2022-06-16T09:29:18.146736Z",
     "start_time": "2022-06-16T09:29:18.099766Z"
    }
   },
   "outputs": [
    {
     "data": {
      "text/html": [
       "<div>\n",
       "<style scoped>\n",
       "    .dataframe tbody tr th:only-of-type {\n",
       "        vertical-align: middle;\n",
       "    }\n",
       "\n",
       "    .dataframe tbody tr th {\n",
       "        vertical-align: top;\n",
       "    }\n",
       "\n",
       "    .dataframe thead th {\n",
       "        text-align: right;\n",
       "    }\n",
       "</style>\n",
       "<table border=\"1\" class=\"dataframe\">\n",
       "  <thead>\n",
       "    <tr style=\"text-align: right;\">\n",
       "      <th></th>\n",
       "      <th>Ключевая ставка, % годовых</th>\n",
       "      <th>Инфляция, % г/г</th>\n",
       "      <th>ИПЦ, % к предыд. мес.</th>\n",
       "      <th>Объемы кредитов, млрд. руб.</th>\n",
       "      <th>Объемы кредитов, трлн. руб.</th>\n",
       "    </tr>\n",
       "  </thead>\n",
       "  <tbody>\n",
       "    <tr>\n",
       "      <th>09.2013</th>\n",
       "      <td>5.50</td>\n",
       "      <td>6.14</td>\n",
       "      <td>100.21</td>\n",
       "      <td>26743.91363</td>\n",
       "      <td>26.743914</td>\n",
       "    </tr>\n",
       "    <tr>\n",
       "      <th>10.2013</th>\n",
       "      <td>5.50</td>\n",
       "      <td>6.27</td>\n",
       "      <td>100.57</td>\n",
       "      <td>27255.63844</td>\n",
       "      <td>27.255638</td>\n",
       "    </tr>\n",
       "    <tr>\n",
       "      <th>11.2013</th>\n",
       "      <td>5.50</td>\n",
       "      <td>6.50</td>\n",
       "      <td>100.56</td>\n",
       "      <td>27699.14981</td>\n",
       "      <td>27.699150</td>\n",
       "    </tr>\n",
       "    <tr>\n",
       "      <th>12.2013</th>\n",
       "      <td>5.50</td>\n",
       "      <td>6.47</td>\n",
       "      <td>100.51</td>\n",
       "      <td>28111.67479</td>\n",
       "      <td>28.111675</td>\n",
       "    </tr>\n",
       "    <tr>\n",
       "      <th>01.2014</th>\n",
       "      <td>5.50</td>\n",
       "      <td>6.07</td>\n",
       "      <td>100.59</td>\n",
       "      <td>28307.11766</td>\n",
       "      <td>28.307118</td>\n",
       "    </tr>\n",
       "    <tr>\n",
       "      <th>...</th>\n",
       "      <td>...</td>\n",
       "      <td>...</td>\n",
       "      <td>...</td>\n",
       "      <td>...</td>\n",
       "      <td>...</td>\n",
       "    </tr>\n",
       "    <tr>\n",
       "      <th>11.2019</th>\n",
       "      <td>6.50</td>\n",
       "      <td>3.50</td>\n",
       "      <td>100.28</td>\n",
       "      <td>44416.75737</td>\n",
       "      <td>44.416757</td>\n",
       "    </tr>\n",
       "    <tr>\n",
       "      <th>12.2019</th>\n",
       "      <td>6.25</td>\n",
       "      <td>3.00</td>\n",
       "      <td>100.36</td>\n",
       "      <td>44705.08519</td>\n",
       "      <td>44.705085</td>\n",
       "    </tr>\n",
       "    <tr>\n",
       "      <th>01.2020</th>\n",
       "      <td>6.25</td>\n",
       "      <td>2.40</td>\n",
       "      <td>100.40</td>\n",
       "      <td>44911.86290</td>\n",
       "      <td>44.911863</td>\n",
       "    </tr>\n",
       "    <tr>\n",
       "      <th>02.2020</th>\n",
       "      <td>6.00</td>\n",
       "      <td>2.30</td>\n",
       "      <td>100.33</td>\n",
       "      <td>44892.39034</td>\n",
       "      <td>44.892390</td>\n",
       "    </tr>\n",
       "    <tr>\n",
       "      <th>03.2020</th>\n",
       "      <td>6.00</td>\n",
       "      <td>2.50</td>\n",
       "      <td>100.55</td>\n",
       "      <td>44876.72062</td>\n",
       "      <td>44.876721</td>\n",
       "    </tr>\n",
       "  </tbody>\n",
       "</table>\n",
       "<p>76 rows × 5 columns</p>\n",
       "</div>"
      ],
      "text/plain": [
       "         Ключевая ставка, % годовых  Инфляция, % г/г  ИПЦ, % к предыд. мес.  \\\n",
       "09.2013                        5.50             6.14                 100.21   \n",
       "10.2013                        5.50             6.27                 100.57   \n",
       "11.2013                        5.50             6.50                 100.56   \n",
       "12.2013                        5.50             6.47                 100.51   \n",
       "01.2014                        5.50             6.07                 100.59   \n",
       "...                             ...              ...                    ...   \n",
       "11.2019                        6.50             3.50                 100.28   \n",
       "12.2019                        6.25             3.00                 100.36   \n",
       "01.2020                        6.25             2.40                 100.40   \n",
       "02.2020                        6.00             2.30                 100.33   \n",
       "03.2020                        6.00             2.50                 100.55   \n",
       "\n",
       "         Объемы кредитов, млрд. руб.  Объемы кредитов, трлн. руб.  \n",
       "09.2013                  26743.91363                    26.743914  \n",
       "10.2013                  27255.63844                    27.255638  \n",
       "11.2013                  27699.14981                    27.699150  \n",
       "12.2013                  28111.67479                    28.111675  \n",
       "01.2014                  28307.11766                    28.307118  \n",
       "...                              ...                          ...  \n",
       "11.2019                  44416.75737                    44.416757  \n",
       "12.2019                  44705.08519                    44.705085  \n",
       "01.2020                  44911.86290                    44.911863  \n",
       "02.2020                  44892.39034                    44.892390  \n",
       "03.2020                  44876.72062                    44.876721  \n",
       "\n",
       "[76 rows x 5 columns]"
      ]
     },
     "execution_count": 43,
     "metadata": {},
     "output_type": "execute_result"
    }
   ],
   "source": [
    "key_inflat_volumes"
   ]
  },
  {
   "cell_type": "code",
   "execution_count": null,
   "id": "9743440f",
   "metadata": {},
   "outputs": [],
   "source": []
  },
  {
   "cell_type": "code",
   "execution_count": null,
   "id": "429f5b22",
   "metadata": {},
   "outputs": [],
   "source": []
  },
  {
   "cell_type": "code",
   "execution_count": 34,
   "id": "0aa2e993",
   "metadata": {
    "ExecuteTime": {
     "end_time": "2022-06-16T08:38:32.319443Z",
     "start_time": "2022-06-16T08:38:32.304574Z"
    }
   },
   "outputs": [],
   "source": [
    "from sklearn.linear_model import LinearRegression"
   ]
  },
  {
   "cell_type": "code",
   "execution_count": 39,
   "id": "168dba9e",
   "metadata": {
    "ExecuteTime": {
     "end_time": "2022-06-16T08:42:49.743302Z",
     "start_time": "2022-06-16T08:42:48.808460Z"
    }
   },
   "outputs": [
    {
     "data": {
      "image/png": "[encoded data removed]",
      "text/plain": [
       "<Figure size 720x432 with 1 Axes>"
      ]
     },
     "metadata": {},
     "output_type": "display_data"
    }
   ],
   "source": [
    "lr = LinearRegression()\n",
    "lr.fit(X1.reshape(-1, 1), Y1)\n",
    "y_pred1 = lr.predict(X1.reshape(-1, 1))\n",
    "\n",
    "plt.figure(figsize=(10, 6))\n",
    "plt.scatter(X1, Y1, label='True')\n",
    "plt.plot(X1, y_pred1, c='r', label='LR preds')\n",
    "plt.legend()\n",
    "plt.show()"
   ]
  },
  {
   "cell_type": "code",
   "execution_count": 42,
   "id": "bd3ccbdc",
   "metadata": {
    "ExecuteTime": {
     "end_time": "2022-06-16T08:44:35.030811Z",
     "start_time": "2022-06-16T08:44:34.407640Z"
    }
   },
   "outputs": [
    {
     "data": {
      "image/png": "[encoded data removed]",
      "text/plain": [
       "<Figure size 720x432 with 1 Axes>"
      ]
     },
     "metadata": {},
     "output_type": "display_data"
    }
   ],
   "source": [
    "Y2 = Y1 - y_pred1\n",
    "lr.fit(X2.reshape(-1, 1), Y2)\n",
    "y_pred2 = lr.predict(X2.reshape(-1, 1))\n",
    "\n",
    "plt.figure(figsize=(10, 6))\n",
    "plt.scatter(X2, Y2, label='True')\n",
    "plt.plot(X2, y_pred2, c='r', label='LR preds')\n",
    "plt.legend()\n",
    "plt.show()"
   ]
  },
  {
   "cell_type": "code",
   "execution_count": null,
   "id": "6cf49283",
   "metadata": {},
   "outputs": [],
   "source": []
  }
 ],
 "metadata": {
  "kernelspec": {
   "display_name": "Python 3",
   "language": "python",
   "name": "python3"
  },
  "language_info": {
   "codemirror_mode": {
    "name": "ipython",
    "version": 3
   },
   "file_extension": ".py",
   "mimetype": "text/x-python",
   "name": "python",
   "nbconvert_exporter": "python",
   "pygments_lexer": "ipython3",
   "version": "3.8.8"
  }
 },
 "nbformat": 4,
 "nbformat_minor": 5
}
