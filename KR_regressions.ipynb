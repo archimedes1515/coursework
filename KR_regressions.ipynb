{
 "cells": [
  {
   "cell_type": "code",
   "execution_count": 1,
   "id": "6a598cf8",
   "metadata": {
    "ExecuteTime": {
     "end_time": "2022-06-26T11:57:33.889479Z",
     "start_time": "2022-06-26T11:57:25.759031Z"
    }
   },
   "outputs": [],
   "source": [
    "import pandas as pd\n",
    "import numpy as np\n",
    "import math as mt\n",
    "import matplotlib.pyplot as plt\n",
    "import seaborn as sns\n",
    "%matplotlib inline\n",
    "sns.set(style=\"darkgrid\")\n",
    "\n",
    "import statsmodels.api as sm"
   ]
  },
  {
   "cell_type": "markdown",
   "id": "22a81826",
   "metadata": {},
   "source": [
    "https://www.statbureau.org/ru/russia/cpi"
   ]
  },
  {
   "cell_type": "code",
   "execution_count": 2,
   "id": "e71863f5",
   "metadata": {
    "ExecuteTime": {
     "end_time": "2022-06-26T11:57:33.935491Z",
     "start_time": "2022-06-26T11:57:33.893480Z"
    }
   },
   "outputs": [],
   "source": [
    "ipc = pd.read_csv('cpi.csv', index_col=0,encoding='utf-8')"
   ]
  },
  {
   "cell_type": "code",
   "execution_count": 3,
   "id": "ef828fb3",
   "metadata": {
    "ExecuteTime": {
     "end_time": "2022-06-26T11:57:34.012479Z",
     "start_time": "2022-06-26T11:57:33.942491Z"
    }
   },
   "outputs": [
    {
     "data": {
      "text/html": [
       "<div>\n",
       "<style scoped>\n",
       "    .dataframe tbody tr th:only-of-type {\n",
       "        vertical-align: middle;\n",
       "    }\n",
       "\n",
       "    .dataframe tbody tr th {\n",
       "        vertical-align: top;\n",
       "    }\n",
       "\n",
       "    .dataframe thead th {\n",
       "        text-align: right;\n",
       "    }\n",
       "</style>\n",
       "<table border=\"1\" class=\"dataframe\">\n",
       "  <thead>\n",
       "    <tr style=\"text-align: right;\">\n",
       "      <th></th>\n",
       "      <th>Январь</th>\n",
       "      <th>Февраль</th>\n",
       "      <th>Март</th>\n",
       "      <th>Апрель</th>\n",
       "      <th>Май</th>\n",
       "      <th>Июнь</th>\n",
       "      <th>Июль</th>\n",
       "      <th>Август</th>\n",
       "      <th>Сентябрь</th>\n",
       "      <th>Октябрь</th>\n",
       "      <th>Ноябрь</th>\n",
       "      <th>Декабрь</th>\n",
       "    </tr>\n",
       "    <tr>\n",
       "      <th>Год</th>\n",
       "      <th></th>\n",
       "      <th></th>\n",
       "      <th></th>\n",
       "      <th></th>\n",
       "      <th></th>\n",
       "      <th></th>\n",
       "      <th></th>\n",
       "      <th></th>\n",
       "      <th></th>\n",
       "      <th></th>\n",
       "      <th></th>\n",
       "      <th></th>\n",
       "    </tr>\n",
       "  </thead>\n",
       "  <tbody>\n",
       "    <tr>\n",
       "      <th>2013</th>\n",
       "      <td>NaN</td>\n",
       "      <td>NaN</td>\n",
       "      <td>NaN</td>\n",
       "      <td>NaN</td>\n",
       "      <td>NaN</td>\n",
       "      <td>NaN</td>\n",
       "      <td>NaN</td>\n",
       "      <td>NaN</td>\n",
       "      <td>100.21</td>\n",
       "      <td>100.57</td>\n",
       "      <td>100.56</td>\n",
       "      <td>100.51</td>\n",
       "    </tr>\n",
       "    <tr>\n",
       "      <th>2014</th>\n",
       "      <td>100.59</td>\n",
       "      <td>100.70</td>\n",
       "      <td>101.02</td>\n",
       "      <td>100.90</td>\n",
       "      <td>100.90</td>\n",
       "      <td>100.62</td>\n",
       "      <td>100.49</td>\n",
       "      <td>100.24</td>\n",
       "      <td>100.65</td>\n",
       "      <td>100.82</td>\n",
       "      <td>101.28</td>\n",
       "      <td>102.62</td>\n",
       "    </tr>\n",
       "    <tr>\n",
       "      <th>2015</th>\n",
       "      <td>103.85</td>\n",
       "      <td>102.22</td>\n",
       "      <td>101.21</td>\n",
       "      <td>100.46</td>\n",
       "      <td>100.35</td>\n",
       "      <td>100.19</td>\n",
       "      <td>100.80</td>\n",
       "      <td>100.35</td>\n",
       "      <td>100.57</td>\n",
       "      <td>100.74</td>\n",
       "      <td>100.75</td>\n",
       "      <td>100.77</td>\n",
       "    </tr>\n",
       "    <tr>\n",
       "      <th>2016</th>\n",
       "      <td>100.96</td>\n",
       "      <td>100.63</td>\n",
       "      <td>100.46</td>\n",
       "      <td>100.44</td>\n",
       "      <td>100.41</td>\n",
       "      <td>100.36</td>\n",
       "      <td>100.54</td>\n",
       "      <td>100.01</td>\n",
       "      <td>100.17</td>\n",
       "      <td>100.43</td>\n",
       "      <td>100.44</td>\n",
       "      <td>100.40</td>\n",
       "    </tr>\n",
       "    <tr>\n",
       "      <th>2017</th>\n",
       "      <td>100.62</td>\n",
       "      <td>100.22</td>\n",
       "      <td>100.13</td>\n",
       "      <td>100.33</td>\n",
       "      <td>100.37</td>\n",
       "      <td>100.61</td>\n",
       "      <td>100.07</td>\n",
       "      <td>99.46</td>\n",
       "      <td>99.85</td>\n",
       "      <td>100.20</td>\n",
       "      <td>100.22</td>\n",
       "      <td>100.42</td>\n",
       "    </tr>\n",
       "    <tr>\n",
       "      <th>2018</th>\n",
       "      <td>100.31</td>\n",
       "      <td>100.21</td>\n",
       "      <td>100.29</td>\n",
       "      <td>100.38</td>\n",
       "      <td>100.38</td>\n",
       "      <td>100.49</td>\n",
       "      <td>100.27</td>\n",
       "      <td>100.01</td>\n",
       "      <td>100.16</td>\n",
       "      <td>100.35</td>\n",
       "      <td>100.50</td>\n",
       "      <td>100.84</td>\n",
       "    </tr>\n",
       "    <tr>\n",
       "      <th>2019</th>\n",
       "      <td>101.01</td>\n",
       "      <td>100.44</td>\n",
       "      <td>100.32</td>\n",
       "      <td>100.29</td>\n",
       "      <td>100.34</td>\n",
       "      <td>100.04</td>\n",
       "      <td>100.20</td>\n",
       "      <td>99.76</td>\n",
       "      <td>99.84</td>\n",
       "      <td>100.13</td>\n",
       "      <td>100.28</td>\n",
       "      <td>100.36</td>\n",
       "    </tr>\n",
       "    <tr>\n",
       "      <th>2020</th>\n",
       "      <td>100.40</td>\n",
       "      <td>100.33</td>\n",
       "      <td>100.55</td>\n",
       "      <td>100.83</td>\n",
       "      <td>100.27</td>\n",
       "      <td>100.22</td>\n",
       "      <td>100.35</td>\n",
       "      <td>99.96</td>\n",
       "      <td>99.93</td>\n",
       "      <td>100.43</td>\n",
       "      <td>100.71</td>\n",
       "      <td>100.83</td>\n",
       "    </tr>\n",
       "    <tr>\n",
       "      <th>2021</th>\n",
       "      <td>100.67</td>\n",
       "      <td>100.78</td>\n",
       "      <td>100.66</td>\n",
       "      <td>100.58</td>\n",
       "      <td>100.74</td>\n",
       "      <td>100.69</td>\n",
       "      <td>100.31</td>\n",
       "      <td>100.17</td>\n",
       "      <td>100.60</td>\n",
       "      <td>101.11</td>\n",
       "      <td>100.96</td>\n",
       "      <td>100.82</td>\n",
       "    </tr>\n",
       "    <tr>\n",
       "      <th>2022</th>\n",
       "      <td>100.99</td>\n",
       "      <td>101.17</td>\n",
       "      <td>107.61</td>\n",
       "      <td>101.56</td>\n",
       "      <td>100.12</td>\n",
       "      <td>NaN</td>\n",
       "      <td>NaN</td>\n",
       "      <td>NaN</td>\n",
       "      <td>NaN</td>\n",
       "      <td>NaN</td>\n",
       "      <td>NaN</td>\n",
       "      <td>NaN</td>\n",
       "    </tr>\n",
       "  </tbody>\n",
       "</table>\n",
       "</div>"
      ],
      "text/plain": [
       "       Январь   Февраль    Март   Апрель     Май    Июнь    Июль   Август  \\\n",
       "Год                                                                         \n",
       "2013      NaN       NaN     NaN      NaN     NaN     NaN     NaN      NaN   \n",
       "2014   100.59    100.70  101.02   100.90  100.90  100.62  100.49   100.24   \n",
       "2015   103.85    102.22  101.21   100.46  100.35  100.19  100.80   100.35   \n",
       "2016   100.96    100.63  100.46   100.44  100.41  100.36  100.54   100.01   \n",
       "2017   100.62    100.22  100.13   100.33  100.37  100.61  100.07    99.46   \n",
       "2018   100.31    100.21  100.29   100.38  100.38  100.49  100.27   100.01   \n",
       "2019   101.01    100.44  100.32   100.29  100.34  100.04  100.20    99.76   \n",
       "2020   100.40    100.33  100.55   100.83  100.27  100.22  100.35    99.96   \n",
       "2021   100.67    100.78  100.66   100.58  100.74  100.69  100.31   100.17   \n",
       "2022   100.99    101.17  107.61   101.56  100.12     NaN     NaN      NaN   \n",
       "\n",
       "       Сентябрь   Октябрь   Ноябрь   Декабрь  \n",
       "Год                                           \n",
       "2013     100.21    100.57   100.56    100.51  \n",
       "2014     100.65    100.82   101.28    102.62  \n",
       "2015     100.57    100.74   100.75    100.77  \n",
       "2016     100.17    100.43   100.44    100.40  \n",
       "2017      99.85    100.20   100.22    100.42  \n",
       "2018     100.16    100.35   100.50    100.84  \n",
       "2019      99.84    100.13   100.28    100.36  \n",
       "2020      99.93    100.43   100.71    100.83  \n",
       "2021     100.60    101.11   100.96    100.82  \n",
       "2022        NaN       NaN      NaN       NaN  "
      ]
     },
     "execution_count": 3,
     "metadata": {},
     "output_type": "execute_result"
    }
   ],
   "source": [
    "ipc.iloc[0, :8] = np.nan\n",
    "ipc"
   ]
  },
  {
   "cell_type": "code",
   "execution_count": 4,
   "id": "9a5a2bd9",
   "metadata": {
    "ExecuteTime": {
     "end_time": "2022-06-26T11:57:34.044486Z",
     "start_time": "2022-06-26T11:57:34.015495Z"
    }
   },
   "outputs": [
    {
     "data": {
      "text/plain": [
       "Год            \n",
       "2013   Сентябрь    100.21\n",
       "       Октябрь     100.57\n",
       "       Ноябрь      100.56\n",
       "       Декабрь     100.51\n",
       "2014   Январь      100.59\n",
       "                    ...  \n",
       "2022   Январь      100.99\n",
       "       Февраль     101.17\n",
       "       Март        107.61\n",
       "       Апрель      101.56\n",
       "       Май         100.12\n",
       "Length: 105, dtype: float64"
      ]
     },
     "execution_count": 4,
     "metadata": {},
     "output_type": "execute_result"
    }
   ],
   "source": [
    "ipc_stacked = ipc.stack()\n",
    "ipc_stacked"
   ]
  },
  {
   "cell_type": "markdown",
   "id": "b3b47915",
   "metadata": {},
   "source": [
    "https://cbr.ru/hd_base/infl/?UniDbQuery.Posted=True&UniDbQuery.From=17.09.2013&UniDbQuery.To=15.06.2022"
   ]
  },
  {
   "cell_type": "code",
   "execution_count": 5,
   "id": "f8f7b215",
   "metadata": {
    "ExecuteTime": {
     "end_time": "2022-06-26T11:57:34.076502Z",
     "start_time": "2022-06-26T11:57:34.046484Z"
    }
   },
   "outputs": [],
   "source": [
    "key_and_inflat = pd.read_csv('inflat_and_keyrate.csv', sep=';',\n",
    "            usecols=[0, 1, 2], dtype={'Дата': np.object_}, decimal=',').set_index('Дата')\n",
    "key_and_inflat['ИПЦ, % к предыд. мес.'] = ipc_stacked.values[::-1]"
   ]
  },
  {
   "cell_type": "code",
   "execution_count": 6,
   "id": "a4e732bf",
   "metadata": {
    "ExecuteTime": {
     "end_time": "2022-06-26T11:57:34.092480Z",
     "start_time": "2022-06-26T11:57:34.078481Z"
    }
   },
   "outputs": [],
   "source": [
    "key_and_inflat = key_and_inflat[::-1]"
   ]
  },
  {
   "cell_type": "code",
   "execution_count": 7,
   "id": "51d69399",
   "metadata": {
    "ExecuteTime": {
     "end_time": "2022-06-26T11:57:34.123479Z",
     "start_time": "2022-06-26T11:57:34.094481Z"
    }
   },
   "outputs": [
    {
     "data": {
      "text/html": [
       "<div>\n",
       "<style scoped>\n",
       "    .dataframe tbody tr th:only-of-type {\n",
       "        vertical-align: middle;\n",
       "    }\n",
       "\n",
       "    .dataframe tbody tr th {\n",
       "        vertical-align: top;\n",
       "    }\n",
       "\n",
       "    .dataframe thead th {\n",
       "        text-align: right;\n",
       "    }\n",
       "</style>\n",
       "<table border=\"1\" class=\"dataframe\">\n",
       "  <thead>\n",
       "    <tr style=\"text-align: right;\">\n",
       "      <th></th>\n",
       "      <th>Ключевая ставка, % годовых</th>\n",
       "      <th>Инфляция, % г/г</th>\n",
       "      <th>ИПЦ, % к предыд. мес.</th>\n",
       "    </tr>\n",
       "    <tr>\n",
       "      <th>Дата</th>\n",
       "      <th></th>\n",
       "      <th></th>\n",
       "      <th></th>\n",
       "    </tr>\n",
       "  </thead>\n",
       "  <tbody>\n",
       "    <tr>\n",
       "      <th>09.2013</th>\n",
       "      <td>5.5</td>\n",
       "      <td>6.14</td>\n",
       "      <td>100.21</td>\n",
       "    </tr>\n",
       "    <tr>\n",
       "      <th>10.2013</th>\n",
       "      <td>5.5</td>\n",
       "      <td>6.27</td>\n",
       "      <td>100.57</td>\n",
       "    </tr>\n",
       "    <tr>\n",
       "      <th>11.2013</th>\n",
       "      <td>5.5</td>\n",
       "      <td>6.50</td>\n",
       "      <td>100.56</td>\n",
       "    </tr>\n",
       "    <tr>\n",
       "      <th>12.2013</th>\n",
       "      <td>5.5</td>\n",
       "      <td>6.47</td>\n",
       "      <td>100.51</td>\n",
       "    </tr>\n",
       "    <tr>\n",
       "      <th>01.2014</th>\n",
       "      <td>5.5</td>\n",
       "      <td>6.07</td>\n",
       "      <td>100.59</td>\n",
       "    </tr>\n",
       "    <tr>\n",
       "      <th>...</th>\n",
       "      <td>...</td>\n",
       "      <td>...</td>\n",
       "      <td>...</td>\n",
       "    </tr>\n",
       "    <tr>\n",
       "      <th>01.2022</th>\n",
       "      <td>8.5</td>\n",
       "      <td>8.73</td>\n",
       "      <td>100.99</td>\n",
       "    </tr>\n",
       "    <tr>\n",
       "      <th>02.2022</th>\n",
       "      <td>20.0</td>\n",
       "      <td>9.15</td>\n",
       "      <td>101.17</td>\n",
       "    </tr>\n",
       "    <tr>\n",
       "      <th>03.2022</th>\n",
       "      <td>20.0</td>\n",
       "      <td>16.69</td>\n",
       "      <td>107.61</td>\n",
       "    </tr>\n",
       "    <tr>\n",
       "      <th>04.2022</th>\n",
       "      <td>17.0</td>\n",
       "      <td>17.83</td>\n",
       "      <td>101.56</td>\n",
       "    </tr>\n",
       "    <tr>\n",
       "      <th>05.2022</th>\n",
       "      <td>11.0</td>\n",
       "      <td>17.10</td>\n",
       "      <td>100.12</td>\n",
       "    </tr>\n",
       "  </tbody>\n",
       "</table>\n",
       "<p>105 rows × 3 columns</p>\n",
       "</div>"
      ],
      "text/plain": [
       "         Ключевая ставка, % годовых  Инфляция, % г/г  ИПЦ, % к предыд. мес.\n",
       "Дата                                                                       \n",
       "09.2013                         5.5             6.14                 100.21\n",
       "10.2013                         5.5             6.27                 100.57\n",
       "11.2013                         5.5             6.50                 100.56\n",
       "12.2013                         5.5             6.47                 100.51\n",
       "01.2014                         5.5             6.07                 100.59\n",
       "...                             ...              ...                    ...\n",
       "01.2022                         8.5             8.73                 100.99\n",
       "02.2022                        20.0             9.15                 101.17\n",
       "03.2022                        20.0            16.69                 107.61\n",
       "04.2022                        17.0            17.83                 101.56\n",
       "05.2022                        11.0            17.10                 100.12\n",
       "\n",
       "[105 rows x 3 columns]"
      ]
     },
     "execution_count": 7,
     "metadata": {},
     "output_type": "execute_result"
    }
   ],
   "source": [
    "key_and_inflat"
   ]
  },
  {
   "cell_type": "code",
   "execution_count": 8,
   "id": "2bbcf734",
   "metadata": {
    "ExecuteTime": {
     "end_time": "2022-06-26T11:57:35.849287Z",
     "start_time": "2022-06-26T11:57:35.822285Z"
    }
   },
   "outputs": [
    {
     "data": {
      "text/plain": [
       "[1,\n",
       " 1.0021,\n",
       " 1.0078,\n",
       " 1.0134,\n",
       " 1.0186,\n",
       " 1.0246,\n",
       " 1.0318,\n",
       " 1.0423,\n",
       " 1.0517,\n",
       " 1.0612,\n",
       " 1.0678,\n",
       " 1.073,\n",
       " 1.0756,\n",
       " 1.0826,\n",
       " 1.0915,\n",
       " 1.1055,\n",
       " 1.1345,\n",
       " 1.1782,\n",
       " 1.2044,\n",
       " 1.219,\n",
       " 1.2246,\n",
       " 1.2289,\n",
       " 1.2312,\n",
       " 1.241,\n",
       " 1.2453,\n",
       " 1.2524,\n",
       " 1.2617,\n",
       " 1.2712,\n",
       " 1.281,\n",
       " 1.2933,\n",
       " 1.3014,\n",
       " 1.3074,\n",
       " 1.3132,\n",
       " 1.3186,\n",
       " 1.3233,\n",
       " 1.3304,\n",
       " 1.3305,\n",
       " 1.3328,\n",
       " 1.3385,\n",
       " 1.3444,\n",
       " 1.3498,\n",
       " 1.3582,\n",
       " 1.3612,\n",
       " 1.363,\n",
       " 1.3675,\n",
       " 1.3726,\n",
       " 1.381,\n",
       " 1.382,\n",
       " 1.3745,\n",
       " 1.3724,\n",
       " 1.3751,\n",
       " 1.3781,\n",
       " 1.3839,\n",
       " 1.3882,\n",
       " 1.3911,\n",
       " 1.3951,\n",
       " 1.4004,\n",
       " 1.4057,\n",
       " 1.4126,\n",
       " 1.4164,\n",
       " 1.4165,\n",
       " 1.4188,\n",
       " 1.4238,\n",
       " 1.4309,\n",
       " 1.4429,\n",
       " 1.4575,\n",
       " 1.4639,\n",
       " 1.4686,\n",
       " 1.4729,\n",
       " 1.4779,\n",
       " 1.4785,\n",
       " 1.4815,\n",
       " 1.4779,\n",
       " 1.4755,\n",
       " 1.4774,\n",
       " 1.4815,\n",
       " 1.4868,\n",
       " 1.4927,\n",
       " 1.4976,\n",
       " 1.5058,\n",
       " 1.5183,\n",
       " 1.5224,\n",
       " 1.5257,\n",
       " 1.531,\n",
       " 1.5304,\n",
       " 1.5293,\n",
       " 1.5359,\n",
       " 1.5468,\n",
       " 1.5596,\n",
       " 1.57,\n",
       " 1.5822,\n",
       " 1.5926,\n",
       " 1.6018,\n",
       " 1.6137,\n",
       " 1.6248,\n",
       " 1.6298,\n",
       " 1.6326,\n",
       " 1.6424,\n",
       " 1.6606,\n",
       " 1.6765,\n",
       " 1.6902,\n",
       " 1.7069,\n",
       " 1.7269,\n",
       " 1.8583,\n",
       " 1.8873,\n",
       " 1.8896]"
      ]
     },
     "execution_count": 8,
     "metadata": {},
     "output_type": "execute_result"
    }
   ],
   "source": [
    "lst = list(key_and_inflat['ИПЦ, % к предыд. мес.'].values)\n",
    "lst.insert(0, 1)\n",
    "for i in range(1, len(lst)):\n",
    "    lst[i] = round(lst[i] * lst[i-1] / 100, 4)\n",
    "lst"
   ]
  },
  {
   "cell_type": "code",
   "execution_count": 9,
   "id": "8e779192",
   "metadata": {
    "ExecuteTime": {
     "end_time": "2022-06-26T11:57:39.873718Z",
     "start_time": "2022-06-26T11:57:39.841726Z"
    }
   },
   "outputs": [
    {
     "data": {
      "text/html": [
       "<div>\n",
       "<style scoped>\n",
       "    .dataframe tbody tr th:only-of-type {\n",
       "        vertical-align: middle;\n",
       "    }\n",
       "\n",
       "    .dataframe tbody tr th {\n",
       "        vertical-align: top;\n",
       "    }\n",
       "\n",
       "    .dataframe thead th {\n",
       "        text-align: right;\n",
       "    }\n",
       "</style>\n",
       "<table border=\"1\" class=\"dataframe\">\n",
       "  <thead>\n",
       "    <tr style=\"text-align: right;\">\n",
       "      <th></th>\n",
       "      <th>Ключевая ставка, % годовых</th>\n",
       "      <th>Инфляция, % г/г</th>\n",
       "      <th>ИПЦ, % к предыд. мес.</th>\n",
       "      <th>ИПЦ_real</th>\n",
       "    </tr>\n",
       "    <tr>\n",
       "      <th>Дата</th>\n",
       "      <th></th>\n",
       "      <th></th>\n",
       "      <th></th>\n",
       "      <th></th>\n",
       "    </tr>\n",
       "  </thead>\n",
       "  <tbody>\n",
       "    <tr>\n",
       "      <th>09.2013</th>\n",
       "      <td>5.5</td>\n",
       "      <td>6.14</td>\n",
       "      <td>100.21</td>\n",
       "      <td>1.0021</td>\n",
       "    </tr>\n",
       "    <tr>\n",
       "      <th>10.2013</th>\n",
       "      <td>5.5</td>\n",
       "      <td>6.27</td>\n",
       "      <td>100.57</td>\n",
       "      <td>1.0078</td>\n",
       "    </tr>\n",
       "    <tr>\n",
       "      <th>11.2013</th>\n",
       "      <td>5.5</td>\n",
       "      <td>6.50</td>\n",
       "      <td>100.56</td>\n",
       "      <td>1.0134</td>\n",
       "    </tr>\n",
       "    <tr>\n",
       "      <th>12.2013</th>\n",
       "      <td>5.5</td>\n",
       "      <td>6.47</td>\n",
       "      <td>100.51</td>\n",
       "      <td>1.0186</td>\n",
       "    </tr>\n",
       "    <tr>\n",
       "      <th>01.2014</th>\n",
       "      <td>5.5</td>\n",
       "      <td>6.07</td>\n",
       "      <td>100.59</td>\n",
       "      <td>1.0246</td>\n",
       "    </tr>\n",
       "    <tr>\n",
       "      <th>...</th>\n",
       "      <td>...</td>\n",
       "      <td>...</td>\n",
       "      <td>...</td>\n",
       "      <td>...</td>\n",
       "    </tr>\n",
       "    <tr>\n",
       "      <th>01.2022</th>\n",
       "      <td>8.5</td>\n",
       "      <td>8.73</td>\n",
       "      <td>100.99</td>\n",
       "      <td>1.7069</td>\n",
       "    </tr>\n",
       "    <tr>\n",
       "      <th>02.2022</th>\n",
       "      <td>20.0</td>\n",
       "      <td>9.15</td>\n",
       "      <td>101.17</td>\n",
       "      <td>1.7269</td>\n",
       "    </tr>\n",
       "    <tr>\n",
       "      <th>03.2022</th>\n",
       "      <td>20.0</td>\n",
       "      <td>16.69</td>\n",
       "      <td>107.61</td>\n",
       "      <td>1.8583</td>\n",
       "    </tr>\n",
       "    <tr>\n",
       "      <th>04.2022</th>\n",
       "      <td>17.0</td>\n",
       "      <td>17.83</td>\n",
       "      <td>101.56</td>\n",
       "      <td>1.8873</td>\n",
       "    </tr>\n",
       "    <tr>\n",
       "      <th>05.2022</th>\n",
       "      <td>11.0</td>\n",
       "      <td>17.10</td>\n",
       "      <td>100.12</td>\n",
       "      <td>1.8896</td>\n",
       "    </tr>\n",
       "  </tbody>\n",
       "</table>\n",
       "<p>105 rows × 4 columns</p>\n",
       "</div>"
      ],
      "text/plain": [
       "         Ключевая ставка, % годовых  Инфляция, % г/г  ИПЦ, % к предыд. мес.  \\\n",
       "Дата                                                                          \n",
       "09.2013                         5.5             6.14                 100.21   \n",
       "10.2013                         5.5             6.27                 100.57   \n",
       "11.2013                         5.5             6.50                 100.56   \n",
       "12.2013                         5.5             6.47                 100.51   \n",
       "01.2014                         5.5             6.07                 100.59   \n",
       "...                             ...              ...                    ...   \n",
       "01.2022                         8.5             8.73                 100.99   \n",
       "02.2022                        20.0             9.15                 101.17   \n",
       "03.2022                        20.0            16.69                 107.61   \n",
       "04.2022                        17.0            17.83                 101.56   \n",
       "05.2022                        11.0            17.10                 100.12   \n",
       "\n",
       "         ИПЦ_real  \n",
       "Дата               \n",
       "09.2013    1.0021  \n",
       "10.2013    1.0078  \n",
       "11.2013    1.0134  \n",
       "12.2013    1.0186  \n",
       "01.2014    1.0246  \n",
       "...           ...  \n",
       "01.2022    1.7069  \n",
       "02.2022    1.7269  \n",
       "03.2022    1.8583  \n",
       "04.2022    1.8873  \n",
       "05.2022    1.8896  \n",
       "\n",
       "[105 rows x 4 columns]"
      ]
     },
     "execution_count": 9,
     "metadata": {},
     "output_type": "execute_result"
    }
   ],
   "source": [
    "key_and_inflat['ИПЦ_real'] = lst[1:]\n",
    "key_and_inflat"
   ]
  },
  {
   "cell_type": "code",
   "execution_count": 10,
   "id": "d09971ca",
   "metadata": {
    "ExecuteTime": {
     "end_time": "2022-06-26T11:57:46.175193Z",
     "start_time": "2022-06-26T11:57:45.250889Z"
    }
   },
   "outputs": [
    {
     "data": {
      "image/png": "[encoded data removed]",
      "text/plain": [
       "<Figure size 1152x360 with 1 Axes>"
      ]
     },
     "metadata": {},
     "output_type": "display_data"
    }
   ],
   "source": [
    "key_and_inflat[['Ключевая ставка, % годовых']].plot(figsize=(16, 5))\n",
    "plt.show()"
   ]
  },
  {
   "cell_type": "code",
   "execution_count": 11,
   "id": "046af505",
   "metadata": {
    "ExecuteTime": {
     "end_time": "2022-06-26T11:57:47.960075Z",
     "start_time": "2022-06-26T11:57:47.782077Z"
    }
   },
   "outputs": [
    {
     "data": {
      "image/png": "[encoded data removed]",
      "text/plain": [
       "<Figure size 1152x360 with 1 Axes>"
      ]
     },
     "metadata": {},
     "output_type": "display_data"
    }
   ],
   "source": [
    "key_and_inflat[['ИПЦ, % к предыд. мес.']].plot(figsize=(16, 5), color='orange')\n",
    "plt.show() "
   ]
  },
  {
   "cell_type": "code",
   "execution_count": 12,
   "id": "578fa535",
   "metadata": {
    "ExecuteTime": {
     "end_time": "2022-06-26T11:57:50.277447Z",
     "start_time": "2022-06-26T11:57:50.113408Z"
    }
   },
   "outputs": [
    {
     "data": {
      "image/png": "[encoded data removed]",
      "text/plain": [
       "<Figure size 1152x360 with 1 Axes>"
      ]
     },
     "metadata": {},
     "output_type": "display_data"
    }
   ],
   "source": [
    "key_and_inflat[['ИПЦ_real']].plot(figsize=(16, 5), color='orange')\n",
    "plt.show() "
   ]
  },
  {
   "cell_type": "code",
   "execution_count": 13,
   "id": "d03b0d88",
   "metadata": {
    "ExecuteTime": {
     "end_time": "2022-06-26T11:57:53.970620Z",
     "start_time": "2022-06-26T11:57:53.939665Z"
    }
   },
   "outputs": [
    {
     "data": {
      "text/html": [
       "<div>\n",
       "<style scoped>\n",
       "    .dataframe tbody tr th:only-of-type {\n",
       "        vertical-align: middle;\n",
       "    }\n",
       "\n",
       "    .dataframe tbody tr th {\n",
       "        vertical-align: top;\n",
       "    }\n",
       "\n",
       "    .dataframe thead th {\n",
       "        text-align: right;\n",
       "    }\n",
       "</style>\n",
       "<table border=\"1\" class=\"dataframe\">\n",
       "  <thead>\n",
       "    <tr style=\"text-align: right;\">\n",
       "      <th></th>\n",
       "      <th>Объемы кредитов, млрд. руб.</th>\n",
       "    </tr>\n",
       "  </thead>\n",
       "  <tbody>\n",
       "    <tr>\n",
       "      <th>09.2013</th>\n",
       "      <td>26743.91363</td>\n",
       "    </tr>\n",
       "    <tr>\n",
       "      <th>10.2013</th>\n",
       "      <td>27255.63844</td>\n",
       "    </tr>\n",
       "    <tr>\n",
       "      <th>11.2013</th>\n",
       "      <td>27699.14981</td>\n",
       "    </tr>\n",
       "    <tr>\n",
       "      <th>12.2013</th>\n",
       "      <td>28111.67479</td>\n",
       "    </tr>\n",
       "    <tr>\n",
       "      <th>01.2014</th>\n",
       "      <td>28307.11766</td>\n",
       "    </tr>\n",
       "    <tr>\n",
       "      <th>...</th>\n",
       "      <td>...</td>\n",
       "    </tr>\n",
       "    <tr>\n",
       "      <th>06.2020</th>\n",
       "      <td>46427.31322</td>\n",
       "    </tr>\n",
       "    <tr>\n",
       "      <th>07.2020</th>\n",
       "      <td>46694.33714</td>\n",
       "    </tr>\n",
       "    <tr>\n",
       "      <th>08.2020</th>\n",
       "      <td>47202.61174</td>\n",
       "    </tr>\n",
       "    <tr>\n",
       "      <th>09.2020</th>\n",
       "      <td>47790.49573</td>\n",
       "    </tr>\n",
       "    <tr>\n",
       "      <th>10.2020</th>\n",
       "      <td>48142.26040</td>\n",
       "    </tr>\n",
       "  </tbody>\n",
       "</table>\n",
       "<p>86 rows × 1 columns</p>\n",
       "</div>"
      ],
      "text/plain": [
       "         Объемы кредитов, млрд. руб.\n",
       "09.2013                  26743.91363\n",
       "10.2013                  27255.63844\n",
       "11.2013                  27699.14981\n",
       "12.2013                  28111.67479\n",
       "01.2014                  28307.11766\n",
       "...                              ...\n",
       "06.2020                  46427.31322\n",
       "07.2020                  46694.33714\n",
       "08.2020                  47202.61174\n",
       "09.2020                  47790.49573\n",
       "10.2020                  48142.26040\n",
       "\n",
       "[86 rows x 1 columns]"
      ]
     },
     "execution_count": 13,
     "metadata": {},
     "output_type": "execute_result"
    }
   ],
   "source": [
    "credit_vols = pd.read_csv('credit_vol_10_2020.csv', sep=';', decimal=',').T\n",
    "credit_vols.rename(columns={0: 'Объемы кредитов, млрд. руб.'}, inplace=True)\n",
    "credit_vols.dropna(inplace=True)\n",
    "credit_vols.index = list(map(lambda x: x.split('.')[1] + '.20' + x.split('.')[-1], credit_vols.index))\n",
    "credit_vols"
   ]
  },
  {
   "cell_type": "code",
   "execution_count": 14,
   "id": "ba8224a3",
   "metadata": {
    "ExecuteTime": {
     "end_time": "2022-06-26T11:57:55.746493Z",
     "start_time": "2022-06-26T11:57:55.599763Z"
    }
   },
   "outputs": [
    {
     "data": {
      "image/png": "[encoded data removed]",
      "text/plain": [
       "<Figure size 1152x360 with 1 Axes>"
      ]
     },
     "metadata": {},
     "output_type": "display_data"
    }
   ],
   "source": [
    "credit_vols.plot(figsize=(16, 5), color='purple')\n",
    "plt.show() "
   ]
  },
  {
   "cell_type": "code",
   "execution_count": 15,
   "id": "fb64a1de",
   "metadata": {
    "ExecuteTime": {
     "end_time": "2022-06-26T11:57:57.791544Z",
     "start_time": "2022-06-26T11:57:57.754543Z"
    }
   },
   "outputs": [
    {
     "data": {
      "text/html": [
       "<div>\n",
       "<style scoped>\n",
       "    .dataframe tbody tr th:only-of-type {\n",
       "        vertical-align: middle;\n",
       "    }\n",
       "\n",
       "    .dataframe tbody tr th {\n",
       "        vertical-align: top;\n",
       "    }\n",
       "\n",
       "    .dataframe thead th {\n",
       "        text-align: right;\n",
       "    }\n",
       "</style>\n",
       "<table border=\"1\" class=\"dataframe\">\n",
       "  <thead>\n",
       "    <tr style=\"text-align: right;\">\n",
       "      <th></th>\n",
       "      <th>Ключевая ставка, % годовых</th>\n",
       "      <th>ИПЦ_real</th>\n",
       "      <th>Объемы кредитов, трлн. руб.</th>\n",
       "    </tr>\n",
       "  </thead>\n",
       "  <tbody>\n",
       "    <tr>\n",
       "      <th>09.2013</th>\n",
       "      <td>5.50</td>\n",
       "      <td>1.0021</td>\n",
       "      <td>26.743914</td>\n",
       "    </tr>\n",
       "    <tr>\n",
       "      <th>10.2013</th>\n",
       "      <td>5.50</td>\n",
       "      <td>1.0078</td>\n",
       "      <td>27.255638</td>\n",
       "    </tr>\n",
       "    <tr>\n",
       "      <th>11.2013</th>\n",
       "      <td>5.50</td>\n",
       "      <td>1.0134</td>\n",
       "      <td>27.699150</td>\n",
       "    </tr>\n",
       "    <tr>\n",
       "      <th>12.2013</th>\n",
       "      <td>5.50</td>\n",
       "      <td>1.0186</td>\n",
       "      <td>28.111675</td>\n",
       "    </tr>\n",
       "    <tr>\n",
       "      <th>01.2014</th>\n",
       "      <td>5.50</td>\n",
       "      <td>1.0246</td>\n",
       "      <td>28.307118</td>\n",
       "    </tr>\n",
       "    <tr>\n",
       "      <th>...</th>\n",
       "      <td>...</td>\n",
       "      <td>...</td>\n",
       "      <td>...</td>\n",
       "    </tr>\n",
       "    <tr>\n",
       "      <th>06.2020</th>\n",
       "      <td>4.50</td>\n",
       "      <td>1.5257</td>\n",
       "      <td>46.427313</td>\n",
       "    </tr>\n",
       "    <tr>\n",
       "      <th>07.2020</th>\n",
       "      <td>4.25</td>\n",
       "      <td>1.5310</td>\n",
       "      <td>46.694337</td>\n",
       "    </tr>\n",
       "    <tr>\n",
       "      <th>08.2020</th>\n",
       "      <td>4.25</td>\n",
       "      <td>1.5304</td>\n",
       "      <td>47.202612</td>\n",
       "    </tr>\n",
       "    <tr>\n",
       "      <th>09.2020</th>\n",
       "      <td>4.25</td>\n",
       "      <td>1.5293</td>\n",
       "      <td>47.790496</td>\n",
       "    </tr>\n",
       "    <tr>\n",
       "      <th>10.2020</th>\n",
       "      <td>4.25</td>\n",
       "      <td>1.5359</td>\n",
       "      <td>48.142260</td>\n",
       "    </tr>\n",
       "  </tbody>\n",
       "</table>\n",
       "<p>86 rows × 3 columns</p>\n",
       "</div>"
      ],
      "text/plain": [
       "         Ключевая ставка, % годовых  ИПЦ_real  Объемы кредитов, трлн. руб.\n",
       "09.2013                        5.50    1.0021                    26.743914\n",
       "10.2013                        5.50    1.0078                    27.255638\n",
       "11.2013                        5.50    1.0134                    27.699150\n",
       "12.2013                        5.50    1.0186                    28.111675\n",
       "01.2014                        5.50    1.0246                    28.307118\n",
       "...                             ...       ...                          ...\n",
       "06.2020                        4.50    1.5257                    46.427313\n",
       "07.2020                        4.25    1.5310                    46.694337\n",
       "08.2020                        4.25    1.5304                    47.202612\n",
       "09.2020                        4.25    1.5293                    47.790496\n",
       "10.2020                        4.25    1.5359                    48.142260\n",
       "\n",
       "[86 rows x 3 columns]"
      ]
     },
     "execution_count": 15,
     "metadata": {},
     "output_type": "execute_result"
    }
   ],
   "source": [
    "key_inflat_volumes = key_and_inflat.join(credit_vols, how='inner')\n",
    "key_inflat_volumes['Объемы кредитов, трлн. руб.'] = key_inflat_volumes['Объемы кредитов, млрд. руб.'] / 1e3\n",
    "key_inflat_volumes = key_inflat_volumes[['Ключевая ставка, % годовых', 'ИПЦ_real', 'Объемы кредитов, трлн. руб.']]\n",
    "key_inflat_volumes"
   ]
  },
  {
   "cell_type": "code",
   "execution_count": 16,
   "id": "580de142",
   "metadata": {
    "ExecuteTime": {
     "end_time": "2022-06-26T11:57:59.844621Z",
     "start_time": "2022-06-26T11:57:59.676616Z"
    }
   },
   "outputs": [
    {
     "data": {
      "image/png": "[encoded data removed]",
      "text/plain": [
       "<Figure size 432x288 with 1 Axes>"
      ]
     },
     "metadata": {},
     "output_type": "display_data"
    }
   ],
   "source": [
    "key_inflat_volumes['Объемы кредитов, трлн. руб.'].plot(kind='hist')\n",
    "plt.show()"
   ]
  },
  {
   "cell_type": "code",
   "execution_count": 17,
   "id": "41b7d6aa",
   "metadata": {
    "ExecuteTime": {
     "end_time": "2022-06-26T11:58:05.998297Z",
     "start_time": "2022-06-26T11:58:05.988308Z"
    }
   },
   "outputs": [],
   "source": [
    "X1 = key_inflat_volumes['ИПЦ_real'].values\n",
    "Y1 = key_inflat_volumes['Объемы кредитов, трлн. руб.'].values\n",
    "X2 = key_inflat_volumes['Ключевая ставка, % годовых'].values"
   ]
  },
  {
   "cell_type": "code",
   "execution_count": 18,
   "id": "62bd7d91",
   "metadata": {
    "ExecuteTime": {
     "end_time": "2022-06-26T11:58:10.334919Z",
     "start_time": "2022-06-26T11:58:10.320923Z"
    }
   },
   "outputs": [],
   "source": [
    "def fit_OLS(X, Y, factor, target, return_resid=True):\n",
    "    X = sm.add_constant(X)\n",
    "    model = sm.OLS(Y, X)\n",
    "    results = model.fit()\n",
    "    print('Параметры регресии:', results.params)\n",
    "    \n",
    "    plt.figure(figsize=(10, 6))\n",
    "    plt.scatter(X[:, 1], Y, label='True')\n",
    "    max_x = X[:, 1].max()\n",
    "    min_x = X[:, 1].min()\n",
    "    x = np.linspace(min_x, max_x, 40)\n",
    "    y = results.params[0] + results.params[1] * x\n",
    "    plt.plot(x, y, 'r', label='OLS model')\n",
    "    plt.title(f'Результаты регрессии {target} на {factor}', fontsize=14)\n",
    "    plt.xlabel(f'{factor}.', fontsize=11)\n",
    "    plt.ylabel(f'{target}', fontsize=11)\n",
    "    plt.legend()\n",
    "    plt.show()\n",
    "    \n",
    "    if return_resid:\n",
    "        Y_res = results.resid # + results.params[0]\n",
    "        return Y_res"
   ]
  },
  {
   "cell_type": "code",
   "execution_count": 19,
   "id": "892a5613",
   "metadata": {
    "ExecuteTime": {
     "end_time": "2022-06-26T11:58:10.934029Z",
     "start_time": "2022-06-26T11:58:10.629023Z"
    }
   },
   "outputs": [
    {
     "name": "stdout",
     "output_type": "stream",
     "text": [
      "Параметры регресии: [-6.62601021 32.00871702]\n"
     ]
    },
    {
     "data": {
      "image/png": "[encoded data removed]",
      "text/plain": [
       "<Figure size 720x432 with 1 Axes>"
      ]
     },
     "metadata": {},
     "output_type": "display_data"
    }
   ],
   "source": [
    "Y2 = fit_OLS(X1, Y1, 'ИПЦ', 'объемы кредитов, трлн. руб.')"
   ]
  },
  {
   "cell_type": "code",
   "execution_count": 20,
   "id": "6afc451c",
   "metadata": {
    "ExecuteTime": {
     "end_time": "2022-06-26T11:58:13.113872Z",
     "start_time": "2022-06-26T11:58:13.105869Z"
    },
    "scrolled": true
   },
   "outputs": [
    {
     "data": {
      "text/plain": [
       "array([ 1.29398852,  1.62326364,  1.88752619,  2.13360585,  2.13699641,\n",
       "        2.16970622,  2.04497677,  2.24749899,  2.41471812,  2.55421805,\n",
       "        2.70578829,  2.98477451,  2.97583967,  3.05701432,  3.02093182,\n",
       "        2.50399936,  1.47237442,  0.34042064, -0.46301361, -0.82983047,\n",
       "       -1.00432536, -1.16455982, -1.47510226, -1.40037341, -1.48701079,\n",
       "       -1.59855631, -1.71601704, -1.94914705, -2.33573395, -2.58608197,\n",
       "       -2.80468713, -2.98604055, -3.03773065, -3.28241413, -3.28762972,\n",
       "       -3.10973222, -3.26163656, -3.40497943, -3.47123154, -3.24054032,\n",
       "       -3.84129185, -4.05399655, -4.04575266, -4.04386662, -4.07409362,\n",
       "       -4.22033697, -4.00208233, -3.53854947, -3.26272119, -2.91761894,\n",
       "       -2.7979963 , -2.66923759, -2.72358623, -2.58091116, -2.4298994 ,\n",
       "       -2.1676917 , -1.72926737, -1.64153581, -1.29901859, -0.80533192,\n",
       "       -0.28006786, -0.03838378,  0.30751269,  0.60720907,  0.64301544,\n",
       "        0.61330523,  0.7687318 ,  1.19138104,  1.5603504 ,  1.80395382,\n",
       "        2.10475495,  2.47897405,  3.07421042,  3.45117789,  3.62185332,\n",
       "        3.74053494,  3.75846122,  3.58214594,  3.30400474,  4.11620675,\n",
       "        4.31742271,  4.21762388,  4.31500159,  4.84248143,  5.465575  ,\n",
       "        5.60608214])"
      ]
     },
     "execution_count": 20,
     "metadata": {},
     "output_type": "execute_result"
    }
   ],
   "source": [
    "Y2"
   ]
  },
  {
   "cell_type": "code",
   "execution_count": 21,
   "id": "a7e3103e",
   "metadata": {
    "ExecuteTime": {
     "end_time": "2022-06-26T11:58:17.284486Z",
     "start_time": "2022-06-26T11:58:17.276445Z"
    }
   },
   "outputs": [
    {
     "name": "stdout",
     "output_type": "stream",
     "text": [
      "[(-3.2627211857519924, 8.5)]\n"
     ]
    }
   ],
   "source": [
    "print(list(filter(lambda x: x[1] == 8.5, zip(Y2, X2))))\n",
    "cur_level = list(filter(lambda x: x[1] == 8.5, zip(Y2, X2)))[0][0]"
   ]
  },
  {
   "cell_type": "code",
   "execution_count": 22,
   "id": "3ad87afb",
   "metadata": {
    "ExecuteTime": {
     "end_time": "2022-06-26T11:58:42.841651Z",
     "start_time": "2022-06-26T11:58:42.654624Z"
    }
   },
   "outputs": [
    {
     "data": {
      "image/png": "[encoded data removed]",
      "text/plain": [
       "<Figure size 720x432 with 1 Axes>"
      ]
     },
     "metadata": {},
     "output_type": "display_data"
    }
   ],
   "source": [
    "Y2 = Y2 + 58.01785506499999 - cur_level # 58 - входящий объем кредитов в системе\n",
    "                                        # cur_level - объем для ключевой 8.5, получившийся в регрессии\n",
    "Y2, X2 = zip(*list(filter(lambda x: x[1] <= 14, list(zip(Y2, X2))))) # выкидываем три крайние правые точки (выбросы)\n",
    "plt.figure(figsize=(10, 6))\n",
    "plt.scatter(X2, Y2, label='True')\n",
    "plt.legend()\n",
    "plt.show()"
   ]
  },
  {
   "cell_type": "code",
   "execution_count": null,
   "id": "e53ea492",
   "metadata": {},
   "outputs": [],
   "source": []
  },
  {
   "cell_type": "code",
   "execution_count": 51,
   "id": "4d8597ce",
   "metadata": {
    "ExecuteTime": {
     "end_time": "2022-06-18T07:47:20.656391Z",
     "start_time": "2022-06-18T07:47:20.647352Z"
    }
   },
   "outputs": [],
   "source": [
    "# Y2, X2 = zip(*list(filter(lambda x: x[0] > -3 and x[0] < 4, list(zip(Y2, X2)))))"
   ]
  },
  {
   "cell_type": "code",
   "execution_count": 73,
   "id": "9743440f",
   "metadata": {
    "ExecuteTime": {
     "end_time": "2022-06-18T08:17:06.899886Z",
     "start_time": "2022-06-18T08:17:06.870893Z"
    }
   },
   "outputs": [
    {
     "data": {
      "text/plain": [
       "array([-0.01459079,  4.23381792])"
      ]
     },
     "execution_count": 73,
     "metadata": {},
     "output_type": "execute_result"
    }
   ],
   "source": [
    "np.polyfit(X2, np.log(Y2), 1)\n",
    "# model = np.poly1d(np.polyfit(X1, Y1, 2))\n",
    "\n",
    "# polyline = np.linspace(0.98, 1.6, 50)\n",
    "# plt.scatter(X1, Y1)\n",
    "# plt.plot(polyline, model(polyline), c='r')\n",
    "# plt.show()"
   ]
  },
  {
   "cell_type": "code",
   "execution_count": 25,
   "id": "b69aee09",
   "metadata": {
    "ExecuteTime": {
     "end_time": "2022-06-26T11:59:06.532470Z",
     "start_time": "2022-06-26T11:59:06.529467Z"
    }
   },
   "outputs": [],
   "source": [
    "Y2 = np.log(Y2)"
   ]
  },
  {
   "cell_type": "code",
   "execution_count": 26,
   "id": "1cadf7ef",
   "metadata": {
    "ExecuteTime": {
     "end_time": "2022-06-26T11:59:09.968820Z",
     "start_time": "2022-06-26T11:59:09.693678Z"
    }
   },
   "outputs": [
    {
     "name": "stdout",
     "output_type": "stream",
     "text": [
      "Параметры регресии: [ 4.23381792 -0.01459079]\n"
     ]
    },
    {
     "data": {
      "image/png": "[encoded data removed]",
      "text/plain": [
       "<Figure size 720x432 with 1 Axes>"
      ]
     },
     "metadata": {},
     "output_type": "display_data"
    }
   ],
   "source": [
    "fit_OLS(X2, Y2, 'ключевую ставку', 'остатков регрессии 1', False)"
   ]
  },
  {
   "cell_type": "code",
   "execution_count": 27,
   "id": "63f5b5a6",
   "metadata": {
    "ExecuteTime": {
     "end_time": "2022-06-26T11:59:13.127766Z",
     "start_time": "2022-06-26T11:59:13.120764Z"
    }
   },
   "outputs": [],
   "source": [
    "def exp_f(x):\n",
    "    return np.exp(4.23381792) * np.exp(-0.01459079 * x)"
   ]
  },
  {
   "cell_type": "code",
   "execution_count": 28,
   "id": "ec012dbf",
   "metadata": {
    "ExecuteTime": {
     "end_time": "2022-06-26T11:59:13.425640Z",
     "start_time": "2022-06-26T11:59:13.418637Z"
    }
   },
   "outputs": [
    {
     "data": {
      "text/plain": [
       "2.9164431338609305"
      ]
     },
     "execution_count": 28,
     "metadata": {},
     "output_type": "execute_result"
    }
   ],
   "source": [
    "exp_f(8.5) - 58.01785506499999"
   ]
  },
  {
   "cell_type": "code",
   "execution_count": 32,
   "id": "d6bb71d0",
   "metadata": {
    "ExecuteTime": {
     "end_time": "2022-06-26T16:06:32.373915Z",
     "start_time": "2022-06-26T16:06:31.308455Z"
    }
   },
   "outputs": [
    {
     "data": {
      "image/png": "[encoded data removed]",
      "text/plain": [
       "<Figure size 648x360 with 1 Axes>"
      ]
     },
     "metadata": {
      "image/png": {
       "height": 305,
       "width": 544
      }
     },
     "output_type": "display_data"
    }
   ],
   "source": [
    "%config InlineBackend.figure_format = 'retina'\n",
    "x_arr = np.linspace(-50, 300, 100)\n",
    "y_arr = [exp_f(x) - (exp_f(8.5) - 58.01785506499999) for x in x_arr]\n",
    "plt.figure(figsize=(9, 5))\n",
    "plt.plot(x_arr, y_arr)\n",
    "plt.scatter(x=8.5, y=58.01785506499999, s=25, c='r')\n",
    "plt.show()"
   ]
  },
  {
   "cell_type": "code",
   "execution_count": 66,
   "id": "e28ba7ea",
   "metadata": {
    "ExecuteTime": {
     "end_time": "2022-06-18T08:12:01.348325Z",
     "start_time": "2022-06-18T08:12:01.330359Z"
    }
   },
   "outputs": [],
   "source": [
    "def exp_f_adj(x):\n",
    "    return np.exp(4.23381792) * np.exp(-0.01459079 * x) - 2.9164431338609305"
   ]
  },
  {
   "cell_type": "code",
   "execution_count": null,
   "id": "429f5b22",
   "metadata": {},
   "outputs": [],
   "source": []
  },
  {
   "cell_type": "code",
   "execution_count": null,
   "id": "6cf49283",
   "metadata": {},
   "outputs": [],
   "source": []
  }
 ],
 "metadata": {
  "kernelspec": {
   "display_name": "Python 3",
   "language": "python",
   "name": "python3"
  },
  "language_info": {
   "codemirror_mode": {
    "name": "ipython",
    "version": 3
   },
   "file_extension": ".py",
   "mimetype": "text/x-python",
   "name": "python",
   "nbconvert_exporter": "python",
   "pygments_lexer": "ipython3",
   "version": "3.8.8"
  }
 },
 "nbformat": 4,
 "nbformat_minor": 5
}
