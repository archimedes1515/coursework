{
 "cells": [
  {
   "cell_type": "markdown",
   "id": "34ae153a",
   "metadata": {
    "ExecuteTime": {
     "end_time": "2022-04-19T16:41:13.091261Z",
     "start_time": "2022-04-19T16:41:13.069033Z"
    }
   },
   "source": [
    "## Жерноклеев Дмитрий \n",
    "### Курсовая работа. "
   ]
  },
  {
   "cell_type": "markdown",
   "id": "4f6a0c0d",
   "metadata": {},
   "source": [
    "### Импортируем необходимые модули"
   ]
  },
  {
   "cell_type": "code",
   "execution_count": 1,
   "id": "f21b539e",
   "metadata": {
    "ExecuteTime": {
     "end_time": "2022-05-12T15:12:27.176634Z",
     "start_time": "2022-05-12T15:12:27.171678Z"
    }
   },
   "outputs": [],
   "source": [
    "# Агентное моделирование в Python можно реализовывать \n",
    "# с использованием модуля Mesa\n",
    "# !pip install mesa"
   ]
  },
  {
   "cell_type": "code",
   "execution_count": 32,
   "id": "31346703",
   "metadata": {
    "ExecuteTime": {
     "end_time": "2022-05-12T15:28:56.822020Z",
     "start_time": "2022-05-12T15:28:56.200028Z"
    }
   },
   "outputs": [],
   "source": [
    "import numpy as np\n",
    "import pandas as pd\n",
    "import matplotlib.pyplot as plt\n",
    "import seaborn as sns\n",
    "from mesa import Agent, Model # будем работать с модулем mesa\n",
    "from mesa.time import RandomActivation\n",
    "from mesa.time import BaseScheduler\n",
    "from mesa.space import MultiGrid\n",
    "from mesa.datacollection import DataCollector\n",
    "from mesa.batchrunner import BatchRunner\n",
    "from tqdm import tqdm\n",
    "import itertools\n",
    "import math as mt\n",
    "%matplotlib inline\n",
    "sns.set(style=\"darkgrid\")"
   ]
  },
  {
   "cell_type": "code",
   "execution_count": 3,
   "id": "7f6210b9",
   "metadata": {
    "ExecuteTime": {
     "end_time": "2022-05-12T15:12:30.969624Z",
     "start_time": "2022-05-12T15:12:30.041626Z"
    }
   },
   "outputs": [],
   "source": [
    "from scipy.optimize import minimize\n",
    "from scipy.optimize import Bounds\n",
    "from scipy.optimize import LinearConstraint"
   ]
  },
  {
   "cell_type": "markdown",
   "id": "c5dea25b",
   "metadata": {},
   "source": [
    "### Подготовим данные по кредитным и депозитным портфелям для интересующих нас банков."
   ]
  },
  {
   "cell_type": "code",
   "execution_count": 4,
   "id": "63e4363a",
   "metadata": {
    "ExecuteTime": {
     "end_time": "2022-05-12T15:12:40.529871Z",
     "start_time": "2022-05-12T15:12:40.513865Z"
    }
   },
   "outputs": [],
   "source": [
    "def df_prep_func(f_name: str):\n",
    "    '''\n",
    "    Функция подготовки датафреймов (на банки.ру они одноформатные).\n",
    "    Данные берём за сентябрь, декабрь 2021, \n",
    "    т.к. нам важны концы последних двух кварталов.\n",
    "    '''\n",
    "    df = pd.read_csv(f_name, sep=';', index_col='Название банка', \n",
    "                                  skiprows=3, encoding='cp1251')\n",
    "    df = df.iloc[:, [4, 5]]\n",
    "    df.rename(columns={'Декабрь, 2021, тыс. рублей': '12.21, тыс.руб.', \n",
    "                        'Сентябрь, 2021, тыс. рублей': '09.21, тыс.руб.'}, inplace=True)\n",
    "    # print(df.head(10))\n",
    "    # print(df.shape)\n",
    "    for col in df.columns: # преобразование колонок с числами к типу float\n",
    "        df[col] = df[col].str.replace(' ', '')\n",
    "        df[col] = df[col].str.replace(',', '.').astype(float)\n",
    "    return df"
   ]
  },
  {
   "cell_type": "code",
   "execution_count": 5,
   "id": "c06d8ad4",
   "metadata": {
    "ExecuteTime": {
     "end_time": "2022-05-12T15:12:40.951726Z",
     "start_time": "2022-05-12T15:12:40.857485Z"
    }
   },
   "outputs": [],
   "source": [
    "df_firm_credits = df_prep_func('credits_firms.csv')\n",
    "df_individ_credits = df_prep_func('credits_individ.csv')"
   ]
  },
  {
   "cell_type": "code",
   "execution_count": 6,
   "id": "dc47a0f7",
   "metadata": {
    "ExecuteTime": {
     "end_time": "2022-05-12T15:12:42.160637Z",
     "start_time": "2022-05-12T15:12:42.141634Z"
    }
   },
   "outputs": [],
   "source": [
    "def join_sum(df1, df2, bank_lst: list, portf_type='кред.'):\n",
    "    '''\n",
    "    Для получения кредитного/депозитного портфелей надо в обоих случаях\n",
    "    получить данные из двух датафреймов, сджойнить (по индексу)\n",
    "    и сложить соответствующие столбцы. portf_type - параметр \n",
    "    для правильного нейминга колонок результирующего датафрейма.\n",
    "    '''\n",
    "    df_joined = df1.join(df2, how='inner', lsuffix=' фирмы', rsuffix=' физ.лица')\n",
    "    naming_str = portf_type + ' портф.'\n",
    "    df_joined['Сент. 2021 ' + naming_str] = \\\n",
    "                        (df_joined['09.21, тыс.руб. фирмы'] \n",
    "                         + df_joined['09.21, тыс.руб. физ.лица']) * 1e3\n",
    "    df_joined['Дек. 2021 ' + naming_str] = \\\n",
    "                        (df_joined['12.21, тыс.руб. фирмы'] \n",
    "                         + df_joined['12.21, тыс.руб. физ.лица']) * 1e3 # умножаем, чтобы не писать про тыс.\n",
    "    return df_joined.iloc[:, [-2, -1]]\\\n",
    "                      .loc[bank_lst].sort_values('Дек. 2021 ' + naming_str, ascending=False)    "
   ]
  },
  {
   "cell_type": "code",
   "execution_count": 7,
   "id": "586900cb",
   "metadata": {
    "ExecuteTime": {
     "end_time": "2022-05-12T15:12:42.552982Z",
     "start_time": "2022-05-12T15:12:42.511991Z"
    }
   },
   "outputs": [
    {
     "data": {
      "text/html": [
       "<div>\n",
       "<style scoped>\n",
       "    .dataframe tbody tr th:only-of-type {\n",
       "        vertical-align: middle;\n",
       "    }\n",
       "\n",
       "    .dataframe tbody tr th {\n",
       "        vertical-align: top;\n",
       "    }\n",
       "\n",
       "    .dataframe thead th {\n",
       "        text-align: right;\n",
       "    }\n",
       "</style>\n",
       "<table border=\"1\" class=\"dataframe\">\n",
       "  <thead>\n",
       "    <tr style=\"text-align: right;\">\n",
       "      <th></th>\n",
       "      <th>Сент. 2021 кред. портф.</th>\n",
       "      <th>Дек. 2021 кред. портф.</th>\n",
       "    </tr>\n",
       "    <tr>\n",
       "      <th>Название банка</th>\n",
       "      <th></th>\n",
       "      <th></th>\n",
       "    </tr>\n",
       "  </thead>\n",
       "  <tbody>\n",
       "    <tr>\n",
       "      <th>СберБанк</th>\n",
       "      <td>2.501438e+13</td>\n",
       "      <td>2.645656e+13</td>\n",
       "    </tr>\n",
       "    <tr>\n",
       "      <th>ВТБ</th>\n",
       "      <td>1.170838e+13</td>\n",
       "      <td>1.176611e+13</td>\n",
       "    </tr>\n",
       "    <tr>\n",
       "      <th>Газпромбанк</th>\n",
       "      <td>5.402313e+12</td>\n",
       "      <td>5.556576e+12</td>\n",
       "    </tr>\n",
       "    <tr>\n",
       "      <th>Альфа-Банк</th>\n",
       "      <td>3.439682e+12</td>\n",
       "      <td>3.750167e+12</td>\n",
       "    </tr>\n",
       "    <tr>\n",
       "      <th>Россельхозбанк</th>\n",
       "      <td>2.800246e+12</td>\n",
       "      <td>2.864869e+12</td>\n",
       "    </tr>\n",
       "    <tr>\n",
       "      <th>Московский Кредитный Банк</th>\n",
       "      <td>2.357967e+12</td>\n",
       "      <td>2.584704e+12</td>\n",
       "    </tr>\n",
       "    <tr>\n",
       "      <th>Банк Открытие</th>\n",
       "      <td>1.896928e+12</td>\n",
       "      <td>2.021237e+12</td>\n",
       "    </tr>\n",
       "    <tr>\n",
       "      <th>Совкомбанк</th>\n",
       "      <td>9.871598e+11</td>\n",
       "      <td>1.133929e+12</td>\n",
       "    </tr>\n",
       "    <tr>\n",
       "      <th>Райффайзенбанк</th>\n",
       "      <td>9.354995e+11</td>\n",
       "      <td>9.904486e+11</td>\n",
       "    </tr>\n",
       "    <tr>\n",
       "      <th>Росбанк</th>\n",
       "      <td>8.738260e+11</td>\n",
       "      <td>8.932515e+11</td>\n",
       "    </tr>\n",
       "  </tbody>\n",
       "</table>\n",
       "</div>"
      ],
      "text/plain": [
       "                           Сент. 2021 кред. портф.  Дек. 2021 кред. портф.\n",
       "Название банка                                                            \n",
       "СберБанк                              2.501438e+13            2.645656e+13\n",
       "ВТБ                                   1.170838e+13            1.176611e+13\n",
       "Газпромбанк                           5.402313e+12            5.556576e+12\n",
       "Альфа-Банк                            3.439682e+12            3.750167e+12\n",
       "Россельхозбанк                        2.800246e+12            2.864869e+12\n",
       "Московский Кредитный Банк             2.357967e+12            2.584704e+12\n",
       "Банк Открытие                         1.896928e+12            2.021237e+12\n",
       "Совкомбанк                            9.871598e+11            1.133929e+12\n",
       "Райффайзенбанк                        9.354995e+11            9.904486e+11\n",
       "Росбанк                               8.738260e+11            8.932515e+11"
      ]
     },
     "execution_count": 7,
     "metadata": {},
     "output_type": "execute_result"
    }
   ],
   "source": [
    "banks_of_interest_lst = ['СберБанк', 'ВТБ', 'Газпромбанк', 'Альфа-Банк', \n",
    "                         'Россельхозбанк', 'Московский Кредитный Банк',\n",
    "                         'Банк Открытие', 'Совкомбанк', 'Райффайзенбанк',\n",
    "                         'Росбанк']\n",
    "df_cred_portf = join_sum(df_firm_credits, df_individ_credits, banks_of_interest_lst)\n",
    "df_cred_portf"
   ]
  },
  {
   "cell_type": "code",
   "execution_count": 8,
   "id": "e71e2abd",
   "metadata": {
    "ExecuteTime": {
     "end_time": "2022-05-12T15:12:44.489426Z",
     "start_time": "2022-05-12T15:12:44.407386Z"
    }
   },
   "outputs": [
    {
     "data": {
      "text/html": [
       "<div>\n",
       "<style scoped>\n",
       "    .dataframe tbody tr th:only-of-type {\n",
       "        vertical-align: middle;\n",
       "    }\n",
       "\n",
       "    .dataframe tbody tr th {\n",
       "        vertical-align: top;\n",
       "    }\n",
       "\n",
       "    .dataframe thead th {\n",
       "        text-align: right;\n",
       "    }\n",
       "</style>\n",
       "<table border=\"1\" class=\"dataframe\">\n",
       "  <thead>\n",
       "    <tr style=\"text-align: right;\">\n",
       "      <th></th>\n",
       "      <th>Сент. 2021 депоз. портф.</th>\n",
       "      <th>Дек. 2021 депоз. портф.</th>\n",
       "    </tr>\n",
       "    <tr>\n",
       "      <th>Название банка</th>\n",
       "      <th></th>\n",
       "      <th></th>\n",
       "    </tr>\n",
       "  </thead>\n",
       "  <tbody>\n",
       "    <tr>\n",
       "      <th>СберБанк</th>\n",
       "      <td>2.532796e+13</td>\n",
       "      <td>2.591045e+13</td>\n",
       "    </tr>\n",
       "    <tr>\n",
       "      <th>ВТБ</th>\n",
       "      <td>1.402675e+13</td>\n",
       "      <td>1.412808e+13</td>\n",
       "    </tr>\n",
       "    <tr>\n",
       "      <th>Газпромбанк</th>\n",
       "      <td>6.107606e+12</td>\n",
       "      <td>6.620371e+12</td>\n",
       "    </tr>\n",
       "    <tr>\n",
       "      <th>Альфа-Банк</th>\n",
       "      <td>3.792927e+12</td>\n",
       "      <td>4.183137e+12</td>\n",
       "    </tr>\n",
       "    <tr>\n",
       "      <th>Россельхозбанк</th>\n",
       "      <td>2.980584e+12</td>\n",
       "      <td>3.116114e+12</td>\n",
       "    </tr>\n",
       "    <tr>\n",
       "      <th>Московский Кредитный Банк</th>\n",
       "      <td>1.980591e+12</td>\n",
       "      <td>2.117120e+12</td>\n",
       "    </tr>\n",
       "    <tr>\n",
       "      <th>Банк Открытие</th>\n",
       "      <td>1.888624e+12</td>\n",
       "      <td>2.046150e+12</td>\n",
       "    </tr>\n",
       "    <tr>\n",
       "      <th>Совкомбанк</th>\n",
       "      <td>1.264465e+12</td>\n",
       "      <td>1.379808e+12</td>\n",
       "    </tr>\n",
       "    <tr>\n",
       "      <th>Райффайзенбанк</th>\n",
       "      <td>1.155217e+12</td>\n",
       "      <td>1.162677e+12</td>\n",
       "    </tr>\n",
       "    <tr>\n",
       "      <th>Росбанк</th>\n",
       "      <td>9.481105e+11</td>\n",
       "      <td>1.004245e+12</td>\n",
       "    </tr>\n",
       "  </tbody>\n",
       "</table>\n",
       "</div>"
      ],
      "text/plain": [
       "                           Сент. 2021 депоз. портф.  Дек. 2021 депоз. портф.\n",
       "Название банка                                                              \n",
       "СберБанк                               2.532796e+13             2.591045e+13\n",
       "ВТБ                                    1.402675e+13             1.412808e+13\n",
       "Газпромбанк                            6.107606e+12             6.620371e+12\n",
       "Альфа-Банк                             3.792927e+12             4.183137e+12\n",
       "Россельхозбанк                         2.980584e+12             3.116114e+12\n",
       "Московский Кредитный Банк              1.980591e+12             2.117120e+12\n",
       "Банк Открытие                          1.888624e+12             2.046150e+12\n",
       "Совкомбанк                             1.264465e+12             1.379808e+12\n",
       "Райффайзенбанк                         1.155217e+12             1.162677e+12\n",
       "Росбанк                                9.481105e+11             1.004245e+12"
      ]
     },
     "execution_count": 8,
     "metadata": {},
     "output_type": "execute_result"
    }
   ],
   "source": [
    "df_firm_deposits = df_prep_func('deposit_firms.csv')\n",
    "df_individ_deposits = df_prep_func('deposit_individ.csv')\n",
    "df_deposit_portf = join_sum(df_firm_deposits, df_individ_deposits, banks_of_interest_lst, 'депоз.')\n",
    "df_deposit_portf"
   ]
  },
  {
   "cell_type": "code",
   "execution_count": 9,
   "id": "a19de4d8",
   "metadata": {
    "ExecuteTime": {
     "end_time": "2022-05-12T15:12:46.658806Z",
     "start_time": "2022-05-12T15:12:46.631807Z"
    }
   },
   "outputs": [
    {
     "data": {
      "text/html": [
       "<div>\n",
       "<style scoped>\n",
       "    .dataframe tbody tr th:only-of-type {\n",
       "        vertical-align: middle;\n",
       "    }\n",
       "\n",
       "    .dataframe tbody tr th {\n",
       "        vertical-align: top;\n",
       "    }\n",
       "\n",
       "    .dataframe thead th {\n",
       "        text-align: right;\n",
       "    }\n",
       "</style>\n",
       "<table border=\"1\" class=\"dataframe\">\n",
       "  <thead>\n",
       "    <tr style=\"text-align: right;\">\n",
       "      <th></th>\n",
       "      <th>Сент. 2021 депоз. ставка, %</th>\n",
       "      <th>Дек. 2021 депоз. ставка, %</th>\n",
       "    </tr>\n",
       "  </thead>\n",
       "  <tbody>\n",
       "    <tr>\n",
       "      <th>СберБанк</th>\n",
       "      <td>2.5</td>\n",
       "      <td>3.2</td>\n",
       "    </tr>\n",
       "    <tr>\n",
       "      <th>ВТБ</th>\n",
       "      <td>4.4</td>\n",
       "      <td>4.5</td>\n",
       "    </tr>\n",
       "    <tr>\n",
       "      <th>Газпромбанк</th>\n",
       "      <td>4.9</td>\n",
       "      <td>4.8</td>\n",
       "    </tr>\n",
       "    <tr>\n",
       "      <th>Альфа-Банк</th>\n",
       "      <td>3.5</td>\n",
       "      <td>3.6</td>\n",
       "    </tr>\n",
       "    <tr>\n",
       "      <th>Россельхозбанк</th>\n",
       "      <td>3.4</td>\n",
       "      <td>3.8</td>\n",
       "    </tr>\n",
       "    <tr>\n",
       "      <th>Московский Кредитный Банк</th>\n",
       "      <td>5.6</td>\n",
       "      <td>5.5</td>\n",
       "    </tr>\n",
       "    <tr>\n",
       "      <th>Банк Открытие</th>\n",
       "      <td>4.4</td>\n",
       "      <td>4.4</td>\n",
       "    </tr>\n",
       "    <tr>\n",
       "      <th>Совкомбанк</th>\n",
       "      <td>3.4</td>\n",
       "      <td>4.1</td>\n",
       "    </tr>\n",
       "    <tr>\n",
       "      <th>Райффайзенбанк</th>\n",
       "      <td>4.7</td>\n",
       "      <td>5.2</td>\n",
       "    </tr>\n",
       "    <tr>\n",
       "      <th>Росбанк</th>\n",
       "      <td>4.5</td>\n",
       "      <td>5.0</td>\n",
       "    </tr>\n",
       "  </tbody>\n",
       "</table>\n",
       "</div>"
      ],
      "text/plain": [
       "                           Сент. 2021 депоз. ставка, %  \\\n",
       "СберБанк                                           2.5   \n",
       "ВТБ                                                4.4   \n",
       "Газпромбанк                                        4.9   \n",
       "Альфа-Банк                                         3.5   \n",
       "Россельхозбанк                                     3.4   \n",
       "Московский Кредитный Банк                          5.6   \n",
       "Банк Открытие                                      4.4   \n",
       "Совкомбанк                                         3.4   \n",
       "Райффайзенбанк                                     4.7   \n",
       "Росбанк                                            4.5   \n",
       "\n",
       "                           Дек. 2021 депоз. ставка, %  \n",
       "СберБанк                                          3.2  \n",
       "ВТБ                                               4.5  \n",
       "Газпромбанк                                       4.8  \n",
       "Альфа-Банк                                        3.6  \n",
       "Россельхозбанк                                    3.8  \n",
       "Московский Кредитный Банк                         5.5  \n",
       "Банк Открытие                                     4.4  \n",
       "Совкомбанк                                        4.1  \n",
       "Райффайзенбанк                                    5.2  \n",
       "Росбанк                                           5.0  "
      ]
     },
     "execution_count": 9,
     "metadata": {},
     "output_type": "execute_result"
    }
   ],
   "source": [
    "dep_rates_dict = {'Сент. 2021 депоз. ставка, %': [2.5, 4.4, 4.9, 3.5, 3.4, 5.6, 4.4, 3.4, 4.7, 4.5],\n",
    "                  'Дек. 2021 депоз. ставка, %': [3.2, 4.5, 4.8, 3.6, 3.8, 5.5, 4.4, 4.1, 5.2, 5]}\n",
    "df_deposit_rates = pd.DataFrame.from_dict(dep_rates_dict)\n",
    "df_deposit_rates.index = banks_of_interest_lst\n",
    "df_deposit_rates"
   ]
  },
  {
   "cell_type": "code",
   "execution_count": 10,
   "id": "d49c788c",
   "metadata": {
    "ExecuteTime": {
     "end_time": "2022-05-12T15:12:48.020151Z",
     "start_time": "2022-05-12T15:12:48.003194Z"
    }
   },
   "outputs": [
    {
     "data": {
      "text/html": [
       "<div>\n",
       "<style scoped>\n",
       "    .dataframe tbody tr th:only-of-type {\n",
       "        vertical-align: middle;\n",
       "    }\n",
       "\n",
       "    .dataframe tbody tr th {\n",
       "        vertical-align: top;\n",
       "    }\n",
       "\n",
       "    .dataframe thead th {\n",
       "        text-align: right;\n",
       "    }\n",
       "</style>\n",
       "<table border=\"1\" class=\"dataframe\">\n",
       "  <thead>\n",
       "    <tr style=\"text-align: right;\">\n",
       "      <th></th>\n",
       "      <th>Сент. 2021 кред. ставка, %</th>\n",
       "      <th>Дек. 2021 кред. ставка, %</th>\n",
       "    </tr>\n",
       "  </thead>\n",
       "  <tbody>\n",
       "    <tr>\n",
       "      <th>СберБанк</th>\n",
       "      <td>11.2</td>\n",
       "      <td>12.4</td>\n",
       "    </tr>\n",
       "    <tr>\n",
       "      <th>ВТБ</th>\n",
       "      <td>10.8</td>\n",
       "      <td>11.6</td>\n",
       "    </tr>\n",
       "    <tr>\n",
       "      <th>Газпромбанк</th>\n",
       "      <td>10.2</td>\n",
       "      <td>10.8</td>\n",
       "    </tr>\n",
       "    <tr>\n",
       "      <th>Альфа-Банк</th>\n",
       "      <td>10.7</td>\n",
       "      <td>11.3</td>\n",
       "    </tr>\n",
       "    <tr>\n",
       "      <th>Россельхозбанк</th>\n",
       "      <td>11.6</td>\n",
       "      <td>11.7</td>\n",
       "    </tr>\n",
       "    <tr>\n",
       "      <th>Московский Кредитный Банк</th>\n",
       "      <td>10.9</td>\n",
       "      <td>11.8</td>\n",
       "    </tr>\n",
       "    <tr>\n",
       "      <th>Банк Открытие</th>\n",
       "      <td>12.1</td>\n",
       "      <td>12.2</td>\n",
       "    </tr>\n",
       "    <tr>\n",
       "      <th>Совкомбанк</th>\n",
       "      <td>11.9</td>\n",
       "      <td>13.1</td>\n",
       "    </tr>\n",
       "    <tr>\n",
       "      <th>Райффайзенбанк</th>\n",
       "      <td>9.8</td>\n",
       "      <td>10.7</td>\n",
       "    </tr>\n",
       "    <tr>\n",
       "      <th>Росбанк</th>\n",
       "      <td>10.5</td>\n",
       "      <td>10.4</td>\n",
       "    </tr>\n",
       "  </tbody>\n",
       "</table>\n",
       "</div>"
      ],
      "text/plain": [
       "                           Сент. 2021 кред. ставка, %  \\\n",
       "СберБанк                                         11.2   \n",
       "ВТБ                                              10.8   \n",
       "Газпромбанк                                      10.2   \n",
       "Альфа-Банк                                       10.7   \n",
       "Россельхозбанк                                   11.6   \n",
       "Московский Кредитный Банк                        10.9   \n",
       "Банк Открытие                                    12.1   \n",
       "Совкомбанк                                       11.9   \n",
       "Райффайзенбанк                                    9.8   \n",
       "Росбанк                                          10.5   \n",
       "\n",
       "                           Дек. 2021 кред. ставка, %  \n",
       "СберБанк                                        12.4  \n",
       "ВТБ                                             11.6  \n",
       "Газпромбанк                                     10.8  \n",
       "Альфа-Банк                                      11.3  \n",
       "Россельхозбанк                                  11.7  \n",
       "Московский Кредитный Банк                       11.8  \n",
       "Банк Открытие                                   12.2  \n",
       "Совкомбанк                                      13.1  \n",
       "Райффайзенбанк                                  10.7  \n",
       "Росбанк                                         10.4  "
      ]
     },
     "execution_count": 10,
     "metadata": {},
     "output_type": "execute_result"
    }
   ],
   "source": [
    "cred_rates_dict = {'Сент. 2021 кред. ставка, %': [11.2, 10.8, 10.2, 10.7, 11.6, 10.9, 12.1, 11.9, 9.8, 10.5],\n",
    "                   'Дек. 2021 кред. ставка, %': [12.4, 11.6, 10.8, 11.3, 11.7, 11.8, 12.2, 13.1, 10.7, 10.4]}\n",
    "df_credit_rates = pd.DataFrame.from_dict(cred_rates_dict)\n",
    "df_credit_rates.index = banks_of_interest_lst\n",
    "df_credit_rates"
   ]
  },
  {
   "cell_type": "markdown",
   "id": "df6df440",
   "metadata": {},
   "source": [
    "### Отрисуем для лучшего представления обозначенную нами в работе функцию зависимости объема кредитования от средней ставки по рынку."
   ]
  },
  {
   "cell_type": "code",
   "execution_count": 25,
   "id": "070d7e95",
   "metadata": {
    "ExecuteTime": {
     "end_time": "2022-05-12T15:26:10.002488Z",
     "start_time": "2022-05-12T15:26:09.983498Z"
    }
   },
   "outputs": [],
   "source": [
    "def f(x):\n",
    "    elast = 0.2\n",
    "    k = (10 ** 13) * (mt.e ** (2 * elast))\n",
    "    return k * mt.exp(-elast * x) if x >=2 else 10 ** 13"
   ]
  },
  {
   "cell_type": "code",
   "execution_count": 26,
   "id": "593cca7b",
   "metadata": {
    "ExecuteTime": {
     "end_time": "2022-05-12T15:26:10.422093Z",
     "start_time": "2022-05-12T15:26:10.416088Z"
    }
   },
   "outputs": [],
   "source": [
    "x_arr = np.linspace(0, 40, 100)\n",
    "y_arr = list(map(f, x_arr))"
   ]
  },
  {
   "cell_type": "code",
   "execution_count": 34,
   "id": "fcab08cc",
   "metadata": {
    "ExecuteTime": {
     "end_time": "2022-05-12T15:29:11.040170Z",
     "start_time": "2022-05-12T15:29:10.748972Z"
    }
   },
   "outputs": [
    {
     "data": {
      "image/png": "[encoded data removed]",
      "text/plain": [
       "<Figure size 864x432 with 1 Axes>"
      ]
     },
     "metadata": {
      "image/png": {
       "height": 388,
       "width": 722
      }
     },
     "output_type": "display_data"
    }
   ],
   "source": [
    "%config InlineBackend.figure_format = 'retina'\n",
    "plt.figure(figsize=(12, 6))\n",
    "plt.xlabel('Среднерыночная ставка по кредитам', fontsize=10)\n",
    "plt.ylabel('Объем кредитов в системе', fontsize=10)\n",
    "plt.title('График зависимости объема кредитования на рынке от среднерыночной ставки по кредитам', fontsize=12, weight='bold')\n",
    "plt.plot(x_arr, y_arr)\n",
    "plt.show()"
   ]
  },
  {
   "cell_type": "markdown",
   "id": "934f93ce",
   "metadata": {},
   "source": [
    "### Создадим класс для агентов нашей модели"
   ]
  },
  {
   "cell_type": "code",
   "execution_count": null,
   "id": "d4ab134b",
   "metadata": {},
   "outputs": [],
   "source": [
    "class BankSysAgent(Agent):\n",
    "    def __init__(self, unique_id, model, agent_type, name):\n",
    "        super().__init__(unique_id, model)\n",
    "        self.agent_type = agent_type # тип агента (ЦБ/банк/частный сектор(ЧС))\n",
    "        self.name = name # имя (название) агента\n",
    "    \n",
    "    def step(self):\n",
    "        if self.agent_type == 'CB': # шаг для ЦБ (первый раунд)\n",
    "            # if self.model.step_num > 0: # счетчик шагов?\n",
    "            self.model.key_rate_t += self.model.k            \n",
    "                                     * (self.model.rate_quart_to_year(\n",
    "                                         self.model.delt_market_cred_portfolio)\n",
    "                                        - self.model.target_inflat) # вычисление ключевой ставки\n",
    "        elif self.agent_type == 'Bank': # шаг для банков (второй раунд)\n",
    "            pass        \n",
    "        else: # elif self.agent_type == 'PrivSect':\n",
    "            # if self.model.step_num > 0: # с\n",
    "            credit_rate_sum, deposit_rate_sum = 0, 0\n",
    "            for a in self.model.schedule.agents:\n",
    "                # if a.agent_type == 'Bank':\n",
    "                rate_sum += self.model.credit_rate_dict.get(a.name, 0) # a.rate     \n",
    "                deposit_rate_sum += self.model.deposit_rate_dict.get(a.name, 0)\n",
    "            mean_bank_credit_rate = rate_sum / self.model.num_banks # считаем среднерыночную ставку\n",
    "                                                                    # и объем взятых ЧС кредитов\n",
    "            self.model.credit_vol = self.model.credit_vol_calc(mean_bank_credit_rate,\n",
    "                                                               self.model.pelast, self.model.start_balance)\n",
    "            self.model.deposit_vol = self.model.credit_vol # полагаем объем депозитов = объему кредитов\n",
    "            for a in self.model.schedule.agents:\n",
    "                if a.agent_type == 'Bank':\n",
    "                    bank_credit_rate_spread = self.model.credit_rate_dict[a.name]\n",
    "                                              - (rate_sum - self.model.credit_rate_dict[a.name]) \n",
    "                                              / (self.model.num_banks - 1)\n",
    "                    self.model.cred_portfolio_dict[a.name] = -2 * self.model.sigm(self.model.alpha_dict[a.name] \n",
    "                                                                                  * bank_credit_rate_spread)\n",
    "                                                              * self.model.credit_vol \n",
    "                                                              * (self.model.cred_portfolio_t_1_dict[a.name]\n",
    "                                                                 / self.model.credit_vol_t_1)\n",
    "                                         \n",
    "                    bank_deposit_rate_spread = self.model.deposit_rate_dict[a.name]\n",
    "                                               - (deposit_rate_sum - self.model.deposit_rate_dict[a.name]) \n",
    "                                               / (self.model.num_banks - 1)\n",
    "                    self.model.deposit_portfolio_dict[a.name] = 2 * self.model.sigm(self.model.alpha_dict[a.name] \n",
    "                                                                                    * bank_deposit_rate_spread)\n",
    "                                                                * self.model.deposit_vol\n",
    "                                                                * (self.model.deposit_portfolio_t_1_dict[a.name]                                                                   \n",
    "                                                                   / self.model.deposit_vol_t_1)\n",
    "                                            \n",
    "                    self.CBMoney = self.model.deposit_portfolio_dict[a.name] \n",
    "                                   - self.model.cred_portfolio_dict[a.name]\n",
    "            \n",
    "        raise NotImplementedError       "
   ]
  },
  {
   "cell_type": "markdown",
   "id": "f08f760c",
   "metadata": {},
   "source": [
    "### Также создадим класс собственно для самой модели"
   ]
  },
  {
   "cell_type": "code",
   "execution_count": null,
   "id": "37c6b34c",
   "metadata": {},
   "outputs": [],
   "source": [
    "class BankSysModel(Model):\n",
    "    def __init__(self, key_rate_t_1, delt_market_cred_portfolio, alpha_dict, \n",
    "                 cred_portfolio_t_1_dict, credit_vol_t_1, deposit_portfolio_t_1_dict,\n",
    "                 deposit_vol_t_1, start_balance, default_rate=0.01, pelast=0.2, \n",
    "                 k=0.3, N=12, target_inflat=4):\n",
    "        self.num_agents = N # общее число агентов\n",
    "        self.num_banks = N - 2 # число банков (=общее число агентов - ЦБ - ЧС)\n",
    "        self.key_rate_t_1 = key_rate_t_1 # предыдущая ключевая ставка (в %)<=обновл. в конце 2 раунда(key_rate_t_1 = key_rate_t)\n",
    "        self.key_rate_t = key_rate_t_1 # текущая ключевая ставка (в %)\n",
    "        self.k = k # коэффициент (для спреда) из формулы ключевой ставки \n",
    "        self.target_inflat = target_inflat # таргетная инфляция (в %)\n",
    "        self.delt_market_cred_portfolio = delt_market_cred_portfolio # прирост портфеля за прошлый период\n",
    "        self.default_rate = default_rate # доля дефолтных кредитов \n",
    "        self.pelast = pelast # эластичность частного сектора\n",
    "        self.start_balance = start_balance # стартовый баланс системы\n",
    "        \n",
    "        self.alpha_dict # словарь для альфа (коэффициентов надежности)\n",
    "        self.credit_rate_dict #\\/ словарь для кредитных ставок (получаем значения во 2м раунде после оптимизации?)\n",
    "        self.cred_portfolio_t_1_dict #\\/ словарь для объемов портфелей на t-1 \n",
    "                                    # <=обновл. в конце 2 раунда(cred_portfolio_t_1_dict = cred_portfolio_dict)\n",
    "                                    # нужен для СredPortfolio_(t-2) в BankProfit\n",
    "        self.cred_portfolio_dict # \\/ словарь для объемов портфелей на t\n",
    "        self.credit_vol_t_1 # объем кредитов на t-1 <=обновл. в конце 2 раунда(credit_vol_t_1 = credit_vol) \n",
    "                            # (нужен, чтобы посчитать CreditPortfolio при варьировании ставки на 2 шаге)\n",
    "        self.deposit_rate_dict # \\/ словарь для депозитных ставок (получаем значения во 2м раунде после оптимизации?)\n",
    "        self.deposit_portfolio_t_1_dict #\\/ словарь для объемов депозитных портфелей на t-1 \n",
    "                                    # <=обновл. в конце 2 раунда(deposit_portfolio_t_1_dict = deposit_portfolio_dict)\n",
    "                                    # нужен для DepositPortfolio_(t-2) в BankProfit\n",
    "        self.deposit_portfolio_dict # \\/ словарь для объемов депозитных портфелей на t\n",
    "        self.deposit_vol_t_1 # объем депозитов на t-1 <=обновл. в конце 2 раунда(deposit_vol_t_1 = deposit_vol) \n",
    "                            # (нужен, чтобы посчитать DepositPortfolio при варьировании ставки на 2 шаге)\n",
    "        \n",
    "        self.schedule = BaseScheduler(self) # добавим шедулер\n",
    "        \n",
    "        \n",
    "        # -----\n",
    "        self.pairwise = pairwise # режим взаимодействия\n",
    "        if self.pairwise == False:\n",
    "            self.mu /= (self.num_agents - 1)\n",
    "        \n",
    "        self.schedule = RandomActivation(self) # добавим шедулер\n",
    "        x_rand_gen = np.random.uniform(-1, 1, self.num_agents) # нагенерим рандомные x для инициализации агентов\n",
    "        p_pos_div_p_neg = (1 + self.delta) / (1 - self.delta) # отношение p+/p-, полученное при раскрытии модуля\n",
    "                                                              # в предположении, что положительных всегда не меньше\n",
    "        N_neg_extr = int((self.num_agents * self.p_e) / (1 + p_pos_div_p_neg)) # число отриц. экстр.\n",
    "        N_pos_extr = int(self.num_agents * self.p_e) - N_neg_extr # число полож. экстрем.\n",
    "                        # формулы вывел на бумаге, еще пользуюсь соображением, что их сумма есть общее число экстрем. \n",
    "            \n",
    "        idxs_neg_extr = np.argpartition(x_rand_gen, N_neg_extr)[:N_neg_extr] # объявляем в качестве экстрем. хвосты слева и справа\n",
    "        idxs_pos_extr = np.argpartition(x_rand_gen, -N_pos_extr)[-N_pos_extr:] # используя их числа, вычисленные ранее, \n",
    "                                                                               # находим индексы экстремистов в массиве мнений x\n",
    "        if self.pairwise: \n",
    "            self.made_step = [] # массив, куда будем закидывать тех, \n",
    "                                # кто поучаствовал на шаге в парном взаимодействии\n",
    "        else:\n",
    "            self.xs = [0 for _ in range(self.num_agents)] # списки для пересчитанных значений\n",
    "            self.us = [0 for _ in range(self.num_agents)]\n",
    "        # Инициализируем агентов и закидываем в шедулер\n",
    "        for i, x in enumerate(x_rand_gen):\n",
    "            if (i not in idxs_neg_extr) and (i not in idxs_pos_extr):  \n",
    "                a = CustomAgent(i, self, x, self.u)\n",
    "                self.schedule.add(a)\n",
    "            else:\n",
    "                a = CustomAgent(i, self, x, self.u_e, True)\n",
    "                self.schedule.add(a)\n",
    "                \n",
    "        self.datacollector = DataCollector(\n",
    "            agent_reporters={\"Opinions\": \"x\"}) # для сбора данных по прогону модели\n",
    "                \n",
    "    def step(self):\n",
    "        self.datacollector.collect(self)\n",
    "        self.schedule.step()\n",
    "        if self.pairwise:\n",
    "            self.made_step = []\n",
    "        else:\n",
    "            for a in self.schedule.agents:\n",
    "                a.x = self.xs[a.unique_id]\n",
    "                a.u = self.us[a.unique_id]\n",
    "            self.xs = [0 for _ in range(self.num_agents)]\n",
    "            self.us = [0 for _ in range(self.num_agents)]\n",
    "    \n",
    "    @staticmethod\n",
    "    def rate_quart_to_year(rate):\n",
    "        return ((1 + rate / 100) ** 4 - 1) * 100\n",
    "    \n",
    "    @staticmethod\n",
    "    def rate_year_to_quart(rate):\n",
    "        return ((1 + rate / 100) ** .25 - 1) * 100\n",
    "    \n",
    "    @staticmethod\n",
    "    def credit_vol_calc(x, elast, start_balance):\n",
    "        c = (10 * start_balance) * (mt.e ** (2 * elast))\n",
    "        return c * mt.exp(-elast * x) if x >=2 else 10 * start_balance\n",
    "    \n",
    "    @staticmethod\n",
    "    def sigm(x):\n",
    "        return 1 / (1 + mt.exp(-x))"
   ]
  },
  {
   "cell_type": "markdown",
   "id": "4bb90663",
   "metadata": {},
   "source": [
    "### Подготовим стартовые параметры для инициализации модели"
   ]
  },
  {
   "cell_type": "code",
   "execution_count": null,
   "id": "f1e0e8ff",
   "metadata": {
    "ExecuteTime": {
     "end_time": "2022-05-12T15:23:40.713315Z",
     "start_time": "2022-05-12T15:23:40.695284Z"
    }
   },
   "outputs": [],
   "source": []
  },
  {
   "cell_type": "code",
   "execution_count": 21,
   "id": "98b6ba53",
   "metadata": {
    "ExecuteTime": {
     "end_time": "2022-05-12T12:23:51.615938Z",
     "start_time": "2022-05-12T12:23:51.590018Z"
    }
   },
   "outputs": [
    {
     "data": {
      "text/plain": [
       "4.69"
      ]
     },
     "execution_count": 21,
     "metadata": {},
     "output_type": "execute_result"
    }
   ],
   "source": [
    "key_rate_t_1 = 8.5 # ключевая ставка, объявленная в \n",
    "                   # декабре 2021 (конец прошлого квартала)\n",
    "delt_market_cred_portfolio = round((df_cred_portf.iloc[:, 1].sum()\n",
    "                                    - df_cred_portf.iloc[:, 0].sum())\n",
    "                                    / df_cred_portf.iloc[:, 0].sum() * 100, 2)\n",
    "start_balance = df_cred_portf.iloc[:, 1].sum() # стартовый баланс как \n",
    "                                               # сумма кредитных портфелей (в конце прошлого квартала декабря 2021)\n",
    "alpha_dict = dict(zip(banks_of_interest_lst, np.linspace(0.8, 0.6, 10)))"
   ]
  },
  {
   "cell_type": "markdown",
   "id": "92d5599e",
   "metadata": {},
   "source": [
    "### Произведем запуск модели "
   ]
  },
  {
   "cell_type": "code",
   "execution_count": null,
   "id": "f05225a1",
   "metadata": {},
   "outputs": [],
   "source": [
    "model = BankSysModel(key_rate, delt_market_cred_portfolio, pelast,\n",
    "                     k=0.3, N=12, target_inflat=4)\n",
    "for i in range(40):\n",
    "    model.step()"
   ]
  },
  {
   "cell_type": "code",
   "execution_count": null,
   "id": "601ab940",
   "metadata": {},
   "outputs": [],
   "source": [
    "# opinion_data = model.datacollector.get_agent_vars_dataframe()\n",
    "# opinion_data.T.stack().T.plot(legend=False, figsize=(12,6))\n",
    "# plt.show()"
   ]
  },
  {
   "cell_type": "code",
   "execution_count": null,
   "id": "76ce14ee",
   "metadata": {},
   "outputs": [],
   "source": []
  },
  {
   "cell_type": "code",
   "execution_count": null,
   "id": "ac765f54",
   "metadata": {},
   "outputs": [],
   "source": []
  },
  {
   "cell_type": "code",
   "execution_count": null,
   "id": "ea3dda7c",
   "metadata": {},
   "outputs": [],
   "source": []
  },
  {
   "cell_type": "code",
   "execution_count": null,
   "id": "6d8eda1f",
   "metadata": {},
   "outputs": [],
   "source": []
  },
  {
   "cell_type": "code",
   "execution_count": null,
   "id": "30723e86",
   "metadata": {},
   "outputs": [],
   "source": []
  },
  {
   "cell_type": "code",
   "execution_count": null,
   "id": "f266177e",
   "metadata": {},
   "outputs": [],
   "source": []
  },
  {
   "cell_type": "code",
   "execution_count": null,
   "id": "c5fa0749",
   "metadata": {},
   "outputs": [],
   "source": []
  },
  {
   "cell_type": "code",
   "execution_count": null,
   "id": "9aef7006",
   "metadata": {},
   "outputs": [],
   "source": []
  },
  {
   "cell_type": "code",
   "execution_count": null,
   "id": "f59d16c5",
   "metadata": {},
   "outputs": [],
   "source": []
  },
  {
   "cell_type": "code",
   "execution_count": null,
   "id": "65d2cf6b",
   "metadata": {},
   "outputs": [],
   "source": []
  },
  {
   "cell_type": "code",
   "execution_count": null,
   "id": "942f4006",
   "metadata": {},
   "outputs": [],
   "source": []
  },
  {
   "cell_type": "code",
   "execution_count": null,
   "id": "e27235a5",
   "metadata": {},
   "outputs": [],
   "source": []
  },
  {
   "cell_type": "code",
   "execution_count": null,
   "id": "600f8a05",
   "metadata": {},
   "outputs": [],
   "source": []
  },
  {
   "cell_type": "code",
   "execution_count": null,
   "id": "87486add",
   "metadata": {},
   "outputs": [],
   "source": []
  },
  {
   "cell_type": "code",
   "execution_count": null,
   "id": "2e45b659",
   "metadata": {},
   "outputs": [],
   "source": []
  },
  {
   "cell_type": "code",
   "execution_count": null,
   "id": "7022a39d",
   "metadata": {},
   "outputs": [],
   "source": []
  },
  {
   "cell_type": "code",
   "execution_count": null,
   "id": "69d7c264",
   "metadata": {},
   "outputs": [],
   "source": []
  },
  {
   "cell_type": "code",
   "execution_count": null,
   "id": "6a6e1d64",
   "metadata": {},
   "outputs": [],
   "source": []
  },
  {
   "cell_type": "code",
   "execution_count": null,
   "id": "a431ffa9",
   "metadata": {},
   "outputs": [],
   "source": []
  }
 ],
 "metadata": {
  "kernelspec": {
   "display_name": "Python 3",
   "language": "python",
   "name": "python3"
  },
  "language_info": {
   "codemirror_mode": {
    "name": "ipython",
    "version": 3
   },
   "file_extension": ".py",
   "mimetype": "text/x-python",
   "name": "python",
   "nbconvert_exporter": "python",
   "pygments_lexer": "ipython3",
   "version": "3.8.8"
  }
 },
 "nbformat": 4,
 "nbformat_minor": 5
}
