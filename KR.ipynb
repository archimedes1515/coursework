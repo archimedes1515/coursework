{
 "cells": [
  {
   "cell_type": "markdown",
   "id": "34ae153a",
   "metadata": {
    "ExecuteTime": {
     "end_time": "2022-04-19T16:41:13.091261Z",
     "start_time": "2022-04-19T16:41:13.069033Z"
    }
   },
   "source": [
    "## Жерноклеев Дмитрий \n",
    "### Курсовая работа. "
   ]
  },
  {
   "cell_type": "markdown",
   "id": "4f6a0c0d",
   "metadata": {},
   "source": [
    "### Импортируем необходимые модули"
   ]
  },
  {
   "cell_type": "code",
   "execution_count": 1,
   "id": "f21b539e",
   "metadata": {
    "ExecuteTime": {
     "end_time": "2022-05-09T17:16:56.044416Z",
     "start_time": "2022-05-09T17:16:56.024421Z"
    }
   },
   "outputs": [],
   "source": [
    "# Агентное моделирование в Python можно реализовывать \n",
    "# с использованием модуля Mesa\n",
    "# !pip install mesa"
   ]
  },
  {
   "cell_type": "code",
   "execution_count": 2,
   "id": "31346703",
   "metadata": {
    "ExecuteTime": {
     "end_time": "2022-05-09T17:16:57.015368Z",
     "start_time": "2022-05-09T17:16:56.046414Z"
    }
   },
   "outputs": [],
   "source": [
    "import numpy as np\n",
    "import pandas as pd\n",
    "import matplotlib.pyplot as plt\n",
    "from mesa import Agent, Model # будем работать с модулем mesa\n",
    "from mesa.time import RandomActivation\n",
    "from mesa.time import BaseScheduler\n",
    "from mesa.space import MultiGrid\n",
    "from mesa.datacollection import DataCollector\n",
    "from mesa.batchrunner import BatchRunner\n",
    "from tqdm import tqdm\n",
    "import itertools\n",
    "import math as mt\n",
    "%matplotlib inline"
   ]
  },
  {
   "cell_type": "code",
   "execution_count": 3,
   "id": "7f6210b9",
   "metadata": {
    "ExecuteTime": {
     "end_time": "2022-05-09T17:16:57.335385Z",
     "start_time": "2022-05-09T17:16:57.034372Z"
    }
   },
   "outputs": [],
   "source": [
    "from scipy.optimize import minimize\n",
    "from scipy.optimize import Bounds\n",
    "from scipy.optimize import LinearConstraint"
   ]
  },
  {
   "cell_type": "code",
   "execution_count": null,
   "id": "906f27a8",
   "metadata": {},
   "outputs": [],
   "source": [
    "def read_func(f_name):\n",
    "    df = pd.read_csv(f_name, sep=';', index_col='Название банка', \n",
    "                                  skiprows=3, encoding='cp1251')\n",
    "    df = df.iloc[:, [4, 5]]\n",
    "    df.rename(columns={'Декабрь, 2021, тыс. рублей': '12.21, тыс.руб.', \n",
    "                        'Сентябрь, 2021, тыс. рублей': '09.21, тыс.руб.'}, inplace=True)\n",
    "    # print(df.head(10))\n",
    "    # print(df.shape)"
   ]
  },
  {
   "cell_type": "code",
   "execution_count": 4,
   "id": "ae5fdd1c",
   "metadata": {
    "ExecuteTime": {
     "end_time": "2022-05-09T17:16:57.383368Z",
     "start_time": "2022-05-09T17:16:57.341375Z"
    }
   },
   "outputs": [
    {
     "data": {
      "text/html": [
       "<div>\n",
       "<style scoped>\n",
       "    .dataframe tbody tr th:only-of-type {\n",
       "        vertical-align: middle;\n",
       "    }\n",
       "\n",
       "    .dataframe tbody tr th {\n",
       "        vertical-align: top;\n",
       "    }\n",
       "\n",
       "    .dataframe thead th {\n",
       "        text-align: right;\n",
       "    }\n",
       "</style>\n",
       "<table border=\"1\" class=\"dataframe\">\n",
       "  <thead>\n",
       "    <tr style=\"text-align: right;\">\n",
       "      <th></th>\n",
       "      <th>12.21, тыс.руб.</th>\n",
       "      <th>09.21, тыс.руб.</th>\n",
       "    </tr>\n",
       "    <tr>\n",
       "      <th>Название банка</th>\n",
       "      <th></th>\n",
       "      <th></th>\n",
       "    </tr>\n",
       "  </thead>\n",
       "  <tbody>\n",
       "    <tr>\n",
       "      <th>СберБанк</th>\n",
       "      <td>16 188 081 039,00</td>\n",
       "      <td>15 345 023 839,00</td>\n",
       "    </tr>\n",
       "    <tr>\n",
       "      <th>ВТБ</th>\n",
       "      <td>7 763 399 115,00</td>\n",
       "      <td>7 807 492 708,00</td>\n",
       "    </tr>\n",
       "    <tr>\n",
       "      <th>Газпромбанк</th>\n",
       "      <td>4 856 033 849,00</td>\n",
       "      <td>4 678 178 943,00</td>\n",
       "    </tr>\n",
       "    <tr>\n",
       "      <th>Альфа-Банк</th>\n",
       "      <td>2 513 740 158,00</td>\n",
       "      <td>2 306 976 222,00</td>\n",
       "    </tr>\n",
       "    <tr>\n",
       "      <th>Московский Кредитный Банк</th>\n",
       "      <td>2 424 648 519,00</td>\n",
       "      <td>2 208 405 585,00</td>\n",
       "    </tr>\n",
       "    <tr>\n",
       "      <th>Россельхозбанк</th>\n",
       "      <td>2 261 167 659,00</td>\n",
       "      <td>2 195 697 483,00</td>\n",
       "    </tr>\n",
       "    <tr>\n",
       "      <th>Национальный Клиринговый Центр</th>\n",
       "      <td>1 947 964 570,00</td>\n",
       "      <td>1 892 163 143,00</td>\n",
       "    </tr>\n",
       "    <tr>\n",
       "      <th>Банк Открытие</th>\n",
       "      <td>1 466 838 228,00</td>\n",
       "      <td>1 352 997 998,00</td>\n",
       "    </tr>\n",
       "    <tr>\n",
       "      <th>Траст</th>\n",
       "      <td>938 263 868,00</td>\n",
       "      <td>943 254 562,00</td>\n",
       "    </tr>\n",
       "    <tr>\n",
       "      <th>Совкомбанк</th>\n",
       "      <td>647 312 136,00</td>\n",
       "      <td>570 052 994,00</td>\n",
       "    </tr>\n",
       "  </tbody>\n",
       "</table>\n",
       "</div>"
      ],
      "text/plain": [
       "                                  12.21, тыс.руб.    09.21, тыс.руб.\n",
       "Название банка                                                      \n",
       "СберБанк                        16 188 081 039,00  15 345 023 839,00\n",
       "ВТБ                              7 763 399 115,00   7 807 492 708,00\n",
       "Газпромбанк                      4 856 033 849,00   4 678 178 943,00\n",
       "Альфа-Банк                       2 513 740 158,00   2 306 976 222,00\n",
       "Московский Кредитный Банк        2 424 648 519,00   2 208 405 585,00\n",
       "Россельхозбанк                   2 261 167 659,00   2 195 697 483,00\n",
       "Национальный Клиринговый Центр   1 947 964 570,00   1 892 163 143,00\n",
       "Банк Открытие                    1 466 838 228,00   1 352 997 998,00\n",
       "Траст                              938 263 868,00     943 254 562,00\n",
       "Совкомбанк                         647 312 136,00     570 052 994,00"
      ]
     },
     "execution_count": 4,
     "metadata": {},
     "output_type": "execute_result"
    }
   ],
   "source": [
    "df_firm_credits = pd.read_csv('credits_firms.csv', sep=';', index_col='Название банка', \n",
    "                              skiprows=3, encoding='cp1251')\n",
    "# df_firm_credits.head()\n",
    "df_firm_credits = df_firm_credits.iloc[:, [4, 5]]\n",
    "df_firm_credits.rename(columns={'Декабрь, 2021, тыс. рублей': '12.21, тыс.руб.', \n",
    "                                   'Сентябрь, 2021, тыс. рублей': '09.21, тыс.руб.'}, inplace=True)\n",
    "df_firm_credits.head(10)"
   ]
  },
  {
   "cell_type": "code",
   "execution_count": 5,
   "id": "941051fb",
   "metadata": {
    "ExecuteTime": {
     "end_time": "2022-05-09T17:16:59.447141Z",
     "start_time": "2022-05-09T17:16:59.414140Z"
    }
   },
   "outputs": [
    {
     "data": {
      "text/html": [
       "<div>\n",
       "<style scoped>\n",
       "    .dataframe tbody tr th:only-of-type {\n",
       "        vertical-align: middle;\n",
       "    }\n",
       "\n",
       "    .dataframe tbody tr th {\n",
       "        vertical-align: top;\n",
       "    }\n",
       "\n",
       "    .dataframe thead th {\n",
       "        text-align: right;\n",
       "    }\n",
       "</style>\n",
       "<table border=\"1\" class=\"dataframe\">\n",
       "  <thead>\n",
       "    <tr style=\"text-align: right;\">\n",
       "      <th></th>\n",
       "      <th>12.21, тыс.руб.</th>\n",
       "      <th>09.21, тыс.руб.</th>\n",
       "    </tr>\n",
       "    <tr>\n",
       "      <th>Название банка</th>\n",
       "      <th></th>\n",
       "      <th></th>\n",
       "    </tr>\n",
       "  </thead>\n",
       "  <tbody>\n",
       "    <tr>\n",
       "      <th>СберБанк</th>\n",
       "      <td>10 268 477 809,00</td>\n",
       "      <td>9 669 352 698,00</td>\n",
       "    </tr>\n",
       "    <tr>\n",
       "      <th>ВТБ</th>\n",
       "      <td>4 002 715 394,00</td>\n",
       "      <td>3 900 892 142,00</td>\n",
       "    </tr>\n",
       "    <tr>\n",
       "      <th>Альфа-Банк</th>\n",
       "      <td>1 236 427 053,00</td>\n",
       "      <td>1 132 705 702,00</td>\n",
       "    </tr>\n",
       "    <tr>\n",
       "      <th>Газпромбанк</th>\n",
       "      <td>700 541 953,00</td>\n",
       "      <td>724 134 355,00</td>\n",
       "    </tr>\n",
       "    <tr>\n",
       "      <th>Россельхозбанк</th>\n",
       "      <td>603 701 097,00</td>\n",
       "      <td>604 548 864,00</td>\n",
       "    </tr>\n",
       "    <tr>\n",
       "      <th>Тинькофф Банк</th>\n",
       "      <td>562 840 758,00</td>\n",
       "      <td>523 090 510,00</td>\n",
       "    </tr>\n",
       "    <tr>\n",
       "      <th>Банк Открытие</th>\n",
       "      <td>554 398 542,00</td>\n",
       "      <td>543 929 937,00</td>\n",
       "    </tr>\n",
       "    <tr>\n",
       "      <th>Росбанк</th>\n",
       "      <td>544 216 710,00</td>\n",
       "      <td>543 140 552,00</td>\n",
       "    </tr>\n",
       "    <tr>\n",
       "      <th>Совкомбанк</th>\n",
       "      <td>486 616 668,00</td>\n",
       "      <td>417 106 784,00</td>\n",
       "    </tr>\n",
       "    <tr>\n",
       "      <th>Почта Банк</th>\n",
       "      <td>425 157 423,00</td>\n",
       "      <td>423 438 794,00</td>\n",
       "    </tr>\n",
       "  </tbody>\n",
       "</table>\n",
       "</div>"
      ],
      "text/plain": [
       "                  12.21, тыс.руб.   09.21, тыс.руб.\n",
       "Название банка                                     \n",
       "СберБанк        10 268 477 809,00  9 669 352 698,00\n",
       "ВТБ              4 002 715 394,00  3 900 892 142,00\n",
       "Альфа-Банк       1 236 427 053,00  1 132 705 702,00\n",
       "Газпромбанк        700 541 953,00    724 134 355,00\n",
       "Россельхозбанк     603 701 097,00    604 548 864,00\n",
       "Тинькофф Банк      562 840 758,00    523 090 510,00\n",
       "Банк Открытие      554 398 542,00    543 929 937,00\n",
       "Росбанк            544 216 710,00    543 140 552,00\n",
       "Совкомбанк         486 616 668,00    417 106 784,00\n",
       "Почта Банк         425 157 423,00    423 438 794,00"
      ]
     },
     "execution_count": 5,
     "metadata": {},
     "output_type": "execute_result"
    }
   ],
   "source": [
    "df_individ_credits = pd.read_csv('credits_individ.csv', sep=';', index_col='Название банка', skiprows=3, encoding='cp1251')\n",
    "# df_individ_credits.head()\n",
    "df_individ_credits = df_individ_credits.iloc[:, [4, 5]]\n",
    "df_individ_credits.rename(columns={'Декабрь, 2021, тыс. рублей': '12.21, тыс.руб.', \n",
    "                                   'Сентябрь, 2021, тыс. рублей': '09.21, тыс.руб.'}, inplace=True)\n",
    "df_individ_credits.head(10)"
   ]
  },
  {
   "cell_type": "code",
   "execution_count": 6,
   "id": "1aed1767",
   "metadata": {
    "ExecuteTime": {
     "end_time": "2022-05-09T17:17:00.052645Z",
     "start_time": "2022-05-09T17:17:00.045648Z"
    }
   },
   "outputs": [
    {
     "data": {
      "text/plain": [
       "((362, 2), (362, 2))"
      ]
     },
     "execution_count": 6,
     "metadata": {},
     "output_type": "execute_result"
    }
   ],
   "source": [
    "df_firm_credits.shape, df_individ_credits.shape"
   ]
  },
  {
   "cell_type": "code",
   "execution_count": 7,
   "id": "b8328764",
   "metadata": {
    "ExecuteTime": {
     "end_time": "2022-05-09T17:17:01.317974Z",
     "start_time": "2022-05-09T17:17:01.284975Z"
    }
   },
   "outputs": [
    {
     "data": {
      "text/html": [
       "<div>\n",
       "<style scoped>\n",
       "    .dataframe tbody tr th:only-of-type {\n",
       "        vertical-align: middle;\n",
       "    }\n",
       "\n",
       "    .dataframe tbody tr th {\n",
       "        vertical-align: top;\n",
       "    }\n",
       "\n",
       "    .dataframe thead th {\n",
       "        text-align: right;\n",
       "    }\n",
       "</style>\n",
       "<table border=\"1\" class=\"dataframe\">\n",
       "  <thead>\n",
       "    <tr style=\"text-align: right;\">\n",
       "      <th></th>\n",
       "      <th>Dec 2021 cred portf</th>\n",
       "      <th>Sept 2021 cred portf</th>\n",
       "    </tr>\n",
       "    <tr>\n",
       "      <th>Название банка</th>\n",
       "      <th></th>\n",
       "      <th></th>\n",
       "    </tr>\n",
       "  </thead>\n",
       "  <tbody>\n",
       "    <tr>\n",
       "      <th>СберБанк</th>\n",
       "      <td>2.645656e+10</td>\n",
       "      <td>2.501438e+10</td>\n",
       "    </tr>\n",
       "    <tr>\n",
       "      <th>ВТБ</th>\n",
       "      <td>1.176611e+10</td>\n",
       "      <td>1.170838e+10</td>\n",
       "    </tr>\n",
       "    <tr>\n",
       "      <th>Газпромбанк</th>\n",
       "      <td>5.556576e+09</td>\n",
       "      <td>5.402313e+09</td>\n",
       "    </tr>\n",
       "    <tr>\n",
       "      <th>Альфа-Банк</th>\n",
       "      <td>3.750167e+09</td>\n",
       "      <td>3.439682e+09</td>\n",
       "    </tr>\n",
       "    <tr>\n",
       "      <th>Россельхозбанк</th>\n",
       "      <td>2.864869e+09</td>\n",
       "      <td>2.800246e+09</td>\n",
       "    </tr>\n",
       "    <tr>\n",
       "      <th>Московский Кредитный Банк</th>\n",
       "      <td>2.584704e+09</td>\n",
       "      <td>2.357967e+09</td>\n",
       "    </tr>\n",
       "    <tr>\n",
       "      <th>Банк Открытие</th>\n",
       "      <td>2.021237e+09</td>\n",
       "      <td>1.896928e+09</td>\n",
       "    </tr>\n",
       "    <tr>\n",
       "      <th>Национальный Клиринговый Центр</th>\n",
       "      <td>1.947965e+09</td>\n",
       "      <td>1.892163e+09</td>\n",
       "    </tr>\n",
       "    <tr>\n",
       "      <th>Совкомбанк</th>\n",
       "      <td>1.133929e+09</td>\n",
       "      <td>9.871598e+08</td>\n",
       "    </tr>\n",
       "    <tr>\n",
       "      <th>Райффайзенбанк</th>\n",
       "      <td>9.904486e+08</td>\n",
       "      <td>9.354995e+08</td>\n",
       "    </tr>\n",
       "    <tr>\n",
       "      <th>Траст</th>\n",
       "      <td>9.548309e+08</td>\n",
       "      <td>9.598468e+08</td>\n",
       "    </tr>\n",
       "    <tr>\n",
       "      <th>Росбанк</th>\n",
       "      <td>8.932515e+08</td>\n",
       "      <td>8.738260e+08</td>\n",
       "    </tr>\n",
       "    <tr>\n",
       "      <th>ЮниКредит Банк</th>\n",
       "      <td>6.733835e+08</td>\n",
       "      <td>6.672582e+08</td>\n",
       "    </tr>\n",
       "    <tr>\n",
       "      <th>Тинькофф Банк</th>\n",
       "      <td>6.102742e+08</td>\n",
       "      <td>5.630928e+08</td>\n",
       "    </tr>\n",
       "    <tr>\n",
       "      <th>Банк ДОМ.РФ</th>\n",
       "      <td>5.958252e+08</td>\n",
       "      <td>5.316023e+08</td>\n",
       "    </tr>\n",
       "    <tr>\n",
       "      <th>Россия</th>\n",
       "      <td>5.796087e+08</td>\n",
       "      <td>5.577111e+08</td>\n",
       "    </tr>\n",
       "    <tr>\n",
       "      <th>Банк «Санкт-Петербург»</th>\n",
       "      <td>5.249327e+08</td>\n",
       "      <td>4.970251e+08</td>\n",
       "    </tr>\n",
       "    <tr>\n",
       "      <th>Всероссийский Банк Развития Регионов</th>\n",
       "      <td>5.177082e+08</td>\n",
       "      <td>5.237415e+08</td>\n",
       "    </tr>\n",
       "    <tr>\n",
       "      <th>Почта Банк</th>\n",
       "      <td>4.267603e+08</td>\n",
       "      <td>4.250333e+08</td>\n",
       "    </tr>\n",
       "    <tr>\n",
       "      <th>Новикомбанк</th>\n",
       "      <td>4.006077e+08</td>\n",
       "      <td>4.366383e+08</td>\n",
       "    </tr>\n",
       "  </tbody>\n",
       "</table>\n",
       "</div>"
      ],
      "text/plain": [
       "                                      Dec 2021 cred portf  \\\n",
       "Название банка                                              \n",
       "СберБанк                                     2.645656e+10   \n",
       "ВТБ                                          1.176611e+10   \n",
       "Газпромбанк                                  5.556576e+09   \n",
       "Альфа-Банк                                   3.750167e+09   \n",
       "Россельхозбанк                               2.864869e+09   \n",
       "Московский Кредитный Банк                    2.584704e+09   \n",
       "Банк Открытие                                2.021237e+09   \n",
       "Национальный Клиринговый Центр               1.947965e+09   \n",
       "Совкомбанк                                   1.133929e+09   \n",
       "Райффайзенбанк                               9.904486e+08   \n",
       "Траст                                        9.548309e+08   \n",
       "Росбанк                                      8.932515e+08   \n",
       "ЮниКредит Банк                               6.733835e+08   \n",
       "Тинькофф Банк                                6.102742e+08   \n",
       "Банк ДОМ.РФ                                  5.958252e+08   \n",
       "Россия                                       5.796087e+08   \n",
       "Банк «Санкт-Петербург»                       5.249327e+08   \n",
       "Всероссийский Банк Развития Регионов         5.177082e+08   \n",
       "Почта Банк                                   4.267603e+08   \n",
       "Новикомбанк                                  4.006077e+08   \n",
       "\n",
       "                                      Sept 2021 cred portf  \n",
       "Название банка                                              \n",
       "СберБанк                                      2.501438e+10  \n",
       "ВТБ                                           1.170838e+10  \n",
       "Газпромбанк                                   5.402313e+09  \n",
       "Альфа-Банк                                    3.439682e+09  \n",
       "Россельхозбанк                                2.800246e+09  \n",
       "Московский Кредитный Банк                     2.357967e+09  \n",
       "Банк Открытие                                 1.896928e+09  \n",
       "Национальный Клиринговый Центр                1.892163e+09  \n",
       "Совкомбанк                                    9.871598e+08  \n",
       "Райффайзенбанк                                9.354995e+08  \n",
       "Траст                                         9.598468e+08  \n",
       "Росбанк                                       8.738260e+08  \n",
       "ЮниКредит Банк                                6.672582e+08  \n",
       "Тинькофф Банк                                 5.630928e+08  \n",
       "Банк ДОМ.РФ                                   5.316023e+08  \n",
       "Россия                                        5.577111e+08  \n",
       "Банк «Санкт-Петербург»                        4.970251e+08  \n",
       "Всероссийский Банк Развития Регионов          5.237415e+08  \n",
       "Почта Банк                                    4.250333e+08  \n",
       "Новикомбанк                                   4.366383e+08  "
      ]
     },
     "execution_count": 7,
     "metadata": {},
     "output_type": "execute_result"
    }
   ],
   "source": [
    "df_joined = df_firm_credits.join(df_individ_credits, how='inner', lsuffix=' фирмы', rsuffix=' физ.лица')\n",
    "for col in df_joined.columns:\n",
    "    df_joined[col] = df_joined[col].str.replace(' ', '')\n",
    "    df_joined[col] = df_joined[col].str.replace(',', '.').astype(float)\n",
    "df_joined['Dec 2021 cred portf'] = df_joined['12.21, тыс.руб. фирмы'] + df_joined['12.21, тыс.руб. физ.лица']\n",
    "df_joined['Sept 2021 cred portf'] = df_joined['09.21, тыс.руб. фирмы'] + df_joined['09.21, тыс.руб. физ.лица']\n",
    "df_cred_portf = df_joined[['Dec 2021 cred portf', 'Sept 2021 cred portf']]\\\n",
    "                        .sort_values('Dec 2021 cred portf', ascending=False)\n",
    "df_cred_portf.head(20)"
   ]
  },
  {
   "cell_type": "code",
   "execution_count": 9,
   "id": "e1f2b84c",
   "metadata": {
    "ExecuteTime": {
     "end_time": "2022-05-09T17:29:45.747556Z",
     "start_time": "2022-05-09T17:29:45.722557Z"
    }
   },
   "outputs": [
    {
     "data": {
      "text/html": [
       "<div>\n",
       "<style scoped>\n",
       "    .dataframe tbody tr th:only-of-type {\n",
       "        vertical-align: middle;\n",
       "    }\n",
       "\n",
       "    .dataframe tbody tr th {\n",
       "        vertical-align: top;\n",
       "    }\n",
       "\n",
       "    .dataframe thead th {\n",
       "        text-align: right;\n",
       "    }\n",
       "</style>\n",
       "<table border=\"1\" class=\"dataframe\">\n",
       "  <thead>\n",
       "    <tr style=\"text-align: right;\">\n",
       "      <th></th>\n",
       "      <th>Dec 2021 cred portf</th>\n",
       "      <th>Sept 2021 cred portf</th>\n",
       "    </tr>\n",
       "    <tr>\n",
       "      <th>Название банка</th>\n",
       "      <th></th>\n",
       "      <th></th>\n",
       "    </tr>\n",
       "  </thead>\n",
       "  <tbody>\n",
       "    <tr>\n",
       "      <th>СберБанк</th>\n",
       "      <td>2.645656e+10</td>\n",
       "      <td>2.501438e+10</td>\n",
       "    </tr>\n",
       "    <tr>\n",
       "      <th>ВТБ</th>\n",
       "      <td>1.176611e+10</td>\n",
       "      <td>1.170838e+10</td>\n",
       "    </tr>\n",
       "    <tr>\n",
       "      <th>Газпромбанк</th>\n",
       "      <td>5.556576e+09</td>\n",
       "      <td>5.402313e+09</td>\n",
       "    </tr>\n",
       "    <tr>\n",
       "      <th>Альфа-Банк</th>\n",
       "      <td>3.750167e+09</td>\n",
       "      <td>3.439682e+09</td>\n",
       "    </tr>\n",
       "    <tr>\n",
       "      <th>Россельхозбанк</th>\n",
       "      <td>2.864869e+09</td>\n",
       "      <td>2.800246e+09</td>\n",
       "    </tr>\n",
       "    <tr>\n",
       "      <th>Московский Кредитный Банк</th>\n",
       "      <td>2.584704e+09</td>\n",
       "      <td>2.357967e+09</td>\n",
       "    </tr>\n",
       "    <tr>\n",
       "      <th>Банк Открытие</th>\n",
       "      <td>2.021237e+09</td>\n",
       "      <td>1.896928e+09</td>\n",
       "    </tr>\n",
       "    <tr>\n",
       "      <th>Совкомбанк</th>\n",
       "      <td>1.133929e+09</td>\n",
       "      <td>9.871598e+08</td>\n",
       "    </tr>\n",
       "    <tr>\n",
       "      <th>Райффайзенбанк</th>\n",
       "      <td>9.904486e+08</td>\n",
       "      <td>9.354995e+08</td>\n",
       "    </tr>\n",
       "    <tr>\n",
       "      <th>Росбанк</th>\n",
       "      <td>8.932515e+08</td>\n",
       "      <td>8.738260e+08</td>\n",
       "    </tr>\n",
       "  </tbody>\n",
       "</table>\n",
       "</div>"
      ],
      "text/plain": [
       "                           Dec 2021 cred portf  Sept 2021 cred portf\n",
       "Название банка                                                      \n",
       "СберБанк                          2.645656e+10          2.501438e+10\n",
       "ВТБ                               1.176611e+10          1.170838e+10\n",
       "Газпромбанк                       5.556576e+09          5.402313e+09\n",
       "Альфа-Банк                        3.750167e+09          3.439682e+09\n",
       "Россельхозбанк                    2.864869e+09          2.800246e+09\n",
       "Московский Кредитный Банк         2.584704e+09          2.357967e+09\n",
       "Банк Открытие                     2.021237e+09          1.896928e+09\n",
       "Совкомбанк                        1.133929e+09          9.871598e+08\n",
       "Райффайзенбанк                    9.904486e+08          9.354995e+08\n",
       "Росбанк                           8.932515e+08          8.738260e+08"
      ]
     },
     "execution_count": 9,
     "metadata": {},
     "output_type": "execute_result"
    }
   ],
   "source": [
    "banks_of_interest_lst = ['СберБанк', 'ВТБ', 'Газпромбанк', 'Альфа-Банк', \n",
    "                     'Россельхозбанк', 'Московский Кредитный Банк',\n",
    "                    'Банк Открытие', 'Совкомбанк', 'Райффайзенбанк',\n",
    "                    'Росбанк']\n",
    "df_cred_portf = df_cred_portf.loc[banks_of_interest_lst]\n",
    "df_cred_portf"
   ]
  },
  {
   "cell_type": "code",
   "execution_count": null,
   "id": "0661e5b3",
   "metadata": {},
   "outputs": [],
   "source": []
  },
  {
   "cell_type": "code",
   "execution_count": null,
   "id": "1e11c668",
   "metadata": {},
   "outputs": [],
   "source": []
  },
  {
   "cell_type": "code",
   "execution_count": null,
   "id": "53cae483",
   "metadata": {},
   "outputs": [],
   "source": []
  },
  {
   "cell_type": "code",
   "execution_count": null,
   "id": "23251211",
   "metadata": {},
   "outputs": [],
   "source": []
  },
  {
   "cell_type": "code",
   "execution_count": null,
   "id": "29950225",
   "metadata": {},
   "outputs": [],
   "source": []
  },
  {
   "cell_type": "code",
   "execution_count": 27,
   "id": "070d7e95",
   "metadata": {
    "ExecuteTime": {
     "end_time": "2022-04-29T12:41:35.157253Z",
     "start_time": "2022-04-29T12:41:35.150290Z"
    }
   },
   "outputs": [],
   "source": [
    "def f(x):\n",
    "    elast = 0.2\n",
    "    k = (10 ** 13) * (mt.e ** (2 * elast))\n",
    "    return k * mt.exp(-elast * x) if x >=2 else 10 ** 13"
   ]
  },
  {
   "cell_type": "code",
   "execution_count": 28,
   "id": "593cca7b",
   "metadata": {
    "ExecuteTime": {
     "end_time": "2022-04-29T12:41:35.358706Z",
     "start_time": "2022-04-29T12:41:35.346639Z"
    }
   },
   "outputs": [],
   "source": [
    "x_arr = np.linspace(0, 40, 100)\n",
    "y_arr = list(map(f, x_arr))"
   ]
  },
  {
   "cell_type": "code",
   "execution_count": 29,
   "id": "fcab08cc",
   "metadata": {
    "ExecuteTime": {
     "end_time": "2022-04-29T12:41:36.160553Z",
     "start_time": "2022-04-29T12:41:35.756650Z"
    }
   },
   "outputs": [
    {
     "data": {
      "image/png": "[encoded data removed]",
      "text/plain": [
       "<Figure size 1080x576 with 1 Axes>"
      ]
     },
     "metadata": {
      "needs_background": "light"
     },
     "output_type": "display_data"
    }
   ],
   "source": [
    "plt.figure(figsize=(15, 8))\n",
    "plt.xlabel('Среднерыночная ставка по кредитам', fontsize=12)\n",
    "plt.ylabel('Объем кредитов в системе', fontsize=12)\n",
    "plt.title('График зависимости объема кредитования на рынке от среднерыночной ставки по кредитам', fontsize=14, weight='bold')\n",
    "plt.plot(x_arr, y_arr)\n",
    "plt.show()"
   ]
  },
  {
   "cell_type": "markdown",
   "id": "934f93ce",
   "metadata": {},
   "source": [
    "### Создадим класс для агентов нашей модели"
   ]
  },
  {
   "cell_type": "code",
   "execution_count": null,
   "id": "d4ab134b",
   "metadata": {},
   "outputs": [],
   "source": [
    "class BankSysAgent(Agent):\n",
    "    def __init__(self, unique_id, model, agent_type, name):\n",
    "        super().__init__(unique_id, model)\n",
    "        self.agent_type = agent_type # тип агента (ЦБ, банк, частный сектор (ЧС))\n",
    "        self.name = name # имя (название) агента\n",
    "    \n",
    "    def step(self):\n",
    "        if self.agent_type == 'CB': # описание шага для ЦБ (первый раунд)\n",
    "            # if self.model.step_num > 0: # счетчик шагов?\n",
    "            self.model.key_rate += self.model.k \n",
    "                                  * (self.model.rate_quart_to_year(\n",
    "                                      self.model.market_cred_portfolio_delt)\n",
    "                                       - self.model.target_inflat) # вычисление ключевой ставки\n",
    "        elif self.agent_type == 'Bank': # описание шага для банков (второй раунд)\n",
    "            pass        \n",
    "        else: # elif self.agent_type == 'PrivSect':\n",
    "            # if self.model.step_num > 0: # с\n",
    "            credit_rate_sum, deposit_rate_sum = 0, 0\n",
    "            for a in self.model.schedule.agents:\n",
    "                # if a.agent_type == 'Bank':\n",
    "                rate_sum += self.model.credit_rate_dict.get(a.name, 0) # a.rate     \n",
    "                deposit_rate_sum += self.model.deposit_rate_dict.get(a.name, 0)\n",
    "            mean_bank_credit_rate = rate_sum / self.model.num_banks # считаем среднерыночную ставку\n",
    "                                                                    # и объем взятых ЧС кредитов\n",
    "            self.model.credit_vol = self.model.credit_vol_calc(mean_bank_credit_rate,\n",
    "                                                                self.model.pelast, self.model.start_balance)\n",
    "            self.model.deposit_vol = self.model.credit_vol # полагаем объем депозитов = объему кредитов\n",
    "            for a in self.model.schedule.agents:\n",
    "                if a.agent_type == 'Bank':\n",
    "                    bank_credit_rate_spread = self.model.credit_rate_dict[a.name]\n",
    "                                              - (rate_sum - self.model.credit_rate_dict[a.name]) \n",
    "                                              / (self.model.num_banks - 1)\n",
    "                    cred_portfolio_delt = self.model.alpha_dict[a.name] \n",
    "                                         * self.model.credit_vol\n",
    "                                         * bank_credit_rate_spread\n",
    "                    self.model.cred_portfolio_dict[a.name] += cred_portfolio_delt\n",
    "                    \n",
    "                    bank_deposit_rate_spread = self.model.deposit_rate_dict[a.name]\n",
    "                                              - (deposit_rate_sum - self.model.deposit_rate_dict[a.name]) \n",
    "                                              / (self.model.num_banks - 1)\n",
    "                    deposit_portfolio_delt = self.model.alpha_dict[a.name] \n",
    "                                            * self.model.deposit_vol\n",
    "                                            * bank_deposit_rate_spread\n",
    "                    self.model.deposit_portfolio_dict[a.name] += deposit_portfolio_delt\n",
    "                    CBMoney = self.model.deposit_portfolio_dict[a.name] \n",
    "                             - self.model.cred_portfolio_dict[a.name]\n",
    "            \n",
    "        raise NotImplementedError    \n",
    "    "
   ]
  },
  {
   "cell_type": "markdown",
   "id": "f08f760c",
   "metadata": {},
   "source": [
    "### Также создадим класс собственно для самой модели"
   ]
  },
  {
   "cell_type": "code",
   "execution_count": null,
   "id": "37c6b34c",
   "metadata": {},
   "outputs": [],
   "source": [
    "class BankSysModel(Model):\n",
    "    def __init__(self, key_rate, market_cred_portfolio_delt, pelast,\n",
    "                 start_balance, k=0.3, N=12, target_inflat=4):\n",
    "        self.num_agents = N # общее число агентов\n",
    "        self.num_banks = N - 2 # число банков ( = общее число агентов - ЦБ - ЧС)\n",
    "        self.key_rate = key_rate # текущая ключевая ставка (в %)\n",
    "        self.k = k # коэффициент (для спреда) из формулы ключевой ставки \n",
    "        self.target_inflat = target_inflat # таргетная инфляция (в %)\n",
    "        self.market_cred_portfolio_delt = market_cred_portfolio_delt # прирост портфеля за прошлый период\n",
    "        self.pelast = pelast # эластичность частного сектора\n",
    "        self.start_balance = start_balance # стартовый баланс системы\n",
    "        \n",
    "        self.schedule = BaseScheduler(self) # добавим шедулер\n",
    "        \n",
    "        \n",
    "        # -----\n",
    "        self.pairwise = pairwise # режим взаимодействия\n",
    "        if self.pairwise == False:\n",
    "            self.mu /= (self.num_agents - 1)\n",
    "        \n",
    "        self.schedule = RandomActivation(self) # добавим шедулер\n",
    "        x_rand_gen = np.random.uniform(-1, 1, self.num_agents) # нагенерим рандомные x для инициализации агентов\n",
    "        p_pos_div_p_neg = (1 + self.delta) / (1 - self.delta) # отношение p+/p-, полученное при раскрытии модуля\n",
    "                                                              # в предположении, что положительных всегда не меньше\n",
    "        N_neg_extr = int((self.num_agents * self.p_e) / (1 + p_pos_div_p_neg)) # число отриц. экстр.\n",
    "        N_pos_extr = int(self.num_agents * self.p_e) - N_neg_extr # число полож. экстрем.\n",
    "                        # формулы вывел на бумаге, еще пользуюсь соображением, что их сумма есть общее число экстрем. \n",
    "            \n",
    "        idxs_neg_extr = np.argpartition(x_rand_gen, N_neg_extr)[:N_neg_extr] # объявляем в качестве экстрем. хвосты слева и справа\n",
    "        idxs_pos_extr = np.argpartition(x_rand_gen, -N_pos_extr)[-N_pos_extr:] # используя их числа, вычисленные ранее, \n",
    "                                                                               # находим индексы экстремистов в массиве мнений x\n",
    "        if self.pairwise: \n",
    "            self.made_step = [] # массив, куда будем закидывать тех, \n",
    "                                # кто поучаствовал на шаге в парном взаимодействии\n",
    "        else:\n",
    "            self.xs = [0 for _ in range(self.num_agents)] # списки для пересчитанных значений\n",
    "            self.us = [0 for _ in range(self.num_agents)]\n",
    "        # Инициализируем агентов и закидываем в шедулер\n",
    "        for i, x in enumerate(x_rand_gen):\n",
    "            if (i not in idxs_neg_extr) and (i not in idxs_pos_extr):  \n",
    "                a = CustomAgent(i, self, x, self.u)\n",
    "                self.schedule.add(a)\n",
    "            else:\n",
    "                a = CustomAgent(i, self, x, self.u_e, True)\n",
    "                self.schedule.add(a)\n",
    "                \n",
    "        self.datacollector = DataCollector(\n",
    "            agent_reporters={\"Opinions\": \"x\"}) # для сбора данных по прогону модели\n",
    "                \n",
    "    def step(self):\n",
    "        self.datacollector.collect(self)\n",
    "        self.schedule.step()\n",
    "        if self.pairwise:\n",
    "            self.made_step = []\n",
    "        else:\n",
    "            for a in self.schedule.agents:\n",
    "                a.x = self.xs[a.unique_id]\n",
    "                a.u = self.us[a.unique_id]\n",
    "            self.xs = [0 for _ in range(self.num_agents)]\n",
    "            self.us = [0 for _ in range(self.num_agents)]\n",
    "    \n",
    "    @staticmethod\n",
    "    def rate_quart_to_year(rate):\n",
    "        return ((1 + rate / 100) ** 4 - 1) * 100\n",
    "    \n",
    "    @staticmethod\n",
    "    def credit_vol_calc(x, elast, start_balance):\n",
    "        c = (10 * start_balance) * (mt.e ** (2 * elast))\n",
    "        return c * mt.exp(-elast * x) if x >=2 else 10 * start_balance"
   ]
  },
  {
   "cell_type": "markdown",
   "id": "92d5599e",
   "metadata": {},
   "source": [
    "### Произведем запуск модели "
   ]
  },
  {
   "cell_type": "code",
   "execution_count": null,
   "id": "f05225a1",
   "metadata": {},
   "outputs": [],
   "source": [
    "model = BankSysModel(key_rate, market_cred_portfolio_delt, pelast,\n",
    "                     k=0.3, N=12, target_inflat=4)\n",
    "for i in range(40):\n",
    "    model.step()"
   ]
  },
  {
   "cell_type": "code",
   "execution_count": null,
   "id": "601ab940",
   "metadata": {},
   "outputs": [],
   "source": [
    "# opinion_data = model.datacollector.get_agent_vars_dataframe()\n",
    "# opinion_data.T.stack().T.plot(legend=False, figsize=(12,6))\n",
    "# plt.show()"
   ]
  },
  {
   "cell_type": "code",
   "execution_count": null,
   "id": "76ce14ee",
   "metadata": {},
   "outputs": [],
   "source": []
  },
  {
   "cell_type": "code",
   "execution_count": null,
   "id": "ac765f54",
   "metadata": {},
   "outputs": [],
   "source": []
  },
  {
   "cell_type": "code",
   "execution_count": null,
   "id": "ea3dda7c",
   "metadata": {},
   "outputs": [],
   "source": []
  },
  {
   "cell_type": "code",
   "execution_count": null,
   "id": "6d8eda1f",
   "metadata": {},
   "outputs": [],
   "source": []
  },
  {
   "cell_type": "code",
   "execution_count": null,
   "id": "30723e86",
   "metadata": {},
   "outputs": [],
   "source": []
  },
  {
   "cell_type": "code",
   "execution_count": null,
   "id": "f266177e",
   "metadata": {},
   "outputs": [],
   "source": []
  },
  {
   "cell_type": "code",
   "execution_count": null,
   "id": "c5fa0749",
   "metadata": {},
   "outputs": [],
   "source": []
  },
  {
   "cell_type": "code",
   "execution_count": null,
   "id": "9aef7006",
   "metadata": {},
   "outputs": [],
   "source": []
  },
  {
   "cell_type": "code",
   "execution_count": null,
   "id": "f59d16c5",
   "metadata": {},
   "outputs": [],
   "source": []
  },
  {
   "cell_type": "code",
   "execution_count": null,
   "id": "65d2cf6b",
   "metadata": {},
   "outputs": [],
   "source": []
  },
  {
   "cell_type": "code",
   "execution_count": null,
   "id": "942f4006",
   "metadata": {},
   "outputs": [],
   "source": []
  },
  {
   "cell_type": "code",
   "execution_count": null,
   "id": "e27235a5",
   "metadata": {},
   "outputs": [],
   "source": []
  },
  {
   "cell_type": "code",
   "execution_count": null,
   "id": "600f8a05",
   "metadata": {},
   "outputs": [],
   "source": []
  },
  {
   "cell_type": "code",
   "execution_count": null,
   "id": "87486add",
   "metadata": {},
   "outputs": [],
   "source": []
  },
  {
   "cell_type": "code",
   "execution_count": null,
   "id": "2e45b659",
   "metadata": {},
   "outputs": [],
   "source": []
  },
  {
   "cell_type": "code",
   "execution_count": null,
   "id": "7022a39d",
   "metadata": {},
   "outputs": [],
   "source": []
  },
  {
   "cell_type": "code",
   "execution_count": null,
   "id": "69d7c264",
   "metadata": {},
   "outputs": [],
   "source": []
  },
  {
   "cell_type": "code",
   "execution_count": null,
   "id": "6a6e1d64",
   "metadata": {},
   "outputs": [],
   "source": []
  },
  {
   "cell_type": "code",
   "execution_count": null,
   "id": "a431ffa9",
   "metadata": {},
   "outputs": [],
   "source": []
  }
 ],
 "metadata": {
  "kernelspec": {
   "display_name": "Python 3",
   "language": "python",
   "name": "python3"
  },
  "language_info": {
   "codemirror_mode": {
    "name": "ipython",
    "version": 3
   },
   "file_extension": ".py",
   "mimetype": "text/x-python",
   "name": "python",
   "nbconvert_exporter": "python",
   "pygments_lexer": "ipython3",
   "version": "3.8.8"
  }
 },
 "nbformat": 4,
 "nbformat_minor": 5
}
